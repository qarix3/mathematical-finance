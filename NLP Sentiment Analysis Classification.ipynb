{
  "nbformat": 4,
  "nbformat_minor": 0,
  "metadata": {
    "colab": {
      "name": "NLP_Sentiment_Analysis_All Classification models.ipynb",
      "provenance": []
    },
    "kernelspec": {
      "name": "python3",
      "display_name": "Python 3"
    }
  },
  "cells": [
    {
      "cell_type": "code",
      "metadata": {
        "id": "Z5BGbEVhJVGb"
      },
      "source": [
        "import pandas as pd\n",
        "import numpy as np\n",
        "import matplotlib.pyplot as plt\n",
        "import sklearn"
      ],
      "execution_count": null,
      "outputs": []
    },
    {
      "cell_type": "code",
      "metadata": {
        "colab": {
          "base_uri": "https://localhost:8080/"
        },
        "id": "vE3YoPe-JYUt",
        "outputId": "690b61c5-ad5f-41d1-f3f6-09bf823c3541"
      },
      "source": [
        "from google.colab import drive\n",
        "drive.mount(\"/content/gdrive\")"
      ],
      "execution_count": null,
      "outputs": [
        {
          "output_type": "stream",
          "text": [
            "Mounted at /content/gdrive\n"
          ],
          "name": "stdout"
        }
      ]
    },
    {
      "cell_type": "code",
      "metadata": {
        "colab": {
          "base_uri": "https://localhost:8080/"
        },
        "id": "4BCRiV64Lbgd",
        "outputId": "a9fe83d6-b8a4-4536-a9f2-ae81b41f3406"
      },
      "source": [
        "ds=pd.read_csv(\"/content/gdrive/My Drive/Dataset/Restaurant_Reviews.tsv\" ,delimiter= '\\t',quoting=3)\n",
        "print(\"applying sentiment analysis on NLP using all classifiication model\")\n",
        "import re\n",
        "import nltk\n",
        "nltk.download('stopwords')\n",
        "from nltk.corpus import stopwords\n",
        "from nltk.stem.porter import PorterStemmer\n",
        "cleaned_review= list()\n",
        "for i in range (0,1000):\n",
        "    review= re.sub('[^a-zA-Z]', ' ', ds.iloc[i,0])\n",
        "    review= review.lower()\n",
        "    review= review.split()\n",
        "    ps=PorterStemmer()\n",
        "    all_stopwords= stopwords.words('english')\n",
        "    all_stopwords.remove('not')\n",
        "    review=[ps.stem(X) for X in review if not X in set (all_stopwords)]\n",
        "    review= ' '.join(review)\n",
        "    cleaned_review.append(review)"
      ],
      "execution_count": null,
      "outputs": [
        {
          "output_type": "stream",
          "text": [
            "applying sentiment analysis on NLP using all classifiication model\n",
            "[nltk_data] Downloading package stopwords to /root/nltk_data...\n",
            "[nltk_data]   Unzipping corpora/stopwords.zip.\n"
          ],
          "name": "stdout"
        }
      ]
    },
    {
      "cell_type": "code",
      "metadata": {
        "id": "ZY9qzXl4LfEq"
      },
      "source": [
        "from sklearn.feature_extraction.text import CountVectorizer\n",
        "c_v=CountVectorizer(max_features=1500)\n",
        "X=c_v.fit_transform(cleaned_review).toarray()\n",
        "y=ds.iloc[:,-1].values\n",
        "from sklearn.model_selection import train_test_split\n",
        "X_train,X_test,y_train,y_test= train_test_split(X,y,test_size=0.2,random_state=0)"
      ],
      "execution_count": null,
      "outputs": []
    },
    {
      "cell_type": "code",
      "metadata": {
        "colab": {
          "base_uri": "https://localhost:8080/"
        },
        "id": "0bowWNf_LjzG",
        "outputId": "64384cc1-86e6-4856-8a0c-fd062f713f8e"
      },
      "source": [
        "print(\"for Naive Bayes Classifier\")\n",
        "from sklearn.naive_bayes import GaussianNB\n",
        "classifier=GaussianNB()\n",
        "classifier.fit(X_train,y_train)\n",
        "y_pred=classifier.predict(X_test)\n",
        "from sklearn.metrics import confusion_matrix,accuracy_score\n",
        "cf=confusion_matrix(y_test,y_pred)\n",
        "print(\"the accuracy score for Naive Bayes\")\n",
        "accuracy_naive=accuracy_score(y_test,y_pred)\n",
        "print(accuracy_naive )"
      ],
      "execution_count": null,
      "outputs": [
        {
          "output_type": "stream",
          "text": [
            "for Naive Bayes Classifier\n",
            "the accuracy score for Naive Bayes\n",
            "0.73\n"
          ],
          "name": "stdout"
        }
      ]
    },
    {
      "cell_type": "code",
      "metadata": {
        "colab": {
          "base_uri": "https://localhost:8080/"
        },
        "id": "HfonwPlKLnU4",
        "outputId": "548d23bd-36bb-403a-be4c-63f96c684513"
      },
      "source": [
        "print(\"for logistic regression\")\n",
        "from sklearn.linear_model import LogisticRegression\n",
        "classifier=LogisticRegression(random_state=0)\n",
        "classifier.fit(X_train,y_train)\n",
        "y_pred=classifier.predict(X_test)\n",
        "from sklearn.metrics import confusion_matrix,accuracy_score\n",
        "cf=confusion_matrix(y_test,y_pred)\n",
        "print(\"the accuracy score for Logistic Regression\")\n",
        "accuracy_LR= accuracy_score(y_test,y_pred)\n",
        "print(accuracy_LR)"
      ],
      "execution_count": null,
      "outputs": [
        {
          "output_type": "stream",
          "text": [
            "for logistic regression\n",
            "the accuracy score for Logistic Regression\n",
            "0.775\n"
          ],
          "name": "stdout"
        }
      ]
    },
    {
      "cell_type": "code",
      "metadata": {
        "colab": {
          "base_uri": "https://localhost:8080/"
        },
        "id": "pRNrfpUILp9O",
        "outputId": "1f1e1d03-c4a1-4ba5-85c6-a215f24f80b4"
      },
      "source": [
        "print(\"for K-NN classifier\")\n",
        "from sklearn.neighbors import KNeighborsClassifier\n",
        "classifier=KNeighborsClassifier(n_neighbors=5,metric='minkowski',p=2)\n",
        "classifier.fit(X_train,y_train)\n",
        "y_pred=classifier.predict(X_test)\n",
        "from sklearn.metrics import confusion_matrix,accuracy_score\n",
        "cf=confusion_matrix(y_test,y_pred)\n",
        "print(\"the accuracy score for K-NN\")\n",
        "accuracy_KNN=accuracy_score(y_test,y_pred)\n",
        "print(accuracy_KNN)"
      ],
      "execution_count": null,
      "outputs": [
        {
          "output_type": "stream",
          "text": [
            "for K-NN classifier\n",
            "the accuracy score for K-NN\n",
            "0.66\n"
          ],
          "name": "stdout"
        }
      ]
    },
    {
      "cell_type": "code",
      "metadata": {
        "colab": {
          "base_uri": "https://localhost:8080/"
        },
        "id": "UqDHHWBYLtTr",
        "outputId": "09d7c36f-8f72-4d12-f861-4c0a33af11ff"
      },
      "source": [
        "print(\"for linear SVM \")\n",
        "from sklearn.svm import SVC\n",
        "classifier=SVC(kernel='linear', random_state=0)\n",
        "classifier.fit(X_train,y_train)\n",
        "y_pred=classifier.predict(X_test)\n",
        "from sklearn.metrics import confusion_matrix,accuracy_score\n",
        "cf=confusion_matrix(y_test,y_pred)\n",
        "print(\"the accuracy score for linear SVM\")\n",
        "accuracy_SVM=accuracy_score(y_test,y_pred)\n",
        "print(accuracy_SVM)"
      ],
      "execution_count": null,
      "outputs": [
        {
          "output_type": "stream",
          "text": [
            "for linear SVM \n",
            "the accuracy score for linear SVM\n",
            "0.79\n"
          ],
          "name": "stdout"
        }
      ]
    },
    {
      "cell_type": "code",
      "metadata": {
        "colab": {
          "base_uri": "https://localhost:8080/"
        },
        "id": "5eXn4aYmLx4w",
        "outputId": "7fb53619-3dbb-4dcc-f191-27743a6dfa99"
      },
      "source": [
        "print(\"for non-linear SVM \")\n",
        "from sklearn.svm import SVC\n",
        "classifier=SVC(kernel='rbf', random_state=0)\n",
        "classifier.fit(X_train,y_train)\n",
        "y_pred=classifier.predict(X_test)\n",
        "from sklearn.metrics import confusion_matrix,accuracy_score\n",
        "cf=confusion_matrix(y_test,y_pred)\n",
        "print(\"the accuracy score for linear SVM\")\n",
        "accuracy_nSVM=accuracy_score(y_test,y_pred)\n",
        "print(accuracy_nSVM)"
      ],
      "execution_count": null,
      "outputs": [
        {
          "output_type": "stream",
          "text": [
            "for non-linear SVM \n",
            "the accuracy score for linear SVM\n",
            "0.78\n"
          ],
          "name": "stdout"
        }
      ]
    },
    {
      "cell_type": "code",
      "metadata": {
        "colab": {
          "base_uri": "https://localhost:8080/"
        },
        "id": "g32z1NRZLy32",
        "outputId": "142fe40e-c0ca-4c34-e96a-4670c155d633"
      },
      "source": [
        "print(\"for Decision Tree \")\n",
        "from sklearn.tree import DecisionTreeClassifier\n",
        "classifier=DecisionTreeClassifier(criterion='entropy', random_state=0)\n",
        "classifier.fit(X_train,y_train)\n",
        "y_pred=classifier.predict(X_test)\n",
        "from sklearn.metrics import confusion_matrix,accuracy_score\n",
        "cf=confusion_matrix(y_test,y_pred)\n",
        "print(\"the accuracy score for Decision Tree\")\n",
        "accuracy_DT=accuracy_score(y_test,y_pred)\n",
        "print(accuracy_DT)"
      ],
      "execution_count": null,
      "outputs": [
        {
          "output_type": "stream",
          "text": [
            "for Decision Tree \n",
            "the accuracy score for Decision Tree\n",
            "0.75\n"
          ],
          "name": "stdout"
        }
      ]
    },
    {
      "cell_type": "code",
      "metadata": {
        "colab": {
          "base_uri": "https://localhost:8080/"
        },
        "id": "qFYqhgBiL2NT",
        "outputId": "7a30a27d-d0e6-4660-faa0-ed43e533c86d"
      },
      "source": [
        "print(\"for Random Forest\")\n",
        "from sklearn.ensemble import RandomForestClassifier\n",
        "classifier=RandomForestClassifier(n_estimators=10,criterion='entropy', random_state=0)\n",
        "classifier.fit(X_train,y_train)\n",
        "y_pred=classifier.predict(X_test)\n",
        "from sklearn.metrics import confusion_matrix,accuracy_score\n",
        "cf=confusion_matrix(y_test,y_pred)\n",
        "print(\"the accuracy score for Random Forest\")\n",
        "accuracy_RF=accuracy_score(y_test,y_pred)\n",
        "print(accuracy_RF)"
      ],
      "execution_count": null,
      "outputs": [
        {
          "output_type": "stream",
          "text": [
            "for Random Forest\n",
            "the accuracy score for Random Forest\n",
            "0.725\n"
          ],
          "name": "stdout"
        }
      ]
    },
    {
      "cell_type": "code",
      "metadata": {
        "colab": {
          "base_uri": "https://localhost:8080/"
        },
        "id": "SWD_qYcdL6h4",
        "outputId": "828bb97e-37e9-494c-c26b-c82cee4e4fbb"
      },
      "source": [
        "max_accuracy= max(accuracy_naive,accuracy_LR,accuracy_KNN,accuracy_SVM,accuracy_nSVM,accuracy_DT,accuracy_RF)\n",
        "print(max_accuracy)"
      ],
      "execution_count": null,
      "outputs": [
        {
          "output_type": "stream",
          "text": [
            "0.79\n"
          ],
          "name": "stdout"
        }
      ]
    }
  ]
}