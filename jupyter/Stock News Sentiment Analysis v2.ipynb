{
 "cells": [
  {
   "cell_type": "code",
   "execution_count": null,
   "metadata": {},
   "outputs": [],
   "source": [
    "import pandas as pd\n",
    "import numpy as np\n",
    "import tensorflow as tf\n",
    "import re\n",
    "from nltk.corpus import stopwords\n",
    "from sklearn.model_selection import train_test_split\n",
    "from sklearn.metrics import median_absolute_error as mae\n",
    "from sklearn.metrics import mean_squared_error as mse\n",
    "from sklearn.metrics import accuracy_score as acc\n",
    "import matplotlib.pyplot as plt\n",
    "\n",
    "from keras.models import Sequential\n",
    "from keras import initializers\n",
    "from keras.layers import Dropout, Activation, Embedding, Convolution1D, MaxPooling1D, Input, Dense, Merge, \\\n",
    "                         BatchNormalization, Flatten, Reshape, Concatenate\n",
    "from keras.layers.recurrent import LSTM, GRU\n",
    "from keras.callbacks import Callback, ModelCheckpoint, EarlyStopping, ReduceLROnPlateau\n",
    "from keras.models import Model\n",
    "from keras.optimizers import Adam, SGD, RMSprop\n",
    "from keras import regularizers"
   ]
  },
  {
   "cell_type": "code",
   "execution_count": 3,
   "metadata": {
    "collapsed": true
   },
   "outputs": [],
   "source": [
    "import datetime as dt\n",
    "import matplotlib.pyplot as plt\n",
    "from matplotlib import style\n",
    "import pandas as pd\n",
    "import pandas_datareader.data as web"
   ]
  },
  {
   "cell_type": "code",
   "execution_count": 3,
   "metadata": {
    "collapsed": true
   },
   "outputs": [],
   "source": [
    "style.use('ggplot')\n",
    "\n",
    "start = dt.datetime(2011, 1, 1)\n",
    "end = dt.datetime(2017, 10,31)"
   ]
  },
  {
   "cell_type": "code",
   "execution_count": 4,
   "metadata": {
    "collapsed": true
   },
   "outputs": [],
   "source": [
    "RIL = web.DataReader('RELIANCE.BO', \"yahoo\", start, end)\n"
   ]
  },
  {
   "cell_type": "code",
   "execution_count": 5,
   "metadata": {},
   "outputs": [
    {
     "data": {
      "text/html": [
       "<div>\n",
       "<style>\n",
       "    .dataframe thead tr:only-child th {\n",
       "        text-align: right;\n",
       "    }\n",
       "\n",
       "    .dataframe thead th {\n",
       "        text-align: left;\n",
       "    }\n",
       "\n",
       "    .dataframe tbody tr th {\n",
       "        vertical-align: top;\n",
       "    }\n",
       "</style>\n",
       "<table border=\"1\" class=\"dataframe\">\n",
       "  <thead>\n",
       "    <tr style=\"text-align: right;\">\n",
       "      <th></th>\n",
       "      <th>Open</th>\n",
       "      <th>High</th>\n",
       "      <th>Low</th>\n",
       "      <th>Close</th>\n",
       "      <th>Adj Close</th>\n",
       "      <th>Volume</th>\n",
       "    </tr>\n",
       "    <tr>\n",
       "      <th>Date</th>\n",
       "      <th></th>\n",
       "      <th></th>\n",
       "      <th></th>\n",
       "      <th></th>\n",
       "      <th></th>\n",
       "      <th></th>\n",
       "    </tr>\n",
       "  </thead>\n",
       "  <tbody>\n",
       "    <tr>\n",
       "      <th>2017-10-25</th>\n",
       "      <td>940.000000</td>\n",
       "      <td>945.750000</td>\n",
       "      <td>930.000000</td>\n",
       "      <td>939.950012</td>\n",
       "      <td>939.950012</td>\n",
       "      <td>448754.0</td>\n",
       "    </tr>\n",
       "    <tr>\n",
       "      <th>2017-10-26</th>\n",
       "      <td>938.349976</td>\n",
       "      <td>958.200012</td>\n",
       "      <td>931.500000</td>\n",
       "      <td>947.250000</td>\n",
       "      <td>947.250000</td>\n",
       "      <td>694575.0</td>\n",
       "    </tr>\n",
       "    <tr>\n",
       "      <th>2017-10-27</th>\n",
       "      <td>950.099976</td>\n",
       "      <td>956.500000</td>\n",
       "      <td>926.400024</td>\n",
       "      <td>929.450012</td>\n",
       "      <td>929.450012</td>\n",
       "      <td>4100930.0</td>\n",
       "    </tr>\n",
       "    <tr>\n",
       "      <th>2017-10-30</th>\n",
       "      <td>931.000000</td>\n",
       "      <td>945.000000</td>\n",
       "      <td>931.000000</td>\n",
       "      <td>940.150024</td>\n",
       "      <td>940.150024</td>\n",
       "      <td>435289.0</td>\n",
       "    </tr>\n",
       "    <tr>\n",
       "      <th>2017-10-31</th>\n",
       "      <td>943.000000</td>\n",
       "      <td>945.000000</td>\n",
       "      <td>932.099976</td>\n",
       "      <td>940.799988</td>\n",
       "      <td>940.799988</td>\n",
       "      <td>476464.0</td>\n",
       "    </tr>\n",
       "  </tbody>\n",
       "</table>\n",
       "</div>"
      ],
      "text/plain": [
       "                  Open        High         Low       Close   Adj Close  \\\n",
       "Date                                                                     \n",
       "2017-10-25  940.000000  945.750000  930.000000  939.950012  939.950012   \n",
       "2017-10-26  938.349976  958.200012  931.500000  947.250000  947.250000   \n",
       "2017-10-27  950.099976  956.500000  926.400024  929.450012  929.450012   \n",
       "2017-10-30  931.000000  945.000000  931.000000  940.150024  940.150024   \n",
       "2017-10-31  943.000000  945.000000  932.099976  940.799988  940.799988   \n",
       "\n",
       "               Volume  \n",
       "Date                   \n",
       "2017-10-25   448754.0  \n",
       "2017-10-26   694575.0  \n",
       "2017-10-27  4100930.0  \n",
       "2017-10-30   435289.0  \n",
       "2017-10-31   476464.0  "
      ]
     },
     "execution_count": 5,
     "metadata": {},
     "output_type": "execute_result"
    }
   ],
   "source": [
    "RIL.tail()"
   ]
  },
  {
   "cell_type": "code",
   "execution_count": 10,
   "metadata": {
    "collapsed": true
   },
   "outputs": [],
   "source": [
    "RIL.to_csv('Reliance1.csv')"
   ]
  },
  {
   "cell_type": "code",
   "execution_count": 6,
   "metadata": {
    "collapsed": true
   },
   "outputs": [],
   "source": [
    "df = pd.read_csv('Reliance1.csv', parse_dates=True, index_col=0)"
   ]
  },
  {
   "cell_type": "code",
   "execution_count": 7,
   "metadata": {},
   "outputs": [
    {
     "data": {
      "text/html": [
       "<div>\n",
       "<style>\n",
       "    .dataframe thead tr:only-child th {\n",
       "        text-align: right;\n",
       "    }\n",
       "\n",
       "    .dataframe thead th {\n",
       "        text-align: left;\n",
       "    }\n",
       "\n",
       "    .dataframe tbody tr th {\n",
       "        vertical-align: top;\n",
       "    }\n",
       "</style>\n",
       "<table border=\"1\" class=\"dataframe\">\n",
       "  <thead>\n",
       "    <tr style=\"text-align: right;\">\n",
       "      <th></th>\n",
       "      <th>Open</th>\n",
       "      <th>High</th>\n",
       "      <th>Low</th>\n",
       "      <th>Close</th>\n",
       "      <th>Adj Close</th>\n",
       "      <th>Volume</th>\n",
       "    </tr>\n",
       "    <tr>\n",
       "      <th>Date</th>\n",
       "      <th></th>\n",
       "      <th></th>\n",
       "      <th></th>\n",
       "      <th></th>\n",
       "      <th></th>\n",
       "      <th></th>\n",
       "    </tr>\n",
       "  </thead>\n",
       "  <tbody>\n",
       "    <tr>\n",
       "      <th>2011-01-03</th>\n",
       "      <td>531.000000</td>\n",
       "      <td>533.200012</td>\n",
       "      <td>526.099976</td>\n",
       "      <td>529.125000</td>\n",
       "      <td>459.736267</td>\n",
       "      <td>756798.0</td>\n",
       "    </tr>\n",
       "    <tr>\n",
       "      <th>2011-01-04</th>\n",
       "      <td>530.000000</td>\n",
       "      <td>539.400024</td>\n",
       "      <td>528.075012</td>\n",
       "      <td>538.275024</td>\n",
       "      <td>467.686401</td>\n",
       "      <td>1848602.0</td>\n",
       "    </tr>\n",
       "    <tr>\n",
       "      <th>2011-01-05</th>\n",
       "      <td>538.775024</td>\n",
       "      <td>545.000000</td>\n",
       "      <td>535.075012</td>\n",
       "      <td>538.275024</td>\n",
       "      <td>467.686401</td>\n",
       "      <td>2359952.0</td>\n",
       "    </tr>\n",
       "    <tr>\n",
       "      <th>2011-01-06</th>\n",
       "      <td>539.825012</td>\n",
       "      <td>544.500000</td>\n",
       "      <td>536.674988</td>\n",
       "      <td>542.000000</td>\n",
       "      <td>470.922852</td>\n",
       "      <td>1369672.0</td>\n",
       "    </tr>\n",
       "    <tr>\n",
       "      <th>2011-01-07</th>\n",
       "      <td>540.500000</td>\n",
       "      <td>543.799988</td>\n",
       "      <td>529.049988</td>\n",
       "      <td>532.450012</td>\n",
       "      <td>462.625244</td>\n",
       "      <td>1161154.0</td>\n",
       "    </tr>\n",
       "  </tbody>\n",
       "</table>\n",
       "</div>"
      ],
      "text/plain": [
       "                  Open        High         Low       Close   Adj Close  \\\n",
       "Date                                                                     \n",
       "2011-01-03  531.000000  533.200012  526.099976  529.125000  459.736267   \n",
       "2011-01-04  530.000000  539.400024  528.075012  538.275024  467.686401   \n",
       "2011-01-05  538.775024  545.000000  535.075012  538.275024  467.686401   \n",
       "2011-01-06  539.825012  544.500000  536.674988  542.000000  470.922852   \n",
       "2011-01-07  540.500000  543.799988  529.049988  532.450012  462.625244   \n",
       "\n",
       "               Volume  \n",
       "Date                   \n",
       "2011-01-03   756798.0  \n",
       "2011-01-04  1848602.0  \n",
       "2011-01-05  2359952.0  \n",
       "2011-01-06  1369672.0  \n",
       "2011-01-07  1161154.0  "
      ]
     },
     "execution_count": 7,
     "metadata": {},
     "output_type": "execute_result"
    }
   ],
   "source": [
    "df.head()"
   ]
  },
  {
   "cell_type": "code",
   "execution_count": 13,
   "metadata": {
    "collapsed": true
   },
   "outputs": [],
   "source": [
    "#visualize the data\n",
    "##plot the stocks' Open price, For the legend, use label parameter and plt.legend()"
   ]
  },
  {
   "cell_type": "code",
   "execution_count": 8,
   "metadata": {},
   "outputs": [
    {
     "data": {
      "image/png": "[encoded data removed]",
      "text/plain": [
       "<matplotlib.figure.Figure at 0x25539273f60>"
      ]
     },
     "metadata": {},
     "output_type": "display_data"
    }
   ],
   "source": [
    "RIL['Open'].plot(label='Reliance',figsize=(16,8),title='Open Price')\n",
    "plt.legend()\n",
    "plt.show();"
   ]
  },
  {
   "cell_type": "code",
   "execution_count": 9,
   "metadata": {},
   "outputs": [
    {
     "data": {
      "image/png": "[encoded data removed]",
      "text/plain": [
       "<matplotlib.figure.Figure at 0x255393c7470>"
      ]
     },
     "metadata": {},
     "output_type": "display_data"
    }
   ],
   "source": [
    "#Plot the Volume of stock traded each day.\n",
    "RIL['Volume'].plot(label='Reliance',figsize=(16,8),title='Volume Traded')\n",
    "plt.legend()\n",
    "plt.show();"
   ]
  },
  {
   "cell_type": "code",
   "execution_count": 16,
   "metadata": {
    "collapsed": true
   },
   "outputs": [],
   "source": [
    "#Interesting, looks like reliance had a really big spike somewhere in  2017. \n",
    "#What was the date of this maximum trading volume for Reliance?\n",
    "#What happened that day? "
   ]
  },
  {
   "cell_type": "code",
   "execution_count": 10,
   "metadata": {},
   "outputs": [
    {
     "data": {
      "text/plain": [
       "Timestamp('2017-03-09 00:00:00')"
      ]
     },
     "execution_count": 10,
     "metadata": {},
     "output_type": "execute_result"
    }
   ],
   "source": [
    "RIL['Volume'].argmax()"
   ]
  },
  {
   "cell_type": "code",
   "execution_count": 107,
   "metadata": {
    "collapsed": true
   },
   "outputs": [],
   "source": [
    "#What happened that day? \n",
    "# http://www.moneycontrol.com/news/business/companies/reliance-jios-grand-plan-capture-halfmarket-by-2021-1059355.html\n",
    "\n",
    "#Mar 09, 2017 05:23 PM IST | Source: Moneycontrol.com\n",
    "#Reliance Jio's grand plan: Capture half the market by 2021"
   ]
  },
  {
   "cell_type": "code",
   "execution_count": null,
   "metadata": {
    "collapsed": true
   },
   "outputs": [],
   "source": [
    "# we are going with the  total market cap of the company,\n",
    "#instead of the stock price or the volume traded.\n",
    "\n",
    "# Create a new column for each dataframe called \"Total Traded\" which is the\n",
    "# Open Price multiplied by the Volume Traded."
   ]
  },
  {
   "cell_type": "code",
   "execution_count": 11,
   "metadata": {
    "collapsed": true
   },
   "outputs": [],
   "source": [
    "RIL['Total Traded'] = RIL['Open']*RIL['Volume']"
   ]
  },
  {
   "cell_type": "code",
   "execution_count": 12,
   "metadata": {},
   "outputs": [
    {
     "data": {
      "image/png": "[encoded data removed]",
      "text/plain": [
       "<matplotlib.figure.Figure at 0x2553941df28>"
      ]
     },
     "metadata": {},
     "output_type": "display_data"
    }
   ],
   "source": [
    "#Plot this \"Total Traded\" against the time index.\n",
    "RIL['Total Traded'].plot(label='Reliance',figsize=(16,8))\n",
    "plt.legend()\n",
    "plt.ylabel('Total Traded')\n",
    "plt.show();"
   ]
  },
  {
   "cell_type": "code",
   "execution_count": 13,
   "metadata": {},
   "outputs": [
    {
     "data": {
      "text/plain": [
       "Timestamp('2017-03-09 00:00:00')"
      ]
     },
     "execution_count": 13,
     "metadata": {},
     "output_type": "execute_result"
    }
   ],
   "source": [
    "RIL['Total Traded'].argmax()"
   ]
  },
  {
   "cell_type": "code",
   "execution_count": null,
   "metadata": {
    "collapsed": true
   },
   "outputs": [],
   "source": [
    "#huge amount of money traded for Reliance in 'March 2017"
   ]
  },
  {
   "cell_type": "code",
   "execution_count": null,
   "metadata": {
    "collapsed": true
   },
   "outputs": [],
   "source": [
    "#plotting out some MA (Moving Averages). Plot out the MA50 and MA200 for Reliance."
   ]
  },
  {
   "cell_type": "code",
   "execution_count": 14,
   "metadata": {
    "collapsed": true
   },
   "outputs": [],
   "source": [
    "RIL['MA50'] = RIL['Open'].rolling(50).mean()\n",
    "RIL['MA200'] = RIL['Open'].rolling(200).mean()"
   ]
  },
  {
   "cell_type": "code",
   "execution_count": 15,
   "metadata": {},
   "outputs": [
    {
     "data": {
      "image/png": "[encoded data removed]",
      "text/plain": [
       "<matplotlib.figure.Figure at 0x25539675588>"
      ]
     },
     "metadata": {},
     "output_type": "display_data"
    }
   ],
   "source": [
    "RIL[['Open','MA50','MA200']].plot(label='Reliance',figsize=(16,8))\n",
    "plt.show();"
   ]
  },
  {
   "cell_type": "code",
   "execution_count": null,
   "metadata": {
    "collapsed": true
   },
   "outputs": [],
   "source": [
    "#Create a CandleStick chart for Reliance in March 2017\n",
    "#(too many dates won't look good for a candlestick chart)"
   ]
  },
  {
   "cell_type": "code",
   "execution_count": 19,
   "metadata": {
    "collapsed": true
   },
   "outputs": [],
   "source": [
    "from matplotlib.finance import candlestick_ohlc\n",
    "from matplotlib.dates import DateFormatter, date2num, WeekdayLocator, DayLocator, MONDAY"
   ]
  },
  {
   "cell_type": "code",
   "execution_count": 20,
   "metadata": {
    "collapsed": true
   },
   "outputs": [],
   "source": [
    "# Rest the index to get a column of January Dates\n",
    "RIL_reset = RIL.loc['2017-03':'2017-03'].reset_index()"
   ]
  },
  {
   "cell_type": "code",
   "execution_count": 21,
   "metadata": {
    "collapsed": true
   },
   "outputs": [],
   "source": [
    "# Create a new column of numerical \"date\" values for matplotlib to use\n",
    "RIL_reset['date_ax'] = RIL_reset['Date'].apply(lambda date: date2num(date))\n",
    "RIL_values = [tuple(vals) for vals in RIL_reset[['date_ax', 'Open', 'High', 'Low', 'Close']].values]"
   ]
  },
  {
   "cell_type": "code",
   "execution_count": 22,
   "metadata": {
    "collapsed": true
   },
   "outputs": [],
   "source": [
    "mondays = WeekdayLocator(MONDAY)        # major ticks on the mondays\n",
    "alldays = DayLocator()              # minor ticks on the days\n",
    "weekFormatter = DateFormatter('%b %d')  # e.g., march 17\n",
    "dayFormatter = DateFormatter('%d')      # e.g., 17\n"
   ]
  },
  {
   "cell_type": "code",
   "execution_count": 23,
   "metadata": {},
   "outputs": [
    {
     "data": {
      "image/png": "[encoded data removed]",
      "text/plain": [
       "<matplotlib.figure.Figure at 0x25539be2c88>"
      ]
     },
     "metadata": {},
     "output_type": "display_data"
    }
   ],
   "source": [
    "fig, ax = plt.subplots()\n",
    "fig.subplots_adjust(bottom=0.2)\n",
    "ax.xaxis.set_major_locator(mondays)\n",
    "ax.xaxis.set_minor_locator(alldays)\n",
    "ax.xaxis.set_major_formatter(weekFormatter)\n",
    "\n",
    "candlestick_ohlc(ax, RIL_values, width=0.6, colorup='g',colordown='r');\n",
    "plt.show();"
   ]
  },
  {
   "cell_type": "code",
   "execution_count": null,
   "metadata": {
    "collapsed": true
   },
   "outputs": [],
   "source": [
    "# Financial Analysis\n",
    "\n",
    "#Create a new column for each dataframe called returns. \n",
    "#This column will be calculated from the Close price column.\n",
    "#There are two ways to do this, either a simple calculation using the .shift() method \n",
    "#that follows the formula above, or you can also use pandas' built in pct_change method. "
   ]
  },
  {
   "cell_type": "code",
   "execution_count": null,
   "metadata": {
    "collapsed": true
   },
   "outputs": [],
   "source": [
    "#Daily Percentage Change\n",
    "#First we will begin by calculating the daily percentage change. \n",
    "#Daily percentage change is defined by the following formula:\n",
    "\n",
    "#rt=(todayprice/previousdayprice)-1\n",
    "\n",
    "#This defines r_t (return at time t) as equal to the price at time t divided by the price at \n",
    "#time t-1 (the previous day) minus 1.Basically this just informs you of your percent gain\n",
    "#(or loss) if you bought the stock on day and then sold it the next day.\n",
    "#While this isn't necessarily helpful for attempting to predict future values of the stock, \n",
    "#its very helpful in analyzing the volatility of the stock. If daily returns have a wide distribution, \n",
    "#the stock is more volatile from one day to the next.Let's calculate the percent returns and then plot \n",
    "#them with a histogram, and decide which stock is the most stable!"
   ]
  },
  {
   "cell_type": "code",
   "execution_count": 24,
   "metadata": {
    "collapsed": true
   },
   "outputs": [],
   "source": [
    "# Method 1: Using shift\n",
    "RIL['returns'] = (RIL['Close'] / RIL['Close'].shift(1) ) - 1"
   ]
  },
  {
   "cell_type": "code",
   "execution_count": 25,
   "metadata": {},
   "outputs": [
    {
     "data": {
      "text/html": [
       "<div>\n",
       "<style>\n",
       "    .dataframe thead tr:only-child th {\n",
       "        text-align: right;\n",
       "    }\n",
       "\n",
       "    .dataframe thead th {\n",
       "        text-align: left;\n",
       "    }\n",
       "\n",
       "    .dataframe tbody tr th {\n",
       "        vertical-align: top;\n",
       "    }\n",
       "</style>\n",
       "<table border=\"1\" class=\"dataframe\">\n",
       "  <thead>\n",
       "    <tr style=\"text-align: right;\">\n",
       "      <th></th>\n",
       "      <th>Open</th>\n",
       "      <th>High</th>\n",
       "      <th>Low</th>\n",
       "      <th>Close</th>\n",
       "      <th>Adj Close</th>\n",
       "      <th>Volume</th>\n",
       "      <th>Total Traded</th>\n",
       "      <th>MA50</th>\n",
       "      <th>MA200</th>\n",
       "      <th>returns</th>\n",
       "    </tr>\n",
       "    <tr>\n",
       "      <th>Date</th>\n",
       "      <th></th>\n",
       "      <th></th>\n",
       "      <th></th>\n",
       "      <th></th>\n",
       "      <th></th>\n",
       "      <th></th>\n",
       "      <th></th>\n",
       "      <th></th>\n",
       "      <th></th>\n",
       "      <th></th>\n",
       "    </tr>\n",
       "  </thead>\n",
       "  <tbody>\n",
       "    <tr>\n",
       "      <th>2017-10-25</th>\n",
       "      <td>940.000000</td>\n",
       "      <td>945.750000</td>\n",
       "      <td>930.000000</td>\n",
       "      <td>939.950012</td>\n",
       "      <td>939.950012</td>\n",
       "      <td>448754.0</td>\n",
       "      <td>4.218288e+08</td>\n",
       "      <td>824.597501</td>\n",
       "      <td>697.343002</td>\n",
       "      <td>0.005563</td>\n",
       "    </tr>\n",
       "    <tr>\n",
       "      <th>2017-10-26</th>\n",
       "      <td>938.349976</td>\n",
       "      <td>958.200012</td>\n",
       "      <td>931.500000</td>\n",
       "      <td>947.250000</td>\n",
       "      <td>947.250000</td>\n",
       "      <td>694575.0</td>\n",
       "      <td>6.517544e+08</td>\n",
       "      <td>827.385001</td>\n",
       "      <td>699.324377</td>\n",
       "      <td>0.007766</td>\n",
       "    </tr>\n",
       "    <tr>\n",
       "      <th>2017-10-27</th>\n",
       "      <td>950.099976</td>\n",
       "      <td>956.500000</td>\n",
       "      <td>926.400024</td>\n",
       "      <td>929.450012</td>\n",
       "      <td>929.450012</td>\n",
       "      <td>4100930.0</td>\n",
       "      <td>3.896293e+09</td>\n",
       "      <td>830.838000</td>\n",
       "      <td>701.344502</td>\n",
       "      <td>-0.018791</td>\n",
       "    </tr>\n",
       "    <tr>\n",
       "      <th>2017-10-30</th>\n",
       "      <td>931.000000</td>\n",
       "      <td>945.000000</td>\n",
       "      <td>931.000000</td>\n",
       "      <td>940.150024</td>\n",
       "      <td>940.150024</td>\n",
       "      <td>435289.0</td>\n",
       "      <td>4.052541e+08</td>\n",
       "      <td>833.893000</td>\n",
       "      <td>703.317002</td>\n",
       "      <td>0.011512</td>\n",
       "    </tr>\n",
       "    <tr>\n",
       "      <th>2017-10-31</th>\n",
       "      <td>943.000000</td>\n",
       "      <td>945.000000</td>\n",
       "      <td>932.099976</td>\n",
       "      <td>940.799988</td>\n",
       "      <td>940.799988</td>\n",
       "      <td>476464.0</td>\n",
       "      <td>4.493056e+08</td>\n",
       "      <td>837.021500</td>\n",
       "      <td>705.343752</td>\n",
       "      <td>0.000691</td>\n",
       "    </tr>\n",
       "  </tbody>\n",
       "</table>\n",
       "</div>"
      ],
      "text/plain": [
       "                  Open        High         Low       Close   Adj Close  \\\n",
       "Date                                                                     \n",
       "2017-10-25  940.000000  945.750000  930.000000  939.950012  939.950012   \n",
       "2017-10-26  938.349976  958.200012  931.500000  947.250000  947.250000   \n",
       "2017-10-27  950.099976  956.500000  926.400024  929.450012  929.450012   \n",
       "2017-10-30  931.000000  945.000000  931.000000  940.150024  940.150024   \n",
       "2017-10-31  943.000000  945.000000  932.099976  940.799988  940.799988   \n",
       "\n",
       "               Volume  Total Traded        MA50       MA200   returns  \n",
       "Date                                                                   \n",
       "2017-10-25   448754.0  4.218288e+08  824.597501  697.343002  0.005563  \n",
       "2017-10-26   694575.0  6.517544e+08  827.385001  699.324377  0.007766  \n",
       "2017-10-27  4100930.0  3.896293e+09  830.838000  701.344502 -0.018791  \n",
       "2017-10-30   435289.0  4.052541e+08  833.893000  703.317002  0.011512  \n",
       "2017-10-31   476464.0  4.493056e+08  837.021500  705.343752  0.000691  "
      ]
     },
     "execution_count": 25,
     "metadata": {},
     "output_type": "execute_result"
    }
   ],
   "source": [
    "RIL.tail()"
   ]
  },
  {
   "cell_type": "code",
   "execution_count": 26,
   "metadata": {
    "collapsed": true
   },
   "outputs": [],
   "source": [
    "RIL['returns'] = RIL['Close'].pct_change(1)"
   ]
  },
  {
   "cell_type": "code",
   "execution_count": 27,
   "metadata": {},
   "outputs": [
    {
     "data": {
      "text/html": [
       "<div>\n",
       "<style>\n",
       "    .dataframe thead tr:only-child th {\n",
       "        text-align: right;\n",
       "    }\n",
       "\n",
       "    .dataframe thead th {\n",
       "        text-align: left;\n",
       "    }\n",
       "\n",
       "    .dataframe tbody tr th {\n",
       "        vertical-align: top;\n",
       "    }\n",
       "</style>\n",
       "<table border=\"1\" class=\"dataframe\">\n",
       "  <thead>\n",
       "    <tr style=\"text-align: right;\">\n",
       "      <th></th>\n",
       "      <th>Open</th>\n",
       "      <th>High</th>\n",
       "      <th>Low</th>\n",
       "      <th>Close</th>\n",
       "      <th>Adj Close</th>\n",
       "      <th>Volume</th>\n",
       "      <th>Total Traded</th>\n",
       "      <th>MA50</th>\n",
       "      <th>MA200</th>\n",
       "      <th>returns</th>\n",
       "    </tr>\n",
       "    <tr>\n",
       "      <th>Date</th>\n",
       "      <th></th>\n",
       "      <th></th>\n",
       "      <th></th>\n",
       "      <th></th>\n",
       "      <th></th>\n",
       "      <th></th>\n",
       "      <th></th>\n",
       "      <th></th>\n",
       "      <th></th>\n",
       "      <th></th>\n",
       "    </tr>\n",
       "  </thead>\n",
       "  <tbody>\n",
       "    <tr>\n",
       "      <th>2017-10-25</th>\n",
       "      <td>940.000000</td>\n",
       "      <td>945.750000</td>\n",
       "      <td>930.000000</td>\n",
       "      <td>939.950012</td>\n",
       "      <td>939.950012</td>\n",
       "      <td>448754.0</td>\n",
       "      <td>4.218288e+08</td>\n",
       "      <td>824.597501</td>\n",
       "      <td>697.343002</td>\n",
       "      <td>0.005563</td>\n",
       "    </tr>\n",
       "    <tr>\n",
       "      <th>2017-10-26</th>\n",
       "      <td>938.349976</td>\n",
       "      <td>958.200012</td>\n",
       "      <td>931.500000</td>\n",
       "      <td>947.250000</td>\n",
       "      <td>947.250000</td>\n",
       "      <td>694575.0</td>\n",
       "      <td>6.517544e+08</td>\n",
       "      <td>827.385001</td>\n",
       "      <td>699.324377</td>\n",
       "      <td>0.007766</td>\n",
       "    </tr>\n",
       "    <tr>\n",
       "      <th>2017-10-27</th>\n",
       "      <td>950.099976</td>\n",
       "      <td>956.500000</td>\n",
       "      <td>926.400024</td>\n",
       "      <td>929.450012</td>\n",
       "      <td>929.450012</td>\n",
       "      <td>4100930.0</td>\n",
       "      <td>3.896293e+09</td>\n",
       "      <td>830.838000</td>\n",
       "      <td>701.344502</td>\n",
       "      <td>-0.018791</td>\n",
       "    </tr>\n",
       "    <tr>\n",
       "      <th>2017-10-30</th>\n",
       "      <td>931.000000</td>\n",
       "      <td>945.000000</td>\n",
       "      <td>931.000000</td>\n",
       "      <td>940.150024</td>\n",
       "      <td>940.150024</td>\n",
       "      <td>435289.0</td>\n",
       "      <td>4.052541e+08</td>\n",
       "      <td>833.893000</td>\n",
       "      <td>703.317002</td>\n",
       "      <td>0.011512</td>\n",
       "    </tr>\n",
       "    <tr>\n",
       "      <th>2017-10-31</th>\n",
       "      <td>943.000000</td>\n",
       "      <td>945.000000</td>\n",
       "      <td>932.099976</td>\n",
       "      <td>940.799988</td>\n",
       "      <td>940.799988</td>\n",
       "      <td>476464.0</td>\n",
       "      <td>4.493056e+08</td>\n",
       "      <td>837.021500</td>\n",
       "      <td>705.343752</td>\n",
       "      <td>0.000691</td>\n",
       "    </tr>\n",
       "  </tbody>\n",
       "</table>\n",
       "</div>"
      ],
      "text/plain": [
       "                  Open        High         Low       Close   Adj Close  \\\n",
       "Date                                                                     \n",
       "2017-10-25  940.000000  945.750000  930.000000  939.950012  939.950012   \n",
       "2017-10-26  938.349976  958.200012  931.500000  947.250000  947.250000   \n",
       "2017-10-27  950.099976  956.500000  926.400024  929.450012  929.450012   \n",
       "2017-10-30  931.000000  945.000000  931.000000  940.150024  940.150024   \n",
       "2017-10-31  943.000000  945.000000  932.099976  940.799988  940.799988   \n",
       "\n",
       "               Volume  Total Traded        MA50       MA200   returns  \n",
       "Date                                                                   \n",
       "2017-10-25   448754.0  4.218288e+08  824.597501  697.343002  0.005563  \n",
       "2017-10-26   694575.0  6.517544e+08  827.385001  699.324377  0.007766  \n",
       "2017-10-27  4100930.0  3.896293e+09  830.838000  701.344502 -0.018791  \n",
       "2017-10-30   435289.0  4.052541e+08  833.893000  703.317002  0.011512  \n",
       "2017-10-31   476464.0  4.493056e+08  837.021500  705.343752  0.000691  "
      ]
     },
     "execution_count": 27,
     "metadata": {},
     "output_type": "execute_result"
    }
   ],
   "source": [
    "RIL.tail()"
   ]
  },
  {
   "cell_type": "code",
   "execution_count": null,
   "metadata": {
    "collapsed": true
   },
   "outputs": [],
   "source": [
    "#Now plot a histogram of the return to view the volatilty of the stocks."
   ]
  },
  {
   "cell_type": "code",
   "execution_count": 28,
   "metadata": {},
   "outputs": [
    {
     "data": {
      "image/png": "[encoded data removed]",
      "text/plain": [
       "<matplotlib.figure.Figure at 0x255396c3ba8>"
      ]
     },
     "metadata": {},
     "output_type": "display_data"
    }
   ],
   "source": [
    "RIL['returns'].hist(bins=50)\n",
    "plt.show()\n"
   ]
  },
  {
   "cell_type": "code",
   "execution_count": 29,
   "metadata": {},
   "outputs": [
    {
     "data": {
      "image/png": "[encoded data removed]",
      "text/plain": [
       "<matplotlib.figure.Figure at 0x25539717320>"
      ]
     },
     "metadata": {},
     "output_type": "display_data"
    }
   ],
   "source": [
    "#plotting a KDE instead of histogram to ggain another view point\n",
    "RIL['returns'].plot(kind='kde',label='Reliance',figsize=(12,6))\n",
    "plt.show()"
   ]
  },
  {
   "cell_type": "code",
   "execution_count": 30,
   "metadata": {},
   "outputs": [
    {
     "data": {
      "image/png": "[encoded data removed]",
      "text/plain": [
       "<matplotlib.figure.Figure at 0x255399c30b8>"
      ]
     },
     "metadata": {},
     "output_type": "display_data"
    }
   ],
   "source": [
    "RIL['returns'].plot(kind='box',figsize=(8,11),colormap='jet')\n",
    "plt.show();"
   ]
  },
  {
   "cell_type": "code",
   "execution_count": 31,
   "metadata": {
    "collapsed": true
   },
   "outputs": [],
   "source": [
    "#Cumulative Daily Returns\n",
    "RIL['Cumulative Return'] = (1 + RIL['returns']).cumprod()"
   ]
  },
  {
   "cell_type": "code",
   "execution_count": 32,
   "metadata": {},
   "outputs": [
    {
     "data": {
      "text/html": [
       "<div>\n",
       "<style>\n",
       "    .dataframe thead tr:only-child th {\n",
       "        text-align: right;\n",
       "    }\n",
       "\n",
       "    .dataframe thead th {\n",
       "        text-align: left;\n",
       "    }\n",
       "\n",
       "    .dataframe tbody tr th {\n",
       "        vertical-align: top;\n",
       "    }\n",
       "</style>\n",
       "<table border=\"1\" class=\"dataframe\">\n",
       "  <thead>\n",
       "    <tr style=\"text-align: right;\">\n",
       "      <th></th>\n",
       "      <th>Open</th>\n",
       "      <th>High</th>\n",
       "      <th>Low</th>\n",
       "      <th>Close</th>\n",
       "      <th>Adj Close</th>\n",
       "      <th>Volume</th>\n",
       "      <th>Total Traded</th>\n",
       "      <th>MA50</th>\n",
       "      <th>MA200</th>\n",
       "      <th>returns</th>\n",
       "      <th>Cumulative Return</th>\n",
       "    </tr>\n",
       "    <tr>\n",
       "      <th>Date</th>\n",
       "      <th></th>\n",
       "      <th></th>\n",
       "      <th></th>\n",
       "      <th></th>\n",
       "      <th></th>\n",
       "      <th></th>\n",
       "      <th></th>\n",
       "      <th></th>\n",
       "      <th></th>\n",
       "      <th></th>\n",
       "      <th></th>\n",
       "    </tr>\n",
       "  </thead>\n",
       "  <tbody>\n",
       "    <tr>\n",
       "      <th>2017-10-25</th>\n",
       "      <td>940.000000</td>\n",
       "      <td>945.750000</td>\n",
       "      <td>930.000000</td>\n",
       "      <td>939.950012</td>\n",
       "      <td>939.950012</td>\n",
       "      <td>448754.0</td>\n",
       "      <td>4.218288e+08</td>\n",
       "      <td>824.597501</td>\n",
       "      <td>697.343002</td>\n",
       "      <td>0.005563</td>\n",
       "      <td>1.776423</td>\n",
       "    </tr>\n",
       "    <tr>\n",
       "      <th>2017-10-26</th>\n",
       "      <td>938.349976</td>\n",
       "      <td>958.200012</td>\n",
       "      <td>931.500000</td>\n",
       "      <td>947.250000</td>\n",
       "      <td>947.250000</td>\n",
       "      <td>694575.0</td>\n",
       "      <td>6.517544e+08</td>\n",
       "      <td>827.385001</td>\n",
       "      <td>699.324377</td>\n",
       "      <td>0.007766</td>\n",
       "      <td>1.790220</td>\n",
       "    </tr>\n",
       "    <tr>\n",
       "      <th>2017-10-27</th>\n",
       "      <td>950.099976</td>\n",
       "      <td>956.500000</td>\n",
       "      <td>926.400024</td>\n",
       "      <td>929.450012</td>\n",
       "      <td>929.450012</td>\n",
       "      <td>4100930.0</td>\n",
       "      <td>3.896293e+09</td>\n",
       "      <td>830.838000</td>\n",
       "      <td>701.344502</td>\n",
       "      <td>-0.018791</td>\n",
       "      <td>1.756579</td>\n",
       "    </tr>\n",
       "    <tr>\n",
       "      <th>2017-10-30</th>\n",
       "      <td>931.000000</td>\n",
       "      <td>945.000000</td>\n",
       "      <td>931.000000</td>\n",
       "      <td>940.150024</td>\n",
       "      <td>940.150024</td>\n",
       "      <td>435289.0</td>\n",
       "      <td>4.052541e+08</td>\n",
       "      <td>833.893000</td>\n",
       "      <td>703.317002</td>\n",
       "      <td>0.011512</td>\n",
       "      <td>1.776801</td>\n",
       "    </tr>\n",
       "    <tr>\n",
       "      <th>2017-10-31</th>\n",
       "      <td>943.000000</td>\n",
       "      <td>945.000000</td>\n",
       "      <td>932.099976</td>\n",
       "      <td>940.799988</td>\n",
       "      <td>940.799988</td>\n",
       "      <td>476464.0</td>\n",
       "      <td>4.493056e+08</td>\n",
       "      <td>837.021500</td>\n",
       "      <td>705.343752</td>\n",
       "      <td>0.000691</td>\n",
       "      <td>1.778030</td>\n",
       "    </tr>\n",
       "  </tbody>\n",
       "</table>\n",
       "</div>"
      ],
      "text/plain": [
       "                  Open        High         Low       Close   Adj Close  \\\n",
       "Date                                                                     \n",
       "2017-10-25  940.000000  945.750000  930.000000  939.950012  939.950012   \n",
       "2017-10-26  938.349976  958.200012  931.500000  947.250000  947.250000   \n",
       "2017-10-27  950.099976  956.500000  926.400024  929.450012  929.450012   \n",
       "2017-10-30  931.000000  945.000000  931.000000  940.150024  940.150024   \n",
       "2017-10-31  943.000000  945.000000  932.099976  940.799988  940.799988   \n",
       "\n",
       "               Volume  Total Traded        MA50       MA200   returns  \\\n",
       "Date                                                                    \n",
       "2017-10-25   448754.0  4.218288e+08  824.597501  697.343002  0.005563   \n",
       "2017-10-26   694575.0  6.517544e+08  827.385001  699.324377  0.007766   \n",
       "2017-10-27  4100930.0  3.896293e+09  830.838000  701.344502 -0.018791   \n",
       "2017-10-30   435289.0  4.052541e+08  833.893000  703.317002  0.011512   \n",
       "2017-10-31   476464.0  4.493056e+08  837.021500  705.343752  0.000691   \n",
       "\n",
       "            Cumulative Return  \n",
       "Date                           \n",
       "2017-10-25           1.776423  \n",
       "2017-10-26           1.790220  \n",
       "2017-10-27           1.756579  \n",
       "2017-10-30           1.776801  \n",
       "2017-10-31           1.778030  "
      ]
     },
     "execution_count": 32,
     "metadata": {},
     "output_type": "execute_result"
    }
   ],
   "source": [
    "RIL.tail()"
   ]
  },
  {
   "cell_type": "code",
   "execution_count": 33,
   "metadata": {},
   "outputs": [
    {
     "data": {
      "image/png": "[encoded data removed]",
      "text/plain": [
       "<matplotlib.figure.Figure at 0x25539a47ac8>"
      ]
     },
     "metadata": {},
     "output_type": "display_data"
    }
   ],
   "source": [
    "RIL['Cumulative Return'].plot(label='RIL',figsize=(16,8),title='Cumulative Return')\n",
    "plt.show()"
   ]
  },
  {
   "cell_type": "code",
   "execution_count": 34,
   "metadata": {},
   "outputs": [
    {
     "data": {
      "text/plain": [
       "Open                    6\n",
       "High                    6\n",
       "Low                     6\n",
       "Close                   6\n",
       "Adj Close               6\n",
       "Volume                  6\n",
       "Total Traded            6\n",
       "MA50                  330\n",
       "MA200                1010\n",
       "returns                 7\n",
       "Cumulative Return       7\n",
       "dtype: int64"
      ]
     },
     "execution_count": 34,
     "metadata": {},
     "output_type": "execute_result"
    }
   ],
   "source": [
    "RIL.isnull().sum()"
   ]
  },
  {
   "cell_type": "code",
   "execution_count": 22,
   "metadata": {
    "collapsed": true
   },
   "outputs": [],
   "source": [
    "dj = pd.read_csv(\"rel_stock.csv\")\n",
    "news = pd.read_csv(\"relnews.csv\")"
   ]
  },
  {
   "cell_type": "code",
   "execution_count": 23,
   "metadata": {},
   "outputs": [
    {
     "data": {
      "text/html": [
       "<div>\n",
       "<style>\n",
       "    .dataframe thead tr:only-child th {\n",
       "        text-align: right;\n",
       "    }\n",
       "\n",
       "    .dataframe thead th {\n",
       "        text-align: left;\n",
       "    }\n",
       "\n",
       "    .dataframe tbody tr th {\n",
       "        vertical-align: top;\n",
       "    }\n",
       "</style>\n",
       "<table border=\"1\" class=\"dataframe\">\n",
       "  <thead>\n",
       "    <tr style=\"text-align: right;\">\n",
       "      <th></th>\n",
       "      <th>Date</th>\n",
       "      <th>News</th>\n",
       "    </tr>\n",
       "  </thead>\n",
       "  <tbody>\n",
       "    <tr>\n",
       "      <th>127245</th>\n",
       "      <td>13-06-12 0:00</td>\n",
       "      <td>IIP: Slowdown continues to be pervasive, says ...</td>\n",
       "    </tr>\n",
       "    <tr>\n",
       "      <th>127246</th>\n",
       "      <td>13-06-12 0:00</td>\n",
       "      <td>Fortis diagnostic arm SRL to get Rs 370 cr PE ...</td>\n",
       "    </tr>\n",
       "    <tr>\n",
       "      <th>127247</th>\n",
       "      <td>13-06-12 0:00</td>\n",
       "      <td>Cairn agrees Â£400m bid for North Sea explorer</td>\n",
       "    </tr>\n",
       "    <tr>\n",
       "      <th>127248</th>\n",
       "      <td>13-06-12 0:00</td>\n",
       "      <td>RComm unit wins Singapore IPO approval</td>\n",
       "    </tr>\n",
       "    <tr>\n",
       "      <th>127249</th>\n",
       "      <td>13-06-12 0:00</td>\n",
       "      <td>Yahoo and CNBC form content partnership</td>\n",
       "    </tr>\n",
       "  </tbody>\n",
       "</table>\n",
       "</div>"
      ],
      "text/plain": [
       "                 Date                                               News\n",
       "127245  13-06-12 0:00  IIP: Slowdown continues to be pervasive, says ...\n",
       "127246  13-06-12 0:00  Fortis diagnostic arm SRL to get Rs 370 cr PE ...\n",
       "127247  13-06-12 0:00     Cairn agrees Â£400m bid for North Sea explorer\n",
       "127248  13-06-12 0:00             RComm unit wins Singapore IPO approval\n",
       "127249  13-06-12 0:00            Yahoo and CNBC form content partnership"
      ]
     },
     "execution_count": 23,
     "metadata": {},
     "output_type": "execute_result"
    }
   ],
   "source": [
    "news.tail()"
   ]
  },
  {
   "cell_type": "code",
   "execution_count": null,
   "metadata": {
    "collapsed": true
   },
   "outputs": [],
   "source": [
    "#dj['Date']=pd.to_datetime(dj.Date)"
   ]
  },
  {
   "cell_type": "code",
   "execution_count": 14,
   "metadata": {},
   "outputs": [
    {
     "data": {
      "text/plain": [
       "(127250, 2)"
      ]
     },
     "execution_count": 14,
     "metadata": {},
     "output_type": "execute_result"
    }
   ],
   "source": [
    "news.shape"
   ]
  },
  {
   "cell_type": "code",
   "execution_count": 24,
   "metadata": {},
   "outputs": [
    {
     "data": {
      "text/html": [
       "<div>\n",
       "<style>\n",
       "    .dataframe thead tr:only-child th {\n",
       "        text-align: right;\n",
       "    }\n",
       "\n",
       "    .dataframe thead th {\n",
       "        text-align: left;\n",
       "    }\n",
       "\n",
       "    .dataframe tbody tr th {\n",
       "        vertical-align: top;\n",
       "    }\n",
       "</style>\n",
       "<table border=\"1\" class=\"dataframe\">\n",
       "  <thead>\n",
       "    <tr style=\"text-align: right;\">\n",
       "      <th></th>\n",
       "      <th>Date</th>\n",
       "      <th>close</th>\n",
       "      <th>adj close</th>\n",
       "    </tr>\n",
       "  </thead>\n",
       "  <tbody>\n",
       "    <tr>\n",
       "      <th>0</th>\n",
       "      <td>16-06-12</td>\n",
       "      <td>361.983327</td>\n",
       "      <td>616008.6667</td>\n",
       "    </tr>\n",
       "    <tr>\n",
       "      <th>1</th>\n",
       "      <td>17-06-12</td>\n",
       "      <td>360.666667</td>\n",
       "      <td>600575.3333</td>\n",
       "    </tr>\n",
       "    <tr>\n",
       "      <th>2</th>\n",
       "      <td>18-06-12</td>\n",
       "      <td>359.350006</td>\n",
       "      <td>585142.0000</td>\n",
       "    </tr>\n",
       "    <tr>\n",
       "      <th>3</th>\n",
       "      <td>19-06-12</td>\n",
       "      <td>368.625000</td>\n",
       "      <td>829710.0000</td>\n",
       "    </tr>\n",
       "    <tr>\n",
       "      <th>4</th>\n",
       "      <td>20-06-12</td>\n",
       "      <td>368.799988</td>\n",
       "      <td>591690.0000</td>\n",
       "    </tr>\n",
       "  </tbody>\n",
       "</table>\n",
       "</div>"
      ],
      "text/plain": [
       "       Date       close    adj close\n",
       "0  16-06-12  361.983327  616008.6667\n",
       "1  17-06-12  360.666667  600575.3333\n",
       "2  18-06-12  359.350006  585142.0000\n",
       "3  19-06-12  368.625000  829710.0000\n",
       "4  20-06-12  368.799988  591690.0000"
      ]
     },
     "execution_count": 24,
     "metadata": {},
     "output_type": "execute_result"
    }
   ],
   "source": [
    "#df.plot()\n",
    "#plt.show()\n",
    "dj.head()"
   ]
  },
  {
   "cell_type": "code",
   "execution_count": 25,
   "metadata": {
    "collapsed": true
   },
   "outputs": [],
   "source": [
    "news=news.groupby('Date').sum()\n",
    "#news=pd.DataFrame({'News' : news.groupby( [ \"Date\"] ).sum()}).reset_index()\n"
   ]
  },
  {
   "cell_type": "code",
   "execution_count": 27,
   "metadata": {},
   "outputs": [
    {
     "data": {
      "text/plain": [
       "'JK Tyre turns profitable in Q3 on improved demand'"
      ]
     },
     "execution_count": 27,
     "metadata": {},
     "output_type": "execute_result"
    }
   ],
   "source": [
    "\n",
    "news.News[0]"
   ]
  },
  {
   "cell_type": "code",
   "execution_count": 28,
   "metadata": {
    "collapsed": true
   },
   "outputs": [],
   "source": [
    "news=news.reset_index()"
   ]
  },
  {
   "cell_type": "code",
   "execution_count": 29,
   "metadata": {},
   "outputs": [
    {
     "data": {
      "text/html": [
       "<div>\n",
       "<style>\n",
       "    .dataframe thead tr:only-child th {\n",
       "        text-align: right;\n",
       "    }\n",
       "\n",
       "    .dataframe thead th {\n",
       "        text-align: left;\n",
       "    }\n",
       "\n",
       "    .dataframe tbody tr th {\n",
       "        vertical-align: top;\n",
       "    }\n",
       "</style>\n",
       "<table border=\"1\" class=\"dataframe\">\n",
       "  <thead>\n",
       "    <tr style=\"text-align: right;\">\n",
       "      <th></th>\n",
       "      <th>Date</th>\n",
       "      <th>News</th>\n",
       "    </tr>\n",
       "  </thead>\n",
       "  <tbody>\n",
       "    <tr>\n",
       "      <th>0</th>\n",
       "      <td>01-01-13</td>\n",
       "      <td>JK Tyre turns profitable in Q3 on improved demand</td>\n",
       "    </tr>\n",
       "    <tr>\n",
       "      <th>1</th>\n",
       "      <td>01-01-13 0:00</td>\n",
       "      <td>Costly ride: Cars to get expensive in 2013Indi...</td>\n",
       "    </tr>\n",
       "    <tr>\n",
       "      <th>2</th>\n",
       "      <td>01-01-14</td>\n",
       "      <td>GST will add 2% to GDP, co to save on logistic...</td>\n",
       "    </tr>\n",
       "    <tr>\n",
       "      <th>3</th>\n",
       "      <td>01-01-14 0:00</td>\n",
       "      <td>Bullion association to join UCX-led bid for MC...</td>\n",
       "    </tr>\n",
       "    <tr>\n",
       "      <th>4</th>\n",
       "      <td>01-01-15</td>\n",
       "      <td>Delhi gets new land pooling policy, will price...</td>\n",
       "    </tr>\n",
       "  </tbody>\n",
       "</table>\n",
       "</div>"
      ],
      "text/plain": [
       "            Date                                               News\n",
       "0       01-01-13  JK Tyre turns profitable in Q3 on improved demand\n",
       "1  01-01-13 0:00  Costly ride: Cars to get expensive in 2013Indi...\n",
       "2       01-01-14  GST will add 2% to GDP, co to save on logistic...\n",
       "3  01-01-14 0:00  Bullion association to join UCX-led bid for MC...\n",
       "4       01-01-15  Delhi gets new land pooling policy, will price..."
      ]
     },
     "execution_count": 29,
     "metadata": {},
     "output_type": "execute_result"
    }
   ],
   "source": [
    "news.head()"
   ]
  },
  {
   "cell_type": "code",
   "execution_count": 30,
   "metadata": {},
   "outputs": [
    {
     "name": "stdout",
     "output_type": "stream",
     "text": [
      "1983\n",
      "1823\n"
     ]
    }
   ],
   "source": [
    "# Compare the number of unique dates. We want matching values.\n",
    "print(len(set(dj.Date)))\n",
    "print(len(set(news.Date)))\n",
    "\n"
   ]
  },
  {
   "cell_type": "code",
   "execution_count": 31,
   "metadata": {},
   "outputs": [
    {
     "name": "stdout",
     "output_type": "stream",
     "text": [
      "(1983, 3)\n",
      "(1823, 2)\n"
     ]
    }
   ],
   "source": [
    "print(dj.shape)\n",
    "print(news.shape)\n"
   ]
  },
  {
   "cell_type": "code",
   "execution_count": 33,
   "metadata": {
    "collapsed": true
   },
   "outputs": [],
   "source": [
    "dj1=dj[['Date','close','adj close']]"
   ]
  },
  {
   "cell_type": "code",
   "execution_count": 34,
   "metadata": {},
   "outputs": [
    {
     "data": {
      "text/html": [
       "<div>\n",
       "<style>\n",
       "    .dataframe thead tr:only-child th {\n",
       "        text-align: right;\n",
       "    }\n",
       "\n",
       "    .dataframe thead th {\n",
       "        text-align: left;\n",
       "    }\n",
       "\n",
       "    .dataframe tbody tr th {\n",
       "        vertical-align: top;\n",
       "    }\n",
       "</style>\n",
       "<table border=\"1\" class=\"dataframe\">\n",
       "  <thead>\n",
       "    <tr style=\"text-align: right;\">\n",
       "      <th></th>\n",
       "      <th>Date</th>\n",
       "      <th>close</th>\n",
       "      <th>adj close</th>\n",
       "    </tr>\n",
       "  </thead>\n",
       "  <tbody>\n",
       "    <tr>\n",
       "      <th>0</th>\n",
       "      <td>16-06-12</td>\n",
       "      <td>361.983327</td>\n",
       "      <td>616008.6667</td>\n",
       "    </tr>\n",
       "    <tr>\n",
       "      <th>1</th>\n",
       "      <td>17-06-12</td>\n",
       "      <td>360.666667</td>\n",
       "      <td>600575.3333</td>\n",
       "    </tr>\n",
       "    <tr>\n",
       "      <th>2</th>\n",
       "      <td>18-06-12</td>\n",
       "      <td>359.350006</td>\n",
       "      <td>585142.0000</td>\n",
       "    </tr>\n",
       "    <tr>\n",
       "      <th>3</th>\n",
       "      <td>19-06-12</td>\n",
       "      <td>368.625000</td>\n",
       "      <td>829710.0000</td>\n",
       "    </tr>\n",
       "    <tr>\n",
       "      <th>4</th>\n",
       "      <td>20-06-12</td>\n",
       "      <td>368.799988</td>\n",
       "      <td>591690.0000</td>\n",
       "    </tr>\n",
       "  </tbody>\n",
       "</table>\n",
       "</div>"
      ],
      "text/plain": [
       "       Date       close    adj close\n",
       "0  16-06-12  361.983327  616008.6667\n",
       "1  17-06-12  360.666667  600575.3333\n",
       "2  18-06-12  359.350006  585142.0000\n",
       "3  19-06-12  368.625000  829710.0000\n",
       "4  20-06-12  368.799988  591690.0000"
      ]
     },
     "execution_count": 34,
     "metadata": {},
     "output_type": "execute_result"
    }
   ],
   "source": [
    "dj1.head()"
   ]
  },
  {
   "cell_type": "code",
   "execution_count": 35,
   "metadata": {
    "collapsed": true
   },
   "outputs": [],
   "source": [
    "news['Date']=pd.to_datetime(news.Date)"
   ]
  },
  {
   "cell_type": "code",
   "execution_count": 36,
   "metadata": {},
   "outputs": [
    {
     "data": {
      "text/html": [
       "<div>\n",
       "<style>\n",
       "    .dataframe thead tr:only-child th {\n",
       "        text-align: right;\n",
       "    }\n",
       "\n",
       "    .dataframe thead th {\n",
       "        text-align: left;\n",
       "    }\n",
       "\n",
       "    .dataframe tbody tr th {\n",
       "        vertical-align: top;\n",
       "    }\n",
       "</style>\n",
       "<table border=\"1\" class=\"dataframe\">\n",
       "  <thead>\n",
       "    <tr style=\"text-align: right;\">\n",
       "      <th></th>\n",
       "      <th>Date</th>\n",
       "      <th>News</th>\n",
       "    </tr>\n",
       "  </thead>\n",
       "  <tbody>\n",
       "    <tr>\n",
       "      <th>32</th>\n",
       "      <td>2012-01-07</td>\n",
       "      <td>M&amp;M, Toyota sales rev up in June; Tata Motors ...</td>\n",
       "    </tr>\n",
       "    <tr>\n",
       "      <th>37</th>\n",
       "      <td>2012-01-08</td>\n",
       "      <td>Reserve money up 6.7% in week to July 27, says...</td>\n",
       "    </tr>\n",
       "    <tr>\n",
       "      <th>42</th>\n",
       "      <td>2012-01-09</td>\n",
       "      <td>JSW Steel, JSW Ispat merger ratio at 1:72TVS M...</td>\n",
       "    </tr>\n",
       "    <tr>\n",
       "      <th>48</th>\n",
       "      <td>2012-01-10</td>\n",
       "      <td>Applaud Chidu initiatives but cheer awaits det...</td>\n",
       "    </tr>\n",
       "    <tr>\n",
       "      <th>53</th>\n",
       "      <td>2012-01-11</td>\n",
       "      <td>Hyundai invests &amp;#36;300 million in India manu...</td>\n",
       "    </tr>\n",
       "  </tbody>\n",
       "</table>\n",
       "</div>"
      ],
      "text/plain": [
       "         Date                                               News\n",
       "32 2012-01-07  M&M, Toyota sales rev up in June; Tata Motors ...\n",
       "37 2012-01-08  Reserve money up 6.7% in week to July 27, says...\n",
       "42 2012-01-09  JSW Steel, JSW Ispat merger ratio at 1:72TVS M...\n",
       "48 2012-01-10  Applaud Chidu initiatives but cheer awaits det...\n",
       "53 2012-01-11  Hyundai invests &#36;300 million in India manu..."
      ]
     },
     "execution_count": 36,
     "metadata": {},
     "output_type": "execute_result"
    }
   ],
   "source": [
    "news.sort_values(by='Date',ascending=True).head()"
   ]
  },
  {
   "cell_type": "code",
   "execution_count": 37,
   "metadata": {
    "collapsed": true
   },
   "outputs": [],
   "source": [
    "news= news[news.Date.isin(dj1.Date)]"
   ]
  },
  {
   "cell_type": "code",
   "execution_count": 38,
   "metadata": {},
   "outputs": [
    {
     "data": {
      "text/html": [
       "<div>\n",
       "<style>\n",
       "    .dataframe thead tr:only-child th {\n",
       "        text-align: right;\n",
       "    }\n",
       "\n",
       "    .dataframe thead th {\n",
       "        text-align: left;\n",
       "    }\n",
       "\n",
       "    .dataframe tbody tr th {\n",
       "        vertical-align: top;\n",
       "    }\n",
       "</style>\n",
       "<table border=\"1\" class=\"dataframe\">\n",
       "  <thead>\n",
       "    <tr style=\"text-align: right;\">\n",
       "      <th></th>\n",
       "      <th>Date</th>\n",
       "      <th>News</th>\n",
       "    </tr>\n",
       "  </thead>\n",
       "  <tbody>\n",
       "    <tr>\n",
       "      <th>0</th>\n",
       "      <td>2013-01-01</td>\n",
       "      <td>JK Tyre turns profitable in Q3 on improved demand</td>\n",
       "    </tr>\n",
       "    <tr>\n",
       "      <th>1</th>\n",
       "      <td>2013-01-01</td>\n",
       "      <td>Costly ride: Cars to get expensive in 2013Indi...</td>\n",
       "    </tr>\n",
       "    <tr>\n",
       "      <th>2</th>\n",
       "      <td>2014-01-01</td>\n",
       "      <td>GST will add 2% to GDP, co to save on logistic...</td>\n",
       "    </tr>\n",
       "    <tr>\n",
       "      <th>3</th>\n",
       "      <td>2014-01-01</td>\n",
       "      <td>Bullion association to join UCX-led bid for MC...</td>\n",
       "    </tr>\n",
       "    <tr>\n",
       "      <th>4</th>\n",
       "      <td>2015-01-01</td>\n",
       "      <td>Delhi gets new land pooling policy, will price...</td>\n",
       "    </tr>\n",
       "  </tbody>\n",
       "</table>\n",
       "</div>"
      ],
      "text/plain": [
       "        Date                                               News\n",
       "0 2013-01-01  JK Tyre turns profitable in Q3 on improved demand\n",
       "1 2013-01-01  Costly ride: Cars to get expensive in 2013Indi...\n",
       "2 2014-01-01  GST will add 2% to GDP, co to save on logistic...\n",
       "3 2014-01-01  Bullion association to join UCX-led bid for MC...\n",
       "4 2015-01-01  Delhi gets new land pooling policy, will price..."
      ]
     },
     "execution_count": 38,
     "metadata": {},
     "output_type": "execute_result"
    }
   ],
   "source": [
    "news.head()"
   ]
  },
  {
   "cell_type": "code",
   "execution_count": 39,
   "metadata": {},
   "outputs": [
    {
     "data": {
      "text/plain": [
       "(1820, 2)"
      ]
     },
     "execution_count": 39,
     "metadata": {},
     "output_type": "execute_result"
    }
   ],
   "source": [
    "news.shape"
   ]
  },
  {
   "cell_type": "code",
   "execution_count": 37,
   "metadata": {
    "collapsed": true
   },
   "outputs": [],
   "source": [
    "#news = pd.merge(news, dj1, how='inner', on=['Date'])\n",
    "#news= news[news.Date.isin(dj.Date)]\n",
    "#df_yes = dj1[dj1['Date'].isin(news.Date)]\n",
    "#df_no = df[~df['zip'].isin(keep)]"
   ]
  },
  {
   "cell_type": "code",
   "execution_count": 39,
   "metadata": {
    "collapsed": true
   },
   "outputs": [],
   "source": [
    "# Calculate the difference in opening prices between the following and current day.\n",
    "# The model will try to predict how much the Open value will change beased on the news.\n",
    "#dj1 = dj1.set_index('Date').diff(periods=1)\n",
    "#dj1['Date'] = dj1.index\n",
    "#dj1 = dj1.reset_index(drop=True)\n",
    "# Remove unneeded features\n",
    "\n",
    "#dj = dj.drop(['High','Low','Close','Adj Close','Volume'], 1)"
   ]
  },
  {
   "cell_type": "code",
   "execution_count": 44,
   "metadata": {
    "collapsed": true
   },
   "outputs": [],
   "source": [
    "#news[news.Date==date]['News']\n"
   ]
  },
  {
   "cell_type": "code",
   "execution_count": 40,
   "metadata": {},
   "outputs": [
    {
     "name": "stdout",
     "output_type": "stream",
     "text": [
      "500\n",
      "1000\n",
      "1500\n"
     ]
    }
   ],
   "source": [
    "\n",
    "# Create a list of the opening prices and their corresponding daily headlines from the news\n",
    "close = []\n",
    "adj =[]\n",
    "headlines = []\n",
    "DateNew=[]\n",
    "for row in dj.iterrows():\n",
    "    daily_headlines = []\n",
    "    daily_date=[]\n",
    "    daily_close=[]\n",
    "    daily_adj=[]\n",
    "    date = row[1]['Date']\n",
    "    close.append(row[1]['close'])\n",
    "    adj.append(row[1]['adj close'])\n",
    "    \n",
    "    for row_ in news[news.Date==date].iterrows():\n",
    "        daily_headlines.append(row_[1]['News'])\n",
    "        daily_date.append(row_[1]['Date'])\n",
    "        #daily_close.append(row_[1]['Close'])\n",
    "        #daily_adj.append(row_[1]['Adj Close'])\n",
    "    # Track progress\n",
    "    headlines.append(daily_headlines)\n",
    "    DateNew.append(daily_date)\n",
    "    #close.append(daily_close)\n",
    "    #adj.append(daily_adj)\n",
    "    if len(close) % 500 == 0:\n",
    "        print(len(close))"
   ]
  },
  {
   "cell_type": "code",
   "execution_count": 47,
   "metadata": {
    "collapsed": true
   },
   "outputs": [],
   "source": [
    "#headlines=pd.DataFrame(headlines)\n",
    "#price=pd.DataFrame(price)\n",
    "#DateNew=pd.DataFrame(DateNew)"
   ]
  },
  {
   "cell_type": "code",
   "execution_count": 50,
   "metadata": {},
   "outputs": [
    {
     "data": {
      "text/plain": [
       "[\"BHEL to set up fabrication unit in BhandaraBharti Softbank, Yahoo Japan form JVRBI committee advises risk based supervision for banksCCI penalty may send guilty in frenzy of appeal: TrilegalHPCL stops fuel supply to Kingfisher, resumes post paymentsGMR allots Rs 100-cr NCDs to ICICI BankONGC, CNPC sign agreement to jointly explore oil and gasVodafone cuts 3G rates by up to 80%Can't pay 'extremely high' price for spectrum, says UninorAdvance tax collection in Q1 up 5% at Rs 33089crDLF in talks with 4 entities for sale of wind biz: SourcesGAAR panel to finalise report by August-endAI executive pilots want management to end pilots strikeNPCIL identifies four new sites for nuclear power plantsGovt to release 5 MT of foodgrains, 3 MT wheatDS Group enters powdered soft drink marketCaptain Media plans to launch 24hr news channel in AugustAvendus Capital ropes in ex-Japanese ministerChart of the day: Why government needs to sow seeds for agri revolutionEnd blame game; govt, RBI, ind can work as one: SubbaraoTelenor signals India cut-off if permit cost soarsFDI in India declines 41% to &#36;1.85bn in AprilSeamless transit at all highway toll plazas by 2014India is not in doldrums by any comparison: Kaushik BasuGovt allocates 116 coal blocks to CIL for expansionAuto companies stop production as demand slump continues'Limited' scope of monetary policy easing in FY13: ExpertsIndia's steel imports jump 69% in April-May to 1.5 MTAmul to achieve Rs 30,000cr turnover by 2018-19City Union Bank plans to infuse Rs 1,000 cr over 3-4 yearsWary India watches monsoon, gold scrap sales pick upFedEx seeks cost cuts as growth slows'Control inflation by sending food to mkt, not storage'No management rejig on cards, says HCL TechMaintaining healthy portfolio priority now: SREI Infra FinMecklai Graph: Soaring unemployment claimsInflation to be high; see 2.4% increase in agri prod: CMIERBS still hopeful of 50bps rate cut in FY13RBI may ease, see 50-75 bps rate cut in FY13: ING VysyaGVK eyes &#36;500-600m unit stake sale: SourcesAirbnb doubles bookings in half yearG20 Summit: PM confident of leading India to 8-9% growthIndia announces USD 10 billion for debt-wracked eurozone\"]"
      ]
     },
     "execution_count": 50,
     "metadata": {},
     "output_type": "execute_result"
    }
   ],
   "source": [
    "headlines[3]\n"
   ]
  },
  {
   "cell_type": "code",
   "execution_count": 51,
   "metadata": {},
   "outputs": [
    {
     "name": "stdout",
     "output_type": "stream",
     "text": [
      "1983\n",
      "1983\n",
      "1983\n",
      "1983\n"
     ]
    }
   ],
   "source": [
    "# Compare lengths to ensure they are the same\n",
    "print(len(close))\n",
    "print(len(adj))\n",
    "print(len(headlines))\n",
    "print(len(DateNew))"
   ]
  },
  {
   "cell_type": "code",
   "execution_count": 52,
   "metadata": {
    "collapsed": true
   },
   "outputs": [],
   "source": [
    "contractions = { \n",
    "\"ain't\": \"am not\",\n",
    "\"aren't\": \"are not\",\n",
    "\"can't\": \"cannot\",\n",
    "\"can't've\": \"cannot have\",\n",
    "\"'cause\": \"because\",\n",
    "\"could've\": \"could have\",\n",
    "\"couldn't\": \"could not\",\n",
    "\"couldn't've\": \"could not have\",\n",
    "\"didn't\": \"did not\",\n",
    "\"doesn't\": \"does not\",\n",
    "\"don't\": \"do not\",\n",
    "\"hadn't\": \"had not\",\n",
    "\"hadn't've\": \"had not have\",\n",
    "\"hasn't\": \"has not\",\n",
    "\"haven't\": \"have not\",\n",
    "\"he'd\": \"he would\",\n",
    "\"he'd've\": \"he would have\",\n",
    "\"he'll\": \"he will\",\n",
    "\"he's\": \"he is\",\n",
    "\"how'd\": \"how did\",\n",
    "\"how'll\": \"how will\",\n",
    "\"how's\": \"how is\",\n",
    "\"i'd\": \"i would\",\n",
    "\"i'll\": \"i will\",\n",
    "\"i'm\": \"i am\",\n",
    "\"i've\": \"i have\",\n",
    "\"isn't\": \"is not\",\n",
    "\"it'd\": \"it would\",\n",
    "\"it'll\": \"it will\",\n",
    "\"it's\": \"it is\",\n",
    "\"let's\": \"let us\",\n",
    "\"ma'am\": \"madam\",\n",
    "\"mayn't\": \"may not\",\n",
    "\"might've\": \"might have\",\n",
    "\"mightn't\": \"might not\",\n",
    "\"must've\": \"must have\",\n",
    "\"mustn't\": \"must not\",\n",
    "\"needn't\": \"need not\",\n",
    "\"oughtn't\": \"ought not\",\n",
    "\"shan't\": \"shall not\",\n",
    "\"sha'n't\": \"shall not\",\n",
    "\"she'd\": \"she would\",\n",
    "\"she'll\": \"she will\",\n",
    "\"she's\": \"she is\",\n",
    "\"should've\": \"should have\",\n",
    "\"shouldn't\": \"should not\",\n",
    "\"that'd\": \"that would\",\n",
    "\"that's\": \"that is\",\n",
    "\"there'd\": \"there had\",\n",
    "\"there's\": \"there is\",\n",
    "\"they'd\": \"they would\",\n",
    "\"they'll\": \"they will\",\n",
    "\"they're\": \"they are\",\n",
    "\"they've\": \"they have\",\n",
    "\"wasn't\": \"was not\",\n",
    "\"we'd\": \"we would\",\n",
    "\"we'll\": \"we will\",\n",
    "\"we're\": \"we are\",\n",
    "\"we've\": \"we have\",\n",
    "\"weren't\": \"were not\",\n",
    "\"what'll\": \"what will\",\n",
    "\"what're\": \"what are\",\n",
    "\"what's\": \"what is\",\n",
    "\"what've\": \"what have\",\n",
    "\"where'd\": \"where did\",\n",
    "\"where's\": \"where is\",\n",
    "\"who'll\": \"who will\",\n",
    "\"who's\": \"who is\",\n",
    "\"won't\": \"will not\",\n",
    "\"wouldn't\": \"would not\",\n",
    "\"you'd\": \"you would\",\n",
    "\"you'll\": \"you will\",\n",
    "\"you're\": \"you are\"\n",
    "}"
   ]
  },
  {
   "cell_type": "code",
   "execution_count": 53,
   "metadata": {
    "collapsed": true
   },
   "outputs": [],
   "source": [
    "def clean_text(text, remove_stopwords = True):\n",
    "    '''Remove unwanted characters and format the text to create fewer nulls word embeddings'''\n",
    "    \n",
    "    # Convert words to lower case\n",
    "    text = text.lower()\n",
    "    \n",
    "    # Replace contractions with their longer forms \n",
    "    if True:\n",
    "        text = text.split()\n",
    "        new_text = []\n",
    "        for word in text:\n",
    "            if word in contractions:\n",
    "                new_text.append(contractions[word])\n",
    "            else:\n",
    "                new_text.append(word)\n",
    "        text = \" \".join(new_text)\n",
    "    \n",
    "    # Format words and remove unwanted characters\n",
    "    text = re.sub(r'&amp;', '', text) \n",
    "    text = re.sub(r'0,0', '00', text) \n",
    "    text = re.sub(r'[_\"\\-;%()|.,+&=*%.,!?:#@\\[\\]]', ' ', text)\n",
    "    text = re.sub(r'\\'', ' ', text)\n",
    "    text = re.sub(r'\\$', ' $ ', text)\n",
    "    text = re.sub(r'j k ', ' jk ', text)\n",
    "    text = re.sub(r' s ', ' ', text)\n",
    "    text = re.sub(r' yr ', ' year ', text)\n",
    "    text = re.sub(r' l g b t ', ' lgbt ', text)\n",
    "    text = re.sub(r'0km ', '0 km ', text)\n",
    "    \n",
    "    # Optionally, remove stop words\n",
    "    if remove_stopwords:\n",
    "        text = text.split()\n",
    "        stops = set(stopwords.words(\"english\"))\n",
    "        text = [w for w in text if not w in stops]\n",
    "        text = \" \".join(text)\n",
    "\n",
    "    return text"
   ]
  },
  {
   "cell_type": "code",
   "execution_count": 87,
   "metadata": {},
   "outputs": [
    {
     "ename": "AttributeError",
     "evalue": "'NaTType' object has no attribute 'lower'",
     "output_type": "error",
     "traceback": [
      "\u001b[1;31m---------------------------------------------------------------------------\u001b[0m",
      "\u001b[1;31mAttributeError\u001b[0m                            Traceback (most recent call last)",
      "\u001b[1;32m<ipython-input-87-c372beca731a>\u001b[0m in \u001b[0;36m<module>\u001b[1;34m()\u001b[0m\n\u001b[0;32m      5\u001b[0m     \u001b[0mclean_daily_headlines\u001b[0m \u001b[1;33m=\u001b[0m \u001b[1;33m[\u001b[0m\u001b[1;33m]\u001b[0m\u001b[1;33m\u001b[0m\u001b[0m\n\u001b[0;32m      6\u001b[0m     \u001b[1;32mfor\u001b[0m \u001b[0mheadline\u001b[0m \u001b[1;32min\u001b[0m \u001b[0mdaily_headlines\u001b[0m\u001b[1;33m:\u001b[0m\u001b[1;33m\u001b[0m\u001b[0m\n\u001b[1;32m----> 7\u001b[1;33m         \u001b[0mclean_daily_headlines\u001b[0m\u001b[1;33m.\u001b[0m\u001b[0mappend\u001b[0m\u001b[1;33m(\u001b[0m\u001b[0mclean_text\u001b[0m\u001b[1;33m(\u001b[0m\u001b[0mheadline\u001b[0m\u001b[1;33m)\u001b[0m\u001b[1;33m)\u001b[0m\u001b[1;33m\u001b[0m\u001b[0m\n\u001b[0m\u001b[0;32m      8\u001b[0m     \u001b[0mclean_headlines\u001b[0m\u001b[1;33m.\u001b[0m\u001b[0mappend\u001b[0m\u001b[1;33m(\u001b[0m\u001b[0mclean_daily_headlines\u001b[0m\u001b[1;33m)\u001b[0m\u001b[1;33m\u001b[0m\u001b[0m\n",
      "\u001b[1;32m<ipython-input-53-8b83456d24ec>\u001b[0m in \u001b[0;36mclean_text\u001b[1;34m(text, remove_stopwords)\u001b[0m\n\u001b[0;32m      3\u001b[0m \u001b[1;33m\u001b[0m\u001b[0m\n\u001b[0;32m      4\u001b[0m     \u001b[1;31m# Convert words to lower case\u001b[0m\u001b[1;33m\u001b[0m\u001b[1;33m\u001b[0m\u001b[0m\n\u001b[1;32m----> 5\u001b[1;33m     \u001b[0mtext\u001b[0m \u001b[1;33m=\u001b[0m \u001b[0mtext\u001b[0m\u001b[1;33m.\u001b[0m\u001b[0mlower\u001b[0m\u001b[1;33m(\u001b[0m\u001b[1;33m)\u001b[0m\u001b[1;33m\u001b[0m\u001b[0m\n\u001b[0m\u001b[0;32m      6\u001b[0m \u001b[1;33m\u001b[0m\u001b[0m\n\u001b[0;32m      7\u001b[0m     \u001b[1;31m# Replace contractions with their longer forms\u001b[0m\u001b[1;33m\u001b[0m\u001b[1;33m\u001b[0m\u001b[0m\n",
      "\u001b[1;31mAttributeError\u001b[0m: 'NaTType' object has no attribute 'lower'"
     ]
    }
   ],
   "source": [
    "# Clean the headlines\n",
    "clean_headlines = []\n",
    "\n",
    "for daily_headlines in headlines:\n",
    "    clean_daily_headlines = []\n",
    "    for headline in daily_headlines:\n",
    "        clean_daily_headlines.append(clean_text(headline))\n",
    "    clean_headlines.append(clean_daily_headlines)"
   ]
  },
  {
   "cell_type": "code",
   "execution_count": 56,
   "metadata": {},
   "outputs": [
    {
     "data": {
      "text/plain": [
       "['bhel set fabrication unit bhandarabharti softbank yahoo japan form jvrbi committee advises risk based supervision bankscci penalty may send guilty frenzy appeal trilegalhpcl stops fuel supply kingfisher resumes post paymentsgmr allots rs 100 cr ncds icici bankongc cnpc sign agreement jointly explore oil gasvodafone cuts 3g rates 80 pay extremely high price spectrum says uninoradvance tax collection q1 5 rs 33089crdlf talks 4 entities sale wind biz sourcesgaar panel finalise report august endai executive pilots want management end pilots strikenpcil identifies four new sites nuclear power plantsgovt release 5 mt foodgrains 3 mt wheatds group enters powdered soft drink marketcaptain media plans launch 24hr news channel augustavendus capital ropes ex japanese ministerchart day government needs sow seeds agri revolutionend blame game govt rbi ind work one subbaraotelenor signals india cut permit cost soarsfdi india declines 41 36 1 85bn aprilseamless transit highway toll plazas 2014india doldrums comparison kaushik basugovt allocates 116 coal blocks cil expansionauto companies stop production demand slump continues limited scope monetary policy easing fy13 expertsindia steel imports jump 69 april may 1 5 mtamul achieve rs 30000cr turnover 2018 19city union bank plans infuse rs 1 000 cr 3 4 yearswary india watches monsoon gold scrap sales pick upfedex seeks cost cuts growth slows control inflation sending food mkt storage management rejig cards says hcl techmaintaining healthy portfolio priority srei infra finmecklai graph soaring unemployment claimsinflation high see 2 4 increase agri prod cmierbs still hopeful 50bps rate cut fy13rbi may ease see 50 75 bps rate cut fy13 ing vysyagvk eyes 36 500 600m unit stake sale sourcesairbnb doubles bookings half yearg20 summit pm confident leading india 8 9 growthindia announces usd 10 billion debt wracked eurozone']"
      ]
     },
     "execution_count": 56,
     "metadata": {},
     "output_type": "execute_result"
    }
   ],
   "source": [
    "# Take a look at some headlines to ensure everything was cleaned well\n",
    "clean_headlines[3]"
   ]
  },
  {
   "cell_type": "code",
   "execution_count": 57,
   "metadata": {},
   "outputs": [
    {
     "name": "stdout",
     "output_type": "stream",
     "text": [
      "Size of Vocabulary: 21647\n"
     ]
    }
   ],
   "source": [
    "# Find the number of times each word was used and the size of the vocabulary\n",
    "word_counts = {}\n",
    "\n",
    "for date in clean_headlines:\n",
    "    for headline in date:\n",
    "        for word in headline.split():\n",
    "            if word not in word_counts:\n",
    "                word_counts[word] = 1\n",
    "            else:\n",
    "                word_counts[word] += 1\n",
    "            \n",
    "print(\"Size of Vocabulary:\", len(word_counts))"
   ]
  },
  {
   "cell_type": "code",
   "execution_count": 59,
   "metadata": {},
   "outputs": [
    {
     "name": "stdout",
     "output_type": "stream",
     "text": [
      "Word embeddings: 94\n"
     ]
    }
   ],
   "source": [
    "# Load GloVe's embeddings\n",
    "embeddings_index = {}\n",
    "with open('glove.840B.300d.txt', encoding='utf-8') as f:\n",
    "    for line in f:\n",
    "        values = line.split(' ')\n",
    "        word = values[0]\n",
    "        embedding = np.asarray(values[1:], dtype='float32')\n",
    "        embeddings_index[word] = embedding\n",
    "\n",
    "print('Word embeddings:', len(embeddings_index))"
   ]
  },
  {
   "cell_type": "code",
   "execution_count": null,
   "metadata": {
    "collapsed": true
   },
   "outputs": [],
   "source": []
  },
  {
   "cell_type": "code",
   "execution_count": 60,
   "metadata": {
    "collapsed": true
   },
   "outputs": [],
   "source": [
    "df = pd.DataFrame({'Date':DateNew,'Close':close,'Adj_Close':adj,'News':headlines})"
   ]
  },
  {
   "cell_type": "code",
   "execution_count": 61,
   "metadata": {},
   "outputs": [
    {
     "data": {
      "text/html": [
       "<div>\n",
       "<style>\n",
       "    .dataframe thead tr:only-child th {\n",
       "        text-align: right;\n",
       "    }\n",
       "\n",
       "    .dataframe thead th {\n",
       "        text-align: left;\n",
       "    }\n",
       "\n",
       "    .dataframe tbody tr th {\n",
       "        vertical-align: top;\n",
       "    }\n",
       "</style>\n",
       "<table border=\"1\" class=\"dataframe\">\n",
       "  <thead>\n",
       "    <tr style=\"text-align: right;\">\n",
       "      <th></th>\n",
       "      <th>Adj_Close</th>\n",
       "      <th>Close</th>\n",
       "      <th>Date</th>\n",
       "      <th>News</th>\n",
       "    </tr>\n",
       "  </thead>\n",
       "  <tbody>\n",
       "    <tr>\n",
       "      <th>0</th>\n",
       "      <td>616008.6667</td>\n",
       "      <td>361.983327</td>\n",
       "      <td>[2012-06-16 00:00:00]</td>\n",
       "      <td>[State Bank of India plans up to &amp;#36;2bn offs...</td>\n",
       "    </tr>\n",
       "    <tr>\n",
       "      <th>1</th>\n",
       "      <td>600575.3333</td>\n",
       "      <td>360.666667</td>\n",
       "      <td>[2012-06-17 00:00:00]</td>\n",
       "      <td>[No obligation in contract on production targe...</td>\n",
       "    </tr>\n",
       "    <tr>\n",
       "      <th>2</th>\n",
       "      <td>585142.0000</td>\n",
       "      <td>359.350006</td>\n",
       "      <td>[2012-06-18 00:00:00]</td>\n",
       "      <td>[Fuel price adjustment needed to curb demand: ...</td>\n",
       "    </tr>\n",
       "    <tr>\n",
       "      <th>3</th>\n",
       "      <td>829710.0000</td>\n",
       "      <td>368.625000</td>\n",
       "      <td>[2012-06-19 00:00:00]</td>\n",
       "      <td>[BHEL to set up fabrication unit in BhandaraBh...</td>\n",
       "    </tr>\n",
       "    <tr>\n",
       "      <th>4</th>\n",
       "      <td>591690.0000</td>\n",
       "      <td>368.799988</td>\n",
       "      <td>[2012-06-20 00:00:00]</td>\n",
       "      <td>[Fed twists again, extending stimulus to weak ...</td>\n",
       "    </tr>\n",
       "  </tbody>\n",
       "</table>\n",
       "</div>"
      ],
      "text/plain": [
       "     Adj_Close       Close                   Date  \\\n",
       "0  616008.6667  361.983327  [2012-06-16 00:00:00]   \n",
       "1  600575.3333  360.666667  [2012-06-17 00:00:00]   \n",
       "2  585142.0000  359.350006  [2012-06-18 00:00:00]   \n",
       "3  829710.0000  368.625000  [2012-06-19 00:00:00]   \n",
       "4  591690.0000  368.799988  [2012-06-20 00:00:00]   \n",
       "\n",
       "                                                News  \n",
       "0  [State Bank of India plans up to &#36;2bn offs...  \n",
       "1  [No obligation in contract on production targe...  \n",
       "2  [Fuel price adjustment needed to curb demand: ...  \n",
       "3  [BHEL to set up fabrication unit in BhandaraBh...  \n",
       "4  [Fed twists again, extending stimulus to weak ...  "
      ]
     },
     "execution_count": 61,
     "metadata": {},
     "output_type": "execute_result"
    }
   ],
   "source": [
    "df.head()"
   ]
  },
  {
   "cell_type": "code",
   "execution_count": 62,
   "metadata": {
    "collapsed": true
   },
   "outputs": [],
   "source": [
    "# Remove top row since it has a null value.\n",
    "df = df[df.Date.notnull()]\n",
    "df=df[df.Close.notnull()]\n",
    "df=df[df.Adj_Close.notnull()]"
   ]
  },
  {
   "cell_type": "code",
   "execution_count": 63,
   "metadata": {},
   "outputs": [
    {
     "data": {
      "text/plain": [
       "Adj_Close    0\n",
       "Close        0\n",
       "Date         0\n",
       "News         0\n",
       "dtype: int64"
      ]
     },
     "execution_count": 63,
     "metadata": {},
     "output_type": "execute_result"
    }
   ],
   "source": [
    "df.isnull().sum()"
   ]
  },
  {
   "cell_type": "code",
   "execution_count": 64,
   "metadata": {
    "collapsed": true
   },
   "outputs": [],
   "source": [
    "df=df[df.astype(str)['Date'] != '[]']"
   ]
  },
  {
   "cell_type": "code",
   "execution_count": 65,
   "metadata": {},
   "outputs": [
    {
     "data": {
      "text/html": [
       "<div>\n",
       "<style>\n",
       "    .dataframe thead tr:only-child th {\n",
       "        text-align: right;\n",
       "    }\n",
       "\n",
       "    .dataframe thead th {\n",
       "        text-align: left;\n",
       "    }\n",
       "\n",
       "    .dataframe tbody tr th {\n",
       "        vertical-align: top;\n",
       "    }\n",
       "</style>\n",
       "<table border=\"1\" class=\"dataframe\">\n",
       "  <thead>\n",
       "    <tr style=\"text-align: right;\">\n",
       "      <th></th>\n",
       "      <th>Adj_Close</th>\n",
       "      <th>Close</th>\n",
       "      <th>Date</th>\n",
       "      <th>News</th>\n",
       "    </tr>\n",
       "  </thead>\n",
       "  <tbody>\n",
       "    <tr>\n",
       "      <th>0</th>\n",
       "      <td>616008.6667</td>\n",
       "      <td>361.983327</td>\n",
       "      <td>[2012-06-16 00:00:00]</td>\n",
       "      <td>[State Bank of India plans up to &amp;#36;2bn offs...</td>\n",
       "    </tr>\n",
       "    <tr>\n",
       "      <th>1</th>\n",
       "      <td>600575.3333</td>\n",
       "      <td>360.666667</td>\n",
       "      <td>[2012-06-17 00:00:00]</td>\n",
       "      <td>[No obligation in contract on production targe...</td>\n",
       "    </tr>\n",
       "    <tr>\n",
       "      <th>2</th>\n",
       "      <td>585142.0000</td>\n",
       "      <td>359.350006</td>\n",
       "      <td>[2012-06-18 00:00:00]</td>\n",
       "      <td>[Fuel price adjustment needed to curb demand: ...</td>\n",
       "    </tr>\n",
       "    <tr>\n",
       "      <th>3</th>\n",
       "      <td>829710.0000</td>\n",
       "      <td>368.625000</td>\n",
       "      <td>[2012-06-19 00:00:00]</td>\n",
       "      <td>[BHEL to set up fabrication unit in BhandaraBh...</td>\n",
       "    </tr>\n",
       "    <tr>\n",
       "      <th>4</th>\n",
       "      <td>591690.0000</td>\n",
       "      <td>368.799988</td>\n",
       "      <td>[2012-06-20 00:00:00]</td>\n",
       "      <td>[Fed twists again, extending stimulus to weak ...</td>\n",
       "    </tr>\n",
       "  </tbody>\n",
       "</table>\n",
       "</div>"
      ],
      "text/plain": [
       "     Adj_Close       Close                   Date  \\\n",
       "0  616008.6667  361.983327  [2012-06-16 00:00:00]   \n",
       "1  600575.3333  360.666667  [2012-06-17 00:00:00]   \n",
       "2  585142.0000  359.350006  [2012-06-18 00:00:00]   \n",
       "3  829710.0000  368.625000  [2012-06-19 00:00:00]   \n",
       "4  591690.0000  368.799988  [2012-06-20 00:00:00]   \n",
       "\n",
       "                                                News  \n",
       "0  [State Bank of India plans up to &#36;2bn offs...  \n",
       "1  [No obligation in contract on production targe...  \n",
       "2  [Fuel price adjustment needed to curb demand: ...  \n",
       "3  [BHEL to set up fabrication unit in BhandaraBh...  \n",
       "4  [Fed twists again, extending stimulus to weak ...  "
      ]
     },
     "execution_count": 65,
     "metadata": {},
     "output_type": "execute_result"
    }
   ],
   "source": [
    "df.head()"
   ]
  },
  {
   "cell_type": "code",
   "execution_count": 66,
   "metadata": {
    "collapsed": true
   },
   "outputs": [],
   "source": [
    "df=df[['Date','Close','Adj_Close','News']]"
   ]
  },
  {
   "cell_type": "code",
   "execution_count": 67,
   "metadata": {},
   "outputs": [
    {
     "data": {
      "text/html": [
       "<div>\n",
       "<style>\n",
       "    .dataframe thead tr:only-child th {\n",
       "        text-align: right;\n",
       "    }\n",
       "\n",
       "    .dataframe thead th {\n",
       "        text-align: left;\n",
       "    }\n",
       "\n",
       "    .dataframe tbody tr th {\n",
       "        vertical-align: top;\n",
       "    }\n",
       "</style>\n",
       "<table border=\"1\" class=\"dataframe\">\n",
       "  <thead>\n",
       "    <tr style=\"text-align: right;\">\n",
       "      <th></th>\n",
       "      <th>Date</th>\n",
       "      <th>Close</th>\n",
       "      <th>Adj_Close</th>\n",
       "      <th>News</th>\n",
       "    </tr>\n",
       "  </thead>\n",
       "  <tbody>\n",
       "    <tr>\n",
       "      <th>0</th>\n",
       "      <td>[2012-06-16 00:00:00]</td>\n",
       "      <td>361.983327</td>\n",
       "      <td>616008.6667</td>\n",
       "      <td>[State Bank of India plans up to &amp;#36;2bn offs...</td>\n",
       "    </tr>\n",
       "    <tr>\n",
       "      <th>1</th>\n",
       "      <td>[2012-06-17 00:00:00]</td>\n",
       "      <td>360.666667</td>\n",
       "      <td>600575.3333</td>\n",
       "      <td>[No obligation in contract on production targe...</td>\n",
       "    </tr>\n",
       "    <tr>\n",
       "      <th>2</th>\n",
       "      <td>[2012-06-18 00:00:00]</td>\n",
       "      <td>359.350006</td>\n",
       "      <td>585142.0000</td>\n",
       "      <td>[Fuel price adjustment needed to curb demand: ...</td>\n",
       "    </tr>\n",
       "    <tr>\n",
       "      <th>3</th>\n",
       "      <td>[2012-06-19 00:00:00]</td>\n",
       "      <td>368.625000</td>\n",
       "      <td>829710.0000</td>\n",
       "      <td>[BHEL to set up fabrication unit in BhandaraBh...</td>\n",
       "    </tr>\n",
       "    <tr>\n",
       "      <th>4</th>\n",
       "      <td>[2012-06-20 00:00:00]</td>\n",
       "      <td>368.799988</td>\n",
       "      <td>591690.0000</td>\n",
       "      <td>[Fed twists again, extending stimulus to weak ...</td>\n",
       "    </tr>\n",
       "  </tbody>\n",
       "</table>\n",
       "</div>"
      ],
      "text/plain": [
       "                    Date       Close    Adj_Close  \\\n",
       "0  [2012-06-16 00:00:00]  361.983327  616008.6667   \n",
       "1  [2012-06-17 00:00:00]  360.666667  600575.3333   \n",
       "2  [2012-06-18 00:00:00]  359.350006  585142.0000   \n",
       "3  [2012-06-19 00:00:00]  368.625000  829710.0000   \n",
       "4  [2012-06-20 00:00:00]  368.799988  591690.0000   \n",
       "\n",
       "                                                News  \n",
       "0  [State Bank of India plans up to &#36;2bn offs...  \n",
       "1  [No obligation in contract on production targe...  \n",
       "2  [Fuel price adjustment needed to curb demand: ...  \n",
       "3  [BHEL to set up fabrication unit in BhandaraBh...  \n",
       "4  [Fed twists again, extending stimulus to weak ...  "
      ]
     },
     "execution_count": 67,
     "metadata": {},
     "output_type": "execute_result"
    }
   ],
   "source": [
    "\n",
    "df = df.reset_index(drop=True)\n",
    "df.head()"
   ]
  },
  {
   "cell_type": "code",
   "execution_count": 86,
   "metadata": {},
   "outputs": [
    {
     "data": {
      "text/plain": [
       "[\"Fed twists again, extending stimulus to weak economyGovt must smoothen path for foreign investors: LN MittalTCS to pay Rs 8-cr commission to Ratan Tata for FY12DGCA asks airlines to slash fares in highest fare bucketAviation sector needs tax reforms, not mere FDI: ReportNickelodeon to launch branded mobile handsets for kidsCable TV digitalisation deadline put off by four monthsI-T probe into political parties, trusts to check evasionMetro, IKEA chiefs may meet Sharma in Russia this weekRBI issues guidelines to set up White Label ATMsPMO may decide on 58 captive coal blocks this weekKansai Nerolac to buy 68% stake in Nepalese paint makerSBI to reduce lending rates to exporters soonWorld steel output up 0.7% at 131m tonnes in MayGovt to exempt 14 more services from taxRIM launches Rs 1.39 lakh phone, says will outgrow industryIndia's unrestricted foreign debt limits see good demandCable digitisation deadline may be extended by 3-4 monthsHC asks Unitech to respond to plea of TelenorVedanta sells aluminium at USD 220 a tonne over LMEMahindra plans to launch 3 motorcycles soonResidual stake sale in HZL, Balco: Mines Min writes to EGoMTatas working on electric car to be priced less than &#36;20000Pharma MNCs increase focus in Indian market: ICRAPower producers say import duty hike would affect tariffsGodrej to launch fifth phase of GGC township at AhmedabadGAIL wants US to relax norms for more LNG importsStatutory warning now on cola drinks too!Demerger, stock buyback plans on cards: Allcargo GlobalCCI order on cement cartel likely tomorrow: SourcesAlstom T&D bags Rs 176 cr orders from Power GridSony India appoints Kenichiro Hibi as new MDFitch lowers rating outlook of SBI, ICICI, PNB among othersAviation min hopeful of FDI proposal going aheadP&G cuts earnings and revenue forecastsGeometric, DIPRO partner to tap Japanese marketDaiichi Sankyo to sell Ranbaxy's products in VenezuelaNeed stability in crude price before moving on petrol: BPCLHCL Tech front-runner to bag Disney contract: SourcesMSP: Why subsidy to farmers be replaced with incentivesFitch downgrades SBI, 8 more banks to negativeSAIL proposes 10% wage hike; unions demand 30%PMO may return blocks withdrawn from CIL earlier: SourcesBiyani to seek strategic union in retail post non-core saleNews Corp in A&#36;2bn Consolidated Media bidWelspun Energy in talks to raise up to USD 200m: ReportEducomp ties up USD 155m to repay FCCBs; shrs jump 9%RCom inflated book equity by Rs 22,000cr: VeritasIndia may not be called to inject &#36;10bn for Eurozone crisis\"]"
      ]
     },
     "execution_count": 86,
     "metadata": {},
     "output_type": "execute_result"
    }
   ],
   "source": [
    "df.News[4]"
   ]
  },
  {
   "cell_type": "code",
   "execution_count": 62,
   "metadata": {
    "collapsed": true
   },
   "outputs": [],
   "source": [
    "# Compare the number of headlines for each day\n",
    "#print(max(len(i) for i in headlines))\n",
    "#print(min(len(i) for i in headlines))\n",
    "#print(np.mean(len(i) for i in headlines))"
   ]
  },
  {
   "cell_type": "code",
   "execution_count": 84,
   "metadata": {},
   "outputs": [
    {
     "ename": "MemoryError",
     "evalue": "",
     "output_type": "error",
     "traceback": [
      "\u001b[1;31m---------------------------------------------------------------------------\u001b[0m",
      "\u001b[1;31mMemoryError\u001b[0m                               Traceback (most recent call last)",
      "\u001b[1;32m<ipython-input-84-966731fd23ec>\u001b[0m in \u001b[0;36m<module>\u001b[1;34m()\u001b[0m\n\u001b[1;32m----> 1\u001b[1;33m \u001b[0mdf\u001b[0m\u001b[1;33m[\u001b[0m\u001b[1;34m'News'\u001b[0m\u001b[1;33m]\u001b[0m\u001b[1;33m=\u001b[0m\u001b[0mdf\u001b[0m\u001b[1;33m[\u001b[0m\u001b[1;34m'News'\u001b[0m\u001b[1;33m]\u001b[0m\u001b[1;33m.\u001b[0m\u001b[0mapply\u001b[0m\u001b[1;33m(\u001b[0m\u001b[1;32mlambda\u001b[0m \u001b[0mx\u001b[0m\u001b[1;33m:\u001b[0m\u001b[1;34m','\u001b[0m\u001b[1;33m.\u001b[0m\u001b[0mjoin\u001b[0m\u001b[1;33m(\u001b[0m\u001b[0mstr\u001b[0m\u001b[1;33m(\u001b[0m\u001b[0mx\u001b[0m\u001b[1;33m)\u001b[0m \u001b[1;32mfor\u001b[0m \u001b[0mx\u001b[0m \u001b[1;32min\u001b[0m \u001b[0mdf\u001b[0m\u001b[1;33m[\u001b[0m\u001b[1;34m'News'\u001b[0m\u001b[1;33m]\u001b[0m\u001b[1;33m)\u001b[0m\u001b[1;33m)\u001b[0m\u001b[1;33m\u001b[0m\u001b[0m\n\u001b[0m",
      "\u001b[1;32m~\\AppData\\Local\\conda\\conda\\envs\\my_root\\lib\\site-packages\\pandas\\core\\series.py\u001b[0m in \u001b[0;36mapply\u001b[1;34m(self, func, convert_dtype, args, **kwds)\u001b[0m\n\u001b[0;32m   2353\u001b[0m \u001b[1;33m\u001b[0m\u001b[0m\n\u001b[0;32m   2354\u001b[0m     \u001b[1;33m@\u001b[0m\u001b[0mAppender\u001b[0m\u001b[1;33m(\u001b[0m\u001b[0m_agg_doc\u001b[0m\u001b[1;33m)\u001b[0m\u001b[1;33m\u001b[0m\u001b[0m\n\u001b[1;32m-> 2355\u001b[1;33m     @Appender(generic._shared_docs['aggregate'] % dict(\n\u001b[0m\u001b[0;32m   2356\u001b[0m         \u001b[0mversionadded\u001b[0m\u001b[1;33m=\u001b[0m\u001b[1;34m'.. versionadded:: 0.20.0'\u001b[0m\u001b[1;33m,\u001b[0m\u001b[1;33m\u001b[0m\u001b[0m\n\u001b[0;32m   2357\u001b[0m         **_shared_doc_kwargs))\n",
      "\u001b[1;32mpandas/_libs/src\\inference.pyx\u001b[0m in \u001b[0;36mpandas._libs.lib.map_infer\u001b[1;34m()\u001b[0m\n",
      "\u001b[1;32m<ipython-input-84-966731fd23ec>\u001b[0m in \u001b[0;36m<lambda>\u001b[1;34m(x)\u001b[0m\n\u001b[1;32m----> 1\u001b[1;33m \u001b[0mdf\u001b[0m\u001b[1;33m[\u001b[0m\u001b[1;34m'News'\u001b[0m\u001b[1;33m]\u001b[0m\u001b[1;33m=\u001b[0m\u001b[0mdf\u001b[0m\u001b[1;33m[\u001b[0m\u001b[1;34m'News'\u001b[0m\u001b[1;33m]\u001b[0m\u001b[1;33m.\u001b[0m\u001b[0mapply\u001b[0m\u001b[1;33m(\u001b[0m\u001b[1;32mlambda\u001b[0m \u001b[0mx\u001b[0m\u001b[1;33m:\u001b[0m\u001b[1;34m','\u001b[0m\u001b[1;33m.\u001b[0m\u001b[0mjoin\u001b[0m\u001b[1;33m(\u001b[0m\u001b[0mstr\u001b[0m\u001b[1;33m(\u001b[0m\u001b[0mx\u001b[0m\u001b[1;33m)\u001b[0m \u001b[1;32mfor\u001b[0m \u001b[0mx\u001b[0m \u001b[1;32min\u001b[0m \u001b[0mdf\u001b[0m\u001b[1;33m[\u001b[0m\u001b[1;34m'News'\u001b[0m\u001b[1;33m]\u001b[0m\u001b[1;33m)\u001b[0m\u001b[1;33m)\u001b[0m\u001b[1;33m\u001b[0m\u001b[0m\n\u001b[0m",
      "\u001b[1;31mMemoryError\u001b[0m: "
     ]
    }
   ],
   "source": [
    "df['News']=df['News'].apply(lambda x:','.join(str(x) for x in df['News']))"
   ]
  },
  {
   "cell_type": "code",
   "execution_count": 74,
   "metadata": {
    "collapsed": true
   },
   "outputs": [],
   "source": [
    "df['Date']=pd.to_datetime(df.Date.apply(lambda x: x[0]))"
   ]
  },
  {
   "cell_type": "code",
   "execution_count": 75,
   "metadata": {},
   "outputs": [
    {
     "data": {
      "text/html": [
       "<div>\n",
       "<style>\n",
       "    .dataframe thead tr:only-child th {\n",
       "        text-align: right;\n",
       "    }\n",
       "\n",
       "    .dataframe thead th {\n",
       "        text-align: left;\n",
       "    }\n",
       "\n",
       "    .dataframe tbody tr th {\n",
       "        vertical-align: top;\n",
       "    }\n",
       "</style>\n",
       "<table border=\"1\" class=\"dataframe\">\n",
       "  <thead>\n",
       "    <tr style=\"text-align: right;\">\n",
       "      <th></th>\n",
       "      <th>Date</th>\n",
       "      <th>Close</th>\n",
       "      <th>Adj_Close</th>\n",
       "      <th>News</th>\n",
       "    </tr>\n",
       "  </thead>\n",
       "  <tbody>\n",
       "    <tr>\n",
       "      <th>0</th>\n",
       "      <td>2012-06-16</td>\n",
       "      <td>361.983327</td>\n",
       "      <td>616008.6667</td>\n",
       "      <td>[State Bank of India plans up to &amp;#36;2bn offs...</td>\n",
       "    </tr>\n",
       "    <tr>\n",
       "      <th>1</th>\n",
       "      <td>2012-06-17</td>\n",
       "      <td>360.666667</td>\n",
       "      <td>600575.3333</td>\n",
       "      <td>[No obligation in contract on production targe...</td>\n",
       "    </tr>\n",
       "    <tr>\n",
       "      <th>2</th>\n",
       "      <td>2012-06-18</td>\n",
       "      <td>359.350006</td>\n",
       "      <td>585142.0000</td>\n",
       "      <td>[Fuel price adjustment needed to curb demand: ...</td>\n",
       "    </tr>\n",
       "    <tr>\n",
       "      <th>3</th>\n",
       "      <td>2012-06-19</td>\n",
       "      <td>368.625000</td>\n",
       "      <td>829710.0000</td>\n",
       "      <td>[BHEL to set up fabrication unit in BhandaraBh...</td>\n",
       "    </tr>\n",
       "    <tr>\n",
       "      <th>4</th>\n",
       "      <td>2012-06-20</td>\n",
       "      <td>368.799988</td>\n",
       "      <td>591690.0000</td>\n",
       "      <td>[Fed twists again, extending stimulus to weak ...</td>\n",
       "    </tr>\n",
       "  </tbody>\n",
       "</table>\n",
       "</div>"
      ],
      "text/plain": [
       "        Date       Close    Adj_Close  \\\n",
       "0 2012-06-16  361.983327  616008.6667   \n",
       "1 2012-06-17  360.666667  600575.3333   \n",
       "2 2012-06-18  359.350006  585142.0000   \n",
       "3 2012-06-19  368.625000  829710.0000   \n",
       "4 2012-06-20  368.799988  591690.0000   \n",
       "\n",
       "                                                News  \n",
       "0  [State Bank of India plans up to &#36;2bn offs...  \n",
       "1  [No obligation in contract on production targe...  \n",
       "2  [Fuel price adjustment needed to curb demand: ...  \n",
       "3  [BHEL to set up fabrication unit in BhandaraBh...  \n",
       "4  [Fed twists again, extending stimulus to weak ...  "
      ]
     },
     "execution_count": 75,
     "metadata": {},
     "output_type": "execute_result"
    }
   ],
   "source": [
    "df.head()"
   ]
  },
  {
   "cell_type": "code",
   "execution_count": 77,
   "metadata": {
    "collapsed": true
   },
   "outputs": [],
   "source": [
    "\n",
    "df=df.set_index('Date')"
   ]
  },
  {
   "cell_type": "code",
   "execution_count": 78,
   "metadata": {},
   "outputs": [
    {
     "data": {
      "text/html": [
       "<div>\n",
       "<style>\n",
       "    .dataframe thead tr:only-child th {\n",
       "        text-align: right;\n",
       "    }\n",
       "\n",
       "    .dataframe thead th {\n",
       "        text-align: left;\n",
       "    }\n",
       "\n",
       "    .dataframe tbody tr th {\n",
       "        vertical-align: top;\n",
       "    }\n",
       "</style>\n",
       "<table border=\"1\" class=\"dataframe\">\n",
       "  <thead>\n",
       "    <tr style=\"text-align: right;\">\n",
       "      <th></th>\n",
       "      <th>Close</th>\n",
       "      <th>Adj_Close</th>\n",
       "      <th>News</th>\n",
       "    </tr>\n",
       "    <tr>\n",
       "      <th>Date</th>\n",
       "      <th></th>\n",
       "      <th></th>\n",
       "      <th></th>\n",
       "    </tr>\n",
       "  </thead>\n",
       "  <tbody>\n",
       "    <tr>\n",
       "      <th>2012-06-16</th>\n",
       "      <td>361.983327</td>\n",
       "      <td>616008.6667</td>\n",
       "      <td>[State Bank of India plans up to &amp;#36;2bn offs...</td>\n",
       "    </tr>\n",
       "    <tr>\n",
       "      <th>2012-06-17</th>\n",
       "      <td>360.666667</td>\n",
       "      <td>600575.3333</td>\n",
       "      <td>[No obligation in contract on production targe...</td>\n",
       "    </tr>\n",
       "    <tr>\n",
       "      <th>2012-06-18</th>\n",
       "      <td>359.350006</td>\n",
       "      <td>585142.0000</td>\n",
       "      <td>[Fuel price adjustment needed to curb demand: ...</td>\n",
       "    </tr>\n",
       "    <tr>\n",
       "      <th>2012-06-19</th>\n",
       "      <td>368.625000</td>\n",
       "      <td>829710.0000</td>\n",
       "      <td>[BHEL to set up fabrication unit in BhandaraBh...</td>\n",
       "    </tr>\n",
       "    <tr>\n",
       "      <th>2012-06-20</th>\n",
       "      <td>368.799988</td>\n",
       "      <td>591690.0000</td>\n",
       "      <td>[Fed twists again, extending stimulus to weak ...</td>\n",
       "    </tr>\n",
       "  </tbody>\n",
       "</table>\n",
       "</div>"
      ],
      "text/plain": [
       "                 Close    Adj_Close  \\\n",
       "Date                                  \n",
       "2012-06-16  361.983327  616008.6667   \n",
       "2012-06-17  360.666667  600575.3333   \n",
       "2012-06-18  359.350006  585142.0000   \n",
       "2012-06-19  368.625000  829710.0000   \n",
       "2012-06-20  368.799988  591690.0000   \n",
       "\n",
       "                                                         News  \n",
       "Date                                                           \n",
       "2012-06-16  [State Bank of India plans up to &#36;2bn offs...  \n",
       "2012-06-17  [No obligation in contract on production targe...  \n",
       "2012-06-18  [Fuel price adjustment needed to curb demand: ...  \n",
       "2012-06-19  [BHEL to set up fabrication unit in BhandaraBh...  \n",
       "2012-06-20  [Fed twists again, extending stimulus to weak ...  "
      ]
     },
     "execution_count": 78,
     "metadata": {},
     "output_type": "execute_result"
    }
   ],
   "source": [
    "df.head()"
   ]
  },
  {
   "cell_type": "code",
   "execution_count": 79,
   "metadata": {
    "collapsed": true
   },
   "outputs": [],
   "source": [
    "# Saving the data as pickle file\n",
    "df.to_pickle('Upickled_ten_year_filtered_data.pkl')  "
   ]
  },
  {
   "cell_type": "code",
   "execution_count": 80,
   "metadata": {
    "collapsed": true
   },
   "outputs": [],
   "source": [
    "# Save pandas frame in csv form\n",
    "df.to_csv('sample_interpolated_df_10_years_filtered_data.csv',\n",
    "                       sep='\\t', encoding='utf-8')"
   ]
  },
  {
   "cell_type": "code",
   "execution_count": 81,
   "metadata": {
    "collapsed": true
   },
   "outputs": [],
   "source": [
    "# Reading the data as pickle file\n",
    "dataframe_read = pd.read_pickle('Upickled_ten_year_filtered_data.pkl')"
   ]
  },
  {
   "cell_type": "code",
   "execution_count": null,
   "metadata": {
    "collapsed": true
   },
   "outputs": [],
   "source": []
  },
  {
   "cell_type": "code",
   "execution_count": null,
   "metadata": {
    "collapsed": true
   },
   "outputs": [],
   "source": []
  },
  {
   "cell_type": "code",
   "execution_count": 76,
   "metadata": {
    "collapsed": true
   },
   "outputs": [],
   "source": [
    "df4[\"compound\"] = ''\n",
    "df4[\"neg\"] = ''\n",
    "df4[\"neu\"] = ''\n",
    "df4[\"pos\"] = ''"
   ]
  },
  {
   "cell_type": "code",
   "execution_count": 77,
   "metadata": {},
   "outputs": [
    {
     "data": {
      "text/html": [
       "<div>\n",
       "<style>\n",
       "    .dataframe thead tr:only-child th {\n",
       "        text-align: right;\n",
       "    }\n",
       "\n",
       "    .dataframe thead th {\n",
       "        text-align: left;\n",
       "    }\n",
       "\n",
       "    .dataframe tbody tr th {\n",
       "        vertical-align: top;\n",
       "    }\n",
       "</style>\n",
       "<table border=\"1\" class=\"dataframe\">\n",
       "  <thead>\n",
       "    <tr style=\"text-align: right;\">\n",
       "      <th></th>\n",
       "      <th>Open</th>\n",
       "      <th>compound</th>\n",
       "      <th>neg</th>\n",
       "      <th>neu</th>\n",
       "      <th>pos</th>\n",
       "    </tr>\n",
       "    <tr>\n",
       "      <th>Date</th>\n",
       "      <th></th>\n",
       "      <th></th>\n",
       "      <th></th>\n",
       "      <th></th>\n",
       "      <th></th>\n",
       "    </tr>\n",
       "  </thead>\n",
       "  <tbody>\n",
       "    <tr>\n",
       "      <th>2011-01-03</th>\n",
       "      <td>531.000000</td>\n",
       "      <td></td>\n",
       "      <td></td>\n",
       "      <td></td>\n",
       "      <td></td>\n",
       "    </tr>\n",
       "    <tr>\n",
       "      <th>2011-01-04</th>\n",
       "      <td>530.000000</td>\n",
       "      <td></td>\n",
       "      <td></td>\n",
       "      <td></td>\n",
       "      <td></td>\n",
       "    </tr>\n",
       "    <tr>\n",
       "      <th>2011-01-06</th>\n",
       "      <td>539.825012</td>\n",
       "      <td></td>\n",
       "      <td></td>\n",
       "      <td></td>\n",
       "      <td></td>\n",
       "    </tr>\n",
       "    <tr>\n",
       "      <th>2011-01-07</th>\n",
       "      <td>540.500000</td>\n",
       "      <td></td>\n",
       "      <td></td>\n",
       "      <td></td>\n",
       "      <td></td>\n",
       "    </tr>\n",
       "    <tr>\n",
       "      <th>2011-01-13</th>\n",
       "      <td>515.000000</td>\n",
       "      <td></td>\n",
       "      <td></td>\n",
       "      <td></td>\n",
       "      <td></td>\n",
       "    </tr>\n",
       "  </tbody>\n",
       "</table>\n",
       "</div>"
      ],
      "text/plain": [
       "                  Open compound neg neu pos\n",
       "Date                                       \n",
       "2011-01-03  531.000000                     \n",
       "2011-01-04  530.000000                     \n",
       "2011-01-06  539.825012                     \n",
       "2011-01-07  540.500000                     \n",
       "2011-01-13  515.000000                     "
      ]
     },
     "execution_count": 77,
     "metadata": {},
     "output_type": "execute_result"
    }
   ],
   "source": [
    "df4.head()\n",
    "                  "
   ]
  },
  {
   "cell_type": "code",
   "execution_count": 78,
   "metadata": {},
   "outputs": [
    {
     "data": {
      "text/html": [
       "<div>\n",
       "<style>\n",
       "    .dataframe thead tr:only-child th {\n",
       "        text-align: right;\n",
       "    }\n",
       "\n",
       "    .dataframe thead th {\n",
       "        text-align: left;\n",
       "    }\n",
       "\n",
       "    .dataframe tbody tr th {\n",
       "        vertical-align: top;\n",
       "    }\n",
       "</style>\n",
       "<table border=\"1\" class=\"dataframe\">\n",
       "  <thead>\n",
       "    <tr style=\"text-align: right;\">\n",
       "      <th>Date</th>\n",
       "      <th>2011-01-03 00:00:00</th>\n",
       "      <th>2011-01-04 00:00:00</th>\n",
       "      <th>2011-01-06 00:00:00</th>\n",
       "      <th>2011-01-07 00:00:00</th>\n",
       "      <th>2011-01-13 00:00:00</th>\n",
       "      <th>2011-01-18 00:00:00</th>\n",
       "      <th>2011-01-19 00:00:00</th>\n",
       "      <th>2011-01-20 00:00:00</th>\n",
       "      <th>2011-01-21 00:00:00</th>\n",
       "      <th>2011-01-24 00:00:00</th>\n",
       "      <th>...</th>\n",
       "      <th>2017-09-29 00:00:00</th>\n",
       "      <th>2017-10-03 00:00:00</th>\n",
       "      <th>2017-10-04 00:00:00</th>\n",
       "      <th>2017-10-05 00:00:00</th>\n",
       "      <th>2017-10-10 00:00:00</th>\n",
       "      <th>2017-10-13 00:00:00</th>\n",
       "      <th>2017-10-17 00:00:00</th>\n",
       "      <th>2017-10-18 00:00:00</th>\n",
       "      <th>2017-10-23 00:00:00</th>\n",
       "      <th>2017-10-26 00:00:00</th>\n",
       "    </tr>\n",
       "  </thead>\n",
       "  <tbody>\n",
       "    <tr>\n",
       "      <th>Open</th>\n",
       "      <td>531</td>\n",
       "      <td>530</td>\n",
       "      <td>539.825</td>\n",
       "      <td>540.5</td>\n",
       "      <td>515</td>\n",
       "      <td>502.35</td>\n",
       "      <td>500</td>\n",
       "      <td>489.225</td>\n",
       "      <td>487.5</td>\n",
       "      <td>498.725</td>\n",
       "      <td>...</td>\n",
       "      <td>791</td>\n",
       "      <td>782.15</td>\n",
       "      <td>798.35</td>\n",
       "      <td>825</td>\n",
       "      <td>831</td>\n",
       "      <td>880</td>\n",
       "      <td>878.9</td>\n",
       "      <td>875.55</td>\n",
       "      <td>916.7</td>\n",
       "      <td>938.35</td>\n",
       "    </tr>\n",
       "    <tr>\n",
       "      <th>News</th>\n",
       "      <td>Speaking at FICCI's 83rd Annual General Meetin...</td>\n",
       "      <td>I won’t be too enthused on the stock beyond Rs...</td>\n",
       "      <td>Faced with a gas crunch at its petrochemical p...</td>\n",
       "      <td>It has been a series of positive days for the ...</td>\n",
       "      <td>Buy Reliance Industries on dips, says Ambarees...</td>\n",
       "      <td>Reliance Industries (RIL) is planning global h...</td>\n",
       "      <td>Jai Bala, Chief Market Technician, cashthechao...</td>\n",
       "      <td>The flagship company of Reliance Group, Relian...</td>\n",
       "      <td>The flagship company of Reliance Group, Relian...</td>\n",
       "      <td>Bharti Airtel stronger than Reliance, says Ani...</td>\n",
       "      <td>...</td>\n",
       "      <td>Reliance chairman Mukesh Ambani's son Akash sa...</td>\n",
       "      <td>In the Budget, there was a proposal by the Fin...</td>\n",
       "      <td>Sandeep Wagle of powermywealth.com is of the v...</td>\n",
       "      <td>Ashwani Gujral of ashwanigujral.com recommends...</td>\n",
       "      <td>Nifty on Tuesday was trading in the green up 2...</td>\n",
       "      <td>Operational performance was far better than an...</td>\n",
       "      <td>RIL-BP combine yesterday submitted to the Dire...</td>\n",
       "      <td>Prabhudas Lilladher recommended accumulate rat...</td>\n",
       "      <td>Sharekhan is bullish on Reliance Industries ha...</td>\n",
       "      <td>The partners yesterday submitted to the Direct...</td>\n",
       "    </tr>\n",
       "  </tbody>\n",
       "</table>\n",
       "<p>2 rows × 1160 columns</p>\n",
       "</div>"
      ],
      "text/plain": [
       "Date                                         2011-01-03  \\\n",
       "Open                                                531   \n",
       "News  Speaking at FICCI's 83rd Annual General Meetin...   \n",
       "\n",
       "Date                                         2011-01-04  \\\n",
       "Open                                                530   \n",
       "News  I won’t be too enthused on the stock beyond Rs...   \n",
       "\n",
       "Date                                         2011-01-06  \\\n",
       "Open                                            539.825   \n",
       "News  Faced with a gas crunch at its petrochemical p...   \n",
       "\n",
       "Date                                         2011-01-07  \\\n",
       "Open                                              540.5   \n",
       "News  It has been a series of positive days for the ...   \n",
       "\n",
       "Date                                         2011-01-13  \\\n",
       "Open                                                515   \n",
       "News  Buy Reliance Industries on dips, says Ambarees...   \n",
       "\n",
       "Date                                         2011-01-18  \\\n",
       "Open                                             502.35   \n",
       "News  Reliance Industries (RIL) is planning global h...   \n",
       "\n",
       "Date                                         2011-01-19  \\\n",
       "Open                                                500   \n",
       "News  Jai Bala, Chief Market Technician, cashthechao...   \n",
       "\n",
       "Date                                         2011-01-20  \\\n",
       "Open                                            489.225   \n",
       "News  The flagship company of Reliance Group, Relian...   \n",
       "\n",
       "Date                                         2011-01-21  \\\n",
       "Open                                              487.5   \n",
       "News  The flagship company of Reliance Group, Relian...   \n",
       "\n",
       "Date                                         2011-01-24  \\\n",
       "Open                                            498.725   \n",
       "News  Bharti Airtel stronger than Reliance, says Ani...   \n",
       "\n",
       "Date                        ...                          \\\n",
       "Open                        ...                           \n",
       "News                        ...                           \n",
       "\n",
       "Date                                         2017-09-29  \\\n",
       "Open                                                791   \n",
       "News  Reliance chairman Mukesh Ambani's son Akash sa...   \n",
       "\n",
       "Date                                         2017-10-03  \\\n",
       "Open                                             782.15   \n",
       "News  In the Budget, there was a proposal by the Fin...   \n",
       "\n",
       "Date                                         2017-10-04  \\\n",
       "Open                                             798.35   \n",
       "News  Sandeep Wagle of powermywealth.com is of the v...   \n",
       "\n",
       "Date                                         2017-10-05  \\\n",
       "Open                                                825   \n",
       "News  Ashwani Gujral of ashwanigujral.com recommends...   \n",
       "\n",
       "Date                                         2017-10-10  \\\n",
       "Open                                                831   \n",
       "News  Nifty on Tuesday was trading in the green up 2...   \n",
       "\n",
       "Date                                         2017-10-13  \\\n",
       "Open                                                880   \n",
       "News  Operational performance was far better than an...   \n",
       "\n",
       "Date                                         2017-10-17  \\\n",
       "Open                                              878.9   \n",
       "News  RIL-BP combine yesterday submitted to the Dire...   \n",
       "\n",
       "Date                                         2017-10-18  \\\n",
       "Open                                             875.55   \n",
       "News  Prabhudas Lilladher recommended accumulate rat...   \n",
       "\n",
       "Date                                         2017-10-23  \\\n",
       "Open                                              916.7   \n",
       "News  Sharekhan is bullish on Reliance Industries ha...   \n",
       "\n",
       "Date                                         2017-10-26  \n",
       "Open                                             938.35  \n",
       "News  The partners yesterday submitted to the Direct...  \n",
       "\n",
       "[2 rows x 1160 columns]"
      ]
     },
     "execution_count": 78,
     "metadata": {},
     "output_type": "execute_result"
    }
   ],
   "source": [
    "df3.T"
   ]
  },
  {
   "cell_type": "code",
   "execution_count": 79,
   "metadata": {
    "collapsed": true
   },
   "outputs": [],
   "source": [
    "from nltk.classify import NaiveBayesClassifier\n",
    "from nltk.corpus import subjectivity\n",
    "from nltk.sentiment import SentimentAnalyzer\n",
    "from nltk.sentiment.util import *\n",
    "from nltk.sentiment.vader import SentimentIntensityAnalyzer\n",
    "import unicodedata"
   ]
  },
  {
   "cell_type": "code",
   "execution_count": 80,
   "metadata": {},
   "outputs": [
    {
     "data": {
      "text/plain": [
       "\"It has been a series of positive days for the markets, until the closing on the last day of the week. However, it is not the time to reach the panic button yet, says CNBC-TV18’s Udayan Mukherjee.The Central Bureau of Investigation (CBI) searched the house of a former upstream regulator on Friday, the first investigative action after the CAG said in a report there may have been inflated costs for some of Reliance Industries' exploration activities.Reliance Industries touched an intraday high of Rs 906 and an intraday low of Rs 875.60. At 12:37 hrs the share was quoting at Rs 876.90, down Rs 20.70, or 2.31%.\""
      ]
     },
     "execution_count": 80,
     "metadata": {},
     "output_type": "execute_result"
    }
   ],
   "source": [
    "df.loc[3]['News']"
   ]
  },
  {
   "cell_type": "code",
   "execution_count": 81,
   "metadata": {
    "collapsed": true
   },
   "outputs": [],
   "source": [
    "sid = SentimentIntensityAnalyzer()\n",
    "for date,row in df3.T.iteritems():\n",
    "    try:\n",
    "        sentence = unicodedata.normalize('NFKD', df3.loc[date,'News'])\n",
    "        ss = sid.polarity_scores(sentence)\n",
    "        df4.set_value(date, 'compound', ss['compound'])\n",
    "        df4.set_value(date, 'neg', ss['neg'])\n",
    "        df4.set_value(date, 'neu', ss['neu'])\n",
    "        df4.set_value(date, 'pos', ss['pos'])\n",
    "    except TypeError:\n",
    "        print (df3.loc[date,'News'])\n",
    "        print (date)"
   ]
  },
  {
   "cell_type": "code",
   "execution_count": 82,
   "metadata": {},
   "outputs": [
    {
     "data": {
      "text/html": [
       "<div>\n",
       "<style>\n",
       "    .dataframe thead tr:only-child th {\n",
       "        text-align: right;\n",
       "    }\n",
       "\n",
       "    .dataframe thead th {\n",
       "        text-align: left;\n",
       "    }\n",
       "\n",
       "    .dataframe tbody tr th {\n",
       "        vertical-align: top;\n",
       "    }\n",
       "</style>\n",
       "<table border=\"1\" class=\"dataframe\">\n",
       "  <thead>\n",
       "    <tr style=\"text-align: right;\">\n",
       "      <th></th>\n",
       "      <th>Open</th>\n",
       "      <th>compound</th>\n",
       "      <th>neg</th>\n",
       "      <th>neu</th>\n",
       "      <th>pos</th>\n",
       "    </tr>\n",
       "    <tr>\n",
       "      <th>Date</th>\n",
       "      <th></th>\n",
       "      <th></th>\n",
       "      <th></th>\n",
       "      <th></th>\n",
       "      <th></th>\n",
       "    </tr>\n",
       "  </thead>\n",
       "  <tbody>\n",
       "    <tr>\n",
       "      <th>2011-01-03</th>\n",
       "      <td>531.000000</td>\n",
       "      <td>0.4404</td>\n",
       "      <td>0</td>\n",
       "      <td>0.943</td>\n",
       "      <td>0.057</td>\n",
       "    </tr>\n",
       "    <tr>\n",
       "      <th>2011-01-04</th>\n",
       "      <td>530.000000</td>\n",
       "      <td>0.25</td>\n",
       "      <td>0</td>\n",
       "      <td>0.947</td>\n",
       "      <td>0.053</td>\n",
       "    </tr>\n",
       "    <tr>\n",
       "      <th>2011-01-06</th>\n",
       "      <td>539.825012</td>\n",
       "      <td>-0.0516</td>\n",
       "      <td>0.069</td>\n",
       "      <td>0.876</td>\n",
       "      <td>0.055</td>\n",
       "    </tr>\n",
       "    <tr>\n",
       "      <th>2011-01-07</th>\n",
       "      <td>540.500000</td>\n",
       "      <td>0.34</td>\n",
       "      <td>0.049</td>\n",
       "      <td>0.872</td>\n",
       "      <td>0.079</td>\n",
       "    </tr>\n",
       "    <tr>\n",
       "      <th>2011-01-13</th>\n",
       "      <td>515.000000</td>\n",
       "      <td>0</td>\n",
       "      <td>0</td>\n",
       "      <td>1</td>\n",
       "      <td>0</td>\n",
       "    </tr>\n",
       "  </tbody>\n",
       "</table>\n",
       "</div>"
      ],
      "text/plain": [
       "                  Open compound    neg    neu    pos\n",
       "Date                                                \n",
       "2011-01-03  531.000000   0.4404      0  0.943  0.057\n",
       "2011-01-04  530.000000     0.25      0  0.947  0.053\n",
       "2011-01-06  539.825012  -0.0516  0.069  0.876  0.055\n",
       "2011-01-07  540.500000     0.34  0.049  0.872  0.079\n",
       "2011-01-13  515.000000        0      0      1      0"
      ]
     },
     "execution_count": 82,
     "metadata": {},
     "output_type": "execute_result"
    }
   ],
   "source": [
    "df4.head()"
   ]
  },
  {
   "cell_type": "code",
   "execution_count": 83,
   "metadata": {},
   "outputs": [
    {
     "data": {
      "text/html": [
       "<div>\n",
       "<style>\n",
       "    .dataframe thead tr:only-child th {\n",
       "        text-align: right;\n",
       "    }\n",
       "\n",
       "    .dataframe thead th {\n",
       "        text-align: left;\n",
       "    }\n",
       "\n",
       "    .dataframe tbody tr th {\n",
       "        vertical-align: top;\n",
       "    }\n",
       "</style>\n",
       "<table border=\"1\" class=\"dataframe\">\n",
       "  <thead>\n",
       "    <tr style=\"text-align: right;\">\n",
       "      <th></th>\n",
       "      <th>Open</th>\n",
       "      <th>compound</th>\n",
       "      <th>neg</th>\n",
       "      <th>neu</th>\n",
       "      <th>pos</th>\n",
       "      <th>next_prices</th>\n",
       "    </tr>\n",
       "  </thead>\n",
       "  <tbody>\n",
       "    <tr>\n",
       "      <th>0</th>\n",
       "      <td>0.098656</td>\n",
       "      <td>0.0576869</td>\n",
       "      <td>-0.100587</td>\n",
       "      <td>0.130353</td>\n",
       "      <td>-0.0579471</td>\n",
       "      <td>0.096992</td>\n",
       "    </tr>\n",
       "    <tr>\n",
       "      <th>1</th>\n",
       "      <td>0.096992</td>\n",
       "      <td>-0.0402605</td>\n",
       "      <td>-0.100587</td>\n",
       "      <td>0.141222</td>\n",
       "      <td>-0.068876</td>\n",
       "      <td>0.113344</td>\n",
       "    </tr>\n",
       "    <tr>\n",
       "      <th>2</th>\n",
       "      <td>0.113344</td>\n",
       "      <td>-0.195413</td>\n",
       "      <td>0.158812</td>\n",
       "      <td>-0.0517124</td>\n",
       "      <td>-0.0634115</td>\n",
       "      <td>0.114467</td>\n",
       "    </tr>\n",
       "    <tr>\n",
       "      <th>3</th>\n",
       "      <td>0.114467</td>\n",
       "      <td>0.00603816</td>\n",
       "      <td>0.0836239</td>\n",
       "      <td>-0.062582</td>\n",
       "      <td>0.00216224</td>\n",
       "      <td>0.072027</td>\n",
       "    </tr>\n",
       "    <tr>\n",
       "      <th>4</th>\n",
       "      <td>0.072027</td>\n",
       "      <td>-0.168868</td>\n",
       "      <td>-0.100587</td>\n",
       "      <td>0.285244</td>\n",
       "      <td>-0.213685</td>\n",
       "      <td>0.050974</td>\n",
       "    </tr>\n",
       "  </tbody>\n",
       "</table>\n",
       "</div>"
      ],
      "text/plain": [
       "       Open    compound        neg        neu         pos  next_prices\n",
       "0  0.098656   0.0576869  -0.100587   0.130353  -0.0579471     0.096992\n",
       "1  0.096992  -0.0402605  -0.100587   0.141222   -0.068876     0.113344\n",
       "2  0.113344   -0.195413   0.158812 -0.0517124  -0.0634115     0.114467\n",
       "3  0.114467  0.00603816  0.0836239  -0.062582  0.00216224     0.072027\n",
       "4  0.072027   -0.168868  -0.100587   0.285244   -0.213685     0.050974"
      ]
     },
     "execution_count": 83,
     "metadata": {},
     "output_type": "execute_result"
    }
   ],
   "source": [
    "datasetNorm = (df4 - df4.mean()) / (df4.max() - df4.min())\n",
    "datasetNorm.reset_index(inplace=True)\n",
    "del datasetNorm['Date']\n",
    "datasetNorm['next_prices'] = datasetNorm['Open'].shift(-1)\n",
    "datasetNorm.head(5)"
   ]
  },
  {
   "cell_type": "code",
   "execution_count": 84,
   "metadata": {},
   "outputs": [
    {
     "name": "stdout",
     "output_type": "stream",
     "text": [
      "The total series length is: 1160\n",
      "The current configuration gives us 386 batches of 1 observations each one looking 3 steps in the past\n"
     ]
    }
   ],
   "source": [
    "num_epochs = 100\n",
    "\n",
    "batch_size = 1\n",
    "\n",
    "total_series_length = len(datasetNorm.index)\n",
    "\n",
    "truncated_backprop_length = 3 #The size of the sequence\n",
    "\n",
    "state_size = 12 #The number of neurons\n",
    "\n",
    "num_features = 4\n",
    "num_classes = 1 #[1,0]\n",
    "\n",
    "num_batches = total_series_length//batch_size//truncated_backprop_length\n",
    "\n",
    "min_test_size = 100\n",
    "\n",
    "print('The total series length is: %d' %total_series_length)\n",
    "print('The current configuration gives us %d batches of %d observations each one looking %d steps in the past' \n",
    "      %(num_batches,batch_size,truncated_backprop_length))"
   ]
  },
  {
   "cell_type": "code",
   "execution_count": 85,
   "metadata": {
    "collapsed": true
   },
   "outputs": [],
   "source": [
    "datasetTrain = datasetNorm[datasetNorm.index < num_batches*batch_size*truncated_backprop_length]\n",
    "\n",
    "\n",
    "for i in range(min_test_size,len(datasetNorm.index)):\n",
    "    \n",
    "    if(i % truncated_backprop_length*batch_size == 0):\n",
    "        test_first_idx = len(datasetNorm.index)-i\n",
    "        break\n",
    "\n",
    "datasetTest =  datasetNorm[datasetNorm.index >= test_first_idx]"
   ]
  },
  {
   "cell_type": "code",
   "execution_count": 86,
   "metadata": {
    "collapsed": true
   },
   "outputs": [],
   "source": [
    "xTrain = datasetTrain[['Open','neu','neg','pos']].as_matrix()\n",
    "yTrain = datasetTrain['next_prices'].as_matrix()"
   ]
  },
  {
   "cell_type": "code",
   "execution_count": 88,
   "metadata": {},
   "outputs": [
    {
     "data": {
      "text/plain": [
       "(1158,)"
      ]
     },
     "execution_count": 88,
     "metadata": {},
     "output_type": "execute_result"
    }
   ],
   "source": [
    "xTrain.shape\n",
    "yTrain.shape"
   ]
  },
  {
   "cell_type": "code",
   "execution_count": 89,
   "metadata": {
    "collapsed": true
   },
   "outputs": [],
   "source": [
    "xTest = datasetTest[['Open','neu','neg','pos']].as_matrix()\n",
    "yTest = datasetTest['next_prices'].as_matrix()"
   ]
  },
  {
   "cell_type": "code",
   "execution_count": 90,
   "metadata": {},
   "outputs": [
    {
     "data": {
      "text/plain": [
       "array([0.19901388456087665, -0.1250819902548736, 0.015954757583614237,\n",
       "       0.11145185603919378], dtype=object)"
      ]
     },
     "execution_count": 90,
     "metadata": {},
     "output_type": "execute_result"
    }
   ],
   "source": [
    "xTest[0]"
   ]
  },
  {
   "cell_type": "code",
   "execution_count": 91,
   "metadata": {},
   "outputs": [
    {
     "data": {
      "image/png": "[encoded data removed]",
      "text/plain": [
       "<matplotlib.figure.Figure at 0x15963013f28>"
      ]
     },
     "metadata": {},
     "output_type": "display_data"
    },
    {
     "data": {
      "image/png": "[encoded data removed]",
      "text/plain": [
       "<matplotlib.figure.Figure at 0x1596228b710>"
      ]
     },
     "metadata": {},
     "output_type": "display_data"
    }
   ],
   "source": [
    "plt.figure(figsize=(25,5))\n",
    "plt.plot(xTrain[:,0])\n",
    "plt.title('Train (' +str(len(xTrain))+' data points)')\n",
    "plt.show()\n",
    "plt.figure(figsize=(10,3))\n",
    "plt.plot(xTest[:,0])\n",
    "plt.title('Test (' +str(len(xTest))+' data points)')\n",
    "plt.show()"
   ]
  },
  {
   "cell_type": "code",
   "execution_count": 92,
   "metadata": {
    "collapsed": true
   },
   "outputs": [],
   "source": [
    "tf.reset_default_graph()"
   ]
  },
  {
   "cell_type": "code",
   "execution_count": 94,
   "metadata": {
    "collapsed": true
   },
   "outputs": [],
   "source": [
    "batchX_placeholder = tf.placeholder(dtype=tf.float32,shape=[None,truncated_backprop_length,num_features],name='data_ph')\n",
    "batchY_placeholder = tf.placeholder(dtype=tf.float32,shape=[None,truncated_backprop_length,num_classes],name='target_ph')"
   ]
  },
  {
   "cell_type": "code",
   "execution_count": 95,
   "metadata": {},
   "outputs": [
    {
     "data": {
      "text/plain": [
       "<tf.Tensor 'data_ph_1:0' shape=(?, 3, 4) dtype=float32>"
      ]
     },
     "execution_count": 95,
     "metadata": {},
     "output_type": "execute_result"
    }
   ],
   "source": [
    "batchX_placeholder"
   ]
  },
  {
   "cell_type": "code",
   "execution_count": 96,
   "metadata": {
    "collapsed": true
   },
   "outputs": [],
   "source": [
    "W2 = tf.Variable(initial_value=np.random.rand(state_size,num_classes),dtype=tf.float32)\n",
    "b2 = tf.Variable(initial_value=np.random.rand(1,num_classes),dtype=tf.float32)"
   ]
  },
  {
   "cell_type": "code",
   "execution_count": 97,
   "metadata": {
    "collapsed": true
   },
   "outputs": [],
   "source": [
    "labels_series = tf.unstack(batchY_placeholder, axis=1)"
   ]
  },
  {
   "cell_type": "code",
   "execution_count": 98,
   "metadata": {
    "collapsed": true
   },
   "outputs": [],
   "source": [
    "cell = tf.contrib.rnn.BasicLSTMCell(num_units=state_size)\n",
    "\n",
    "states_series, current_state = tf.nn.dynamic_rnn(cell=cell,inputs=batchX_placeholder,dtype=tf.float32)"
   ]
  },
  {
   "cell_type": "code",
   "execution_count": 99,
   "metadata": {
    "collapsed": true
   },
   "outputs": [],
   "source": [
    "states_series = tf.transpose(states_series,[1,0,2])"
   ]
  },
  {
   "cell_type": "code",
   "execution_count": 100,
   "metadata": {
    "collapsed": true
   },
   "outputs": [],
   "source": [
    "last_state = tf.gather(params=states_series,indices=states_series.get_shape()[0]-1)\n",
    "last_label = tf.gather(params=labels_series,indices=len(labels_series)-1)"
   ]
  },
  {
   "cell_type": "code",
   "execution_count": 101,
   "metadata": {
    "collapsed": true
   },
   "outputs": [],
   "source": [
    "weight = tf.Variable(tf.truncated_normal([state_size,num_classes]))\n",
    "bias = tf.Variable(tf.constant(0.1,shape=[num_classes]))"
   ]
  },
  {
   "cell_type": "code",
   "execution_count": 102,
   "metadata": {},
   "outputs": [
    {
     "data": {
      "text/plain": [
       "<tf.Tensor 'add:0' shape=(?, 1) dtype=float32>"
      ]
     },
     "execution_count": 102,
     "metadata": {},
     "output_type": "execute_result"
    }
   ],
   "source": [
    "prediction = tf.matmul(last_state,weight) + bias\n",
    "prediction"
   ]
  },
  {
   "cell_type": "code",
   "execution_count": 103,
   "metadata": {},
   "outputs": [
    {
     "name": "stderr",
     "output_type": "stream",
     "text": [
      "C:\\ProgramData\\Anaconda3\\lib\\site-packages\\tensorflow\\python\\ops\\gradients_impl.py:95: UserWarning: Converting sparse IndexedSlices to a dense Tensor of unknown shape. This may consume a large amount of memory.\n",
      "  \"Converting sparse IndexedSlices to a dense Tensor of unknown shape. \"\n"
     ]
    }
   ],
   "source": [
    "loss = tf.reduce_mean(tf.squared_difference(last_label,prediction))\n",
    "\n",
    "train_step = tf.train.AdamOptimizer(learning_rate=0.001).minimize(loss)"
   ]
  },
  {
   "cell_type": "code",
   "execution_count": 104,
   "metadata": {},
   "outputs": [
    {
     "name": "stdout",
     "output_type": "stream",
     "text": [
      "Epoch 0\n",
      "Step 0 - Loss: 0.001102\n",
      "Step 50 - Loss: 0.001457\n",
      "Step 100 - Loss: 0.000341\n",
      "Step 150 - Loss: 0.001588\n",
      "Step 200 - Loss: 0.002598\n",
      "Step 250 - Loss: 0.009661\n",
      "Step 300 - Loss: 0.000381\n",
      "Step 350 - Loss: 0.000152\n",
      "Epoch 1\n",
      "Step 0 - Loss: 0.018199\n",
      "Step 50 - Loss: 0.000453\n",
      "Step 100 - Loss: 0.000011\n",
      "Step 150 - Loss: 0.000053\n",
      "Step 200 - Loss: 0.000183\n",
      "Step 250 - Loss: 0.004534\n",
      "Step 300 - Loss: 0.000000\n",
      "Step 350 - Loss: 0.000303\n",
      "Epoch 2\n",
      "Step 0 - Loss: 0.001962\n",
      "Step 50 - Loss: 0.000007\n",
      "Step 100 - Loss: 0.000004\n",
      "Step 150 - Loss: 0.000025\n",
      "Step 200 - Loss: 0.000000\n",
      "Step 250 - Loss: 0.002824\n",
      "Step 300 - Loss: 0.000051\n",
      "Step 350 - Loss: 0.000339\n",
      "Epoch 3\n",
      "Step 0 - Loss: 0.000074\n",
      "Step 50 - Loss: 0.000005\n",
      "Step 100 - Loss: 0.000019\n",
      "Step 150 - Loss: 0.000075\n",
      "Step 200 - Loss: 0.000006\n",
      "Step 250 - Loss: 0.002214\n",
      "Step 300 - Loss: 0.000072\n",
      "Step 350 - Loss: 0.000318\n",
      "Epoch 4\n",
      "Step 0 - Loss: 0.000004\n",
      "Step 50 - Loss: 0.000005\n",
      "Step 100 - Loss: 0.000034\n",
      "Step 150 - Loss: 0.000073\n",
      "Step 200 - Loss: 0.000005\n",
      "Step 250 - Loss: 0.002110\n",
      "Step 300 - Loss: 0.000068\n",
      "Step 350 - Loss: 0.000298\n",
      "Epoch 5\n",
      "Step 0 - Loss: 0.000028\n",
      "Step 50 - Loss: 0.000001\n",
      "Step 100 - Loss: 0.000042\n",
      "Step 150 - Loss: 0.000058\n",
      "Step 200 - Loss: 0.000002\n",
      "Step 250 - Loss: 0.002116\n",
      "Step 300 - Loss: 0.000061\n",
      "Step 350 - Loss: 0.000283\n",
      "Epoch 6\n",
      "Step 0 - Loss: 0.000058\n",
      "Step 50 - Loss: 0.000000\n",
      "Step 100 - Loss: 0.000047\n",
      "Step 150 - Loss: 0.000043\n",
      "Step 200 - Loss: 0.000001\n",
      "Step 250 - Loss: 0.002142\n",
      "Step 300 - Loss: 0.000057\n",
      "Step 350 - Loss: 0.000271\n",
      "Epoch 7\n",
      "Step 0 - Loss: 0.000098\n",
      "Step 50 - Loss: 0.000005\n",
      "Step 100 - Loss: 0.000047\n",
      "Step 150 - Loss: 0.000030\n",
      "Step 200 - Loss: 0.000000\n",
      "Step 250 - Loss: 0.002169\n",
      "Step 300 - Loss: 0.000053\n",
      "Step 350 - Loss: 0.000262\n",
      "Epoch 8\n",
      "Step 0 - Loss: 0.000146\n",
      "Step 50 - Loss: 0.000013\n",
      "Step 100 - Loss: 0.000045\n",
      "Step 150 - Loss: 0.000021\n",
      "Step 200 - Loss: 0.000000\n",
      "Step 250 - Loss: 0.002194\n",
      "Step 300 - Loss: 0.000049\n",
      "Step 350 - Loss: 0.000255\n",
      "Epoch 9\n",
      "Step 0 - Loss: 0.000199\n",
      "Step 50 - Loss: 0.000023\n",
      "Step 100 - Loss: 0.000042\n",
      "Step 150 - Loss: 0.000013\n",
      "Step 200 - Loss: 0.000000\n",
      "Step 250 - Loss: 0.002215\n",
      "Step 300 - Loss: 0.000046\n",
      "Step 350 - Loss: 0.000248\n",
      "Epoch 10\n",
      "Step 0 - Loss: 0.000256\n",
      "Step 50 - Loss: 0.000035\n",
      "Step 100 - Loss: 0.000038\n",
      "Step 150 - Loss: 0.000008\n",
      "Step 200 - Loss: 0.000001\n",
      "Step 250 - Loss: 0.002230\n",
      "Step 300 - Loss: 0.000043\n",
      "Step 350 - Loss: 0.000243\n",
      "Epoch 11\n",
      "Step 0 - Loss: 0.000311\n",
      "Step 50 - Loss: 0.000049\n",
      "Step 100 - Loss: 0.000033\n",
      "Step 150 - Loss: 0.000004\n",
      "Step 200 - Loss: 0.000002\n",
      "Step 250 - Loss: 0.002240\n",
      "Step 300 - Loss: 0.000039\n",
      "Step 350 - Loss: 0.000239\n",
      "Epoch 12\n",
      "Step 0 - Loss: 0.000363\n",
      "Step 50 - Loss: 0.000062\n",
      "Step 100 - Loss: 0.000029\n",
      "Step 150 - Loss: 0.000002\n",
      "Step 200 - Loss: 0.000004\n",
      "Step 250 - Loss: 0.002245\n",
      "Step 300 - Loss: 0.000036\n",
      "Step 350 - Loss: 0.000235\n",
      "Epoch 13\n",
      "Step 0 - Loss: 0.000411\n",
      "Step 50 - Loss: 0.000076\n",
      "Step 100 - Loss: 0.000025\n",
      "Step 150 - Loss: 0.000001\n",
      "Step 200 - Loss: 0.000005\n",
      "Step 250 - Loss: 0.002243\n",
      "Step 300 - Loss: 0.000033\n",
      "Step 350 - Loss: 0.000232\n",
      "Epoch 14\n",
      "Step 0 - Loss: 0.000453\n",
      "Step 50 - Loss: 0.000089\n",
      "Step 100 - Loss: 0.000021\n",
      "Step 150 - Loss: 0.000000\n",
      "Step 200 - Loss: 0.000007\n",
      "Step 250 - Loss: 0.002236\n",
      "Step 300 - Loss: 0.000030\n",
      "Step 350 - Loss: 0.000229\n",
      "Epoch 15\n",
      "Step 0 - Loss: 0.000489\n",
      "Step 50 - Loss: 0.000101\n",
      "Step 100 - Loss: 0.000017\n",
      "Step 150 - Loss: 0.000000\n",
      "Step 200 - Loss: 0.000008\n",
      "Step 250 - Loss: 0.002223\n",
      "Step 300 - Loss: 0.000026\n",
      "Step 350 - Loss: 0.000226\n",
      "Epoch 16\n",
      "Step 0 - Loss: 0.000518\n",
      "Step 50 - Loss: 0.000112\n",
      "Step 100 - Loss: 0.000014\n",
      "Step 150 - Loss: 0.000000\n",
      "Step 200 - Loss: 0.000010\n",
      "Step 250 - Loss: 0.002206\n",
      "Step 300 - Loss: 0.000024\n",
      "Step 350 - Loss: 0.000224\n",
      "Epoch 17\n",
      "Step 0 - Loss: 0.000542\n",
      "Step 50 - Loss: 0.000123\n",
      "Step 100 - Loss: 0.000011\n",
      "Step 150 - Loss: 0.000000\n",
      "Step 200 - Loss: 0.000012\n",
      "Step 250 - Loss: 0.002184\n",
      "Step 300 - Loss: 0.000021\n",
      "Step 350 - Loss: 0.000221\n",
      "Epoch 18\n",
      "Step 0 - Loss: 0.000561\n",
      "Step 50 - Loss: 0.000132\n",
      "Step 100 - Loss: 0.000008\n",
      "Step 150 - Loss: 0.000001\n",
      "Step 200 - Loss: 0.000013\n",
      "Step 250 - Loss: 0.002157\n",
      "Step 300 - Loss: 0.000018\n",
      "Step 350 - Loss: 0.000219\n",
      "Epoch 19\n",
      "Step 0 - Loss: 0.000575\n",
      "Step 50 - Loss: 0.000141\n",
      "Step 100 - Loss: 0.000006\n",
      "Step 150 - Loss: 0.000001\n",
      "Step 200 - Loss: 0.000015\n",
      "Step 250 - Loss: 0.002127\n",
      "Step 300 - Loss: 0.000016\n",
      "Step 350 - Loss: 0.000218\n",
      "Epoch 20\n",
      "Step 0 - Loss: 0.000585\n",
      "Step 50 - Loss: 0.000148\n",
      "Step 100 - Loss: 0.000005\n",
      "Step 150 - Loss: 0.000001\n",
      "Step 200 - Loss: 0.000017\n",
      "Step 250 - Loss: 0.002093\n",
      "Step 300 - Loss: 0.000014\n",
      "Step 350 - Loss: 0.000216\n",
      "Epoch 21\n",
      "Step 0 - Loss: 0.000591\n",
      "Step 50 - Loss: 0.000155\n",
      "Step 100 - Loss: 0.000003\n",
      "Step 150 - Loss: 0.000002\n",
      "Step 200 - Loss: 0.000019\n",
      "Step 250 - Loss: 0.002057\n",
      "Step 300 - Loss: 0.000012\n",
      "Step 350 - Loss: 0.000214\n",
      "Epoch 22\n",
      "Step 0 - Loss: 0.000594\n",
      "Step 50 - Loss: 0.000161\n",
      "Step 100 - Loss: 0.000002\n",
      "Step 150 - Loss: 0.000002\n",
      "Step 200 - Loss: 0.000020\n",
      "Step 250 - Loss: 0.002018\n",
      "Step 300 - Loss: 0.000010\n",
      "Step 350 - Loss: 0.000212\n",
      "Epoch 23\n",
      "Step 0 - Loss: 0.000594\n",
      "Step 50 - Loss: 0.000167\n",
      "Step 100 - Loss: 0.000001\n",
      "Step 150 - Loss: 0.000002\n",
      "Step 200 - Loss: 0.000022\n",
      "Step 250 - Loss: 0.001977\n",
      "Step 300 - Loss: 0.000008\n",
      "Step 350 - Loss: 0.000211\n",
      "Epoch 24\n",
      "Step 0 - Loss: 0.000592\n",
      "Step 50 - Loss: 0.000171\n",
      "Step 100 - Loss: 0.000001\n",
      "Step 150 - Loss: 0.000002\n",
      "Step 200 - Loss: 0.000023\n",
      "Step 250 - Loss: 0.001934\n",
      "Step 300 - Loss: 0.000007\n",
      "Step 350 - Loss: 0.000209\n",
      "Epoch 25\n",
      "Step 0 - Loss: 0.000589\n",
      "Step 50 - Loss: 0.000176\n",
      "Step 100 - Loss: 0.000000\n",
      "Step 150 - Loss: 0.000002\n",
      "Step 200 - Loss: 0.000025\n",
      "Step 250 - Loss: 0.001890\n",
      "Step 300 - Loss: 0.000006\n",
      "Step 350 - Loss: 0.000207\n",
      "Epoch 26\n",
      "Step 0 - Loss: 0.000583\n",
      "Step 50 - Loss: 0.000180\n",
      "Step 100 - Loss: 0.000000\n",
      "Step 150 - Loss: 0.000003\n",
      "Step 200 - Loss: 0.000026\n",
      "Step 250 - Loss: 0.001845\n",
      "Step 300 - Loss: 0.000005\n",
      "Step 350 - Loss: 0.000205\n",
      "Epoch 27\n",
      "Step 0 - Loss: 0.000577\n",
      "Step 50 - Loss: 0.000183\n",
      "Step 100 - Loss: 0.000000\n",
      "Step 150 - Loss: 0.000003\n",
      "Step 200 - Loss: 0.000028\n",
      "Step 250 - Loss: 0.001798\n",
      "Step 300 - Loss: 0.000004\n",
      "Step 350 - Loss: 0.000203\n",
      "Epoch 28\n",
      "Step 0 - Loss: 0.000569\n",
      "Step 50 - Loss: 0.000187\n",
      "Step 100 - Loss: 0.000000\n",
      "Step 150 - Loss: 0.000003\n",
      "Step 200 - Loss: 0.000029\n",
      "Step 250 - Loss: 0.001751\n",
      "Step 300 - Loss: 0.000003\n",
      "Step 350 - Loss: 0.000201\n",
      "Epoch 29\n",
      "Step 0 - Loss: 0.000560\n",
      "Step 50 - Loss: 0.000190\n",
      "Step 100 - Loss: 0.000000\n",
      "Step 150 - Loss: 0.000003\n",
      "Step 200 - Loss: 0.000030\n",
      "Step 250 - Loss: 0.001703\n",
      "Step 300 - Loss: 0.000002\n",
      "Step 350 - Loss: 0.000200\n",
      "Epoch 30\n",
      "Step 0 - Loss: 0.000551\n",
      "Step 50 - Loss: 0.000193\n",
      "Step 100 - Loss: 0.000001\n",
      "Step 150 - Loss: 0.000003\n",
      "Step 200 - Loss: 0.000032\n",
      "Step 250 - Loss: 0.001655\n",
      "Step 300 - Loss: 0.000001\n",
      "Step 350 - Loss: 0.000197\n",
      "Epoch 31\n",
      "Step 0 - Loss: 0.000540\n",
      "Step 50 - Loss: 0.000195\n",
      "Step 100 - Loss: 0.000001\n",
      "Step 150 - Loss: 0.000003\n",
      "Step 200 - Loss: 0.000033\n",
      "Step 250 - Loss: 0.001607\n",
      "Step 300 - Loss: 0.000001\n",
      "Step 350 - Loss: 0.000195\n",
      "Epoch 32\n",
      "Step 0 - Loss: 0.000529\n",
      "Step 50 - Loss: 0.000198\n",
      "Step 100 - Loss: 0.000002\n",
      "Step 150 - Loss: 0.000003\n",
      "Step 200 - Loss: 0.000034\n",
      "Step 250 - Loss: 0.001558\n",
      "Step 300 - Loss: 0.000001\n",
      "Step 350 - Loss: 0.000193\n",
      "Epoch 33\n",
      "Step 0 - Loss: 0.000518\n",
      "Step 50 - Loss: 0.000200\n",
      "Step 100 - Loss: 0.000002\n",
      "Step 150 - Loss: 0.000003\n",
      "Step 200 - Loss: 0.000036\n",
      "Step 250 - Loss: 0.001510\n",
      "Step 300 - Loss: 0.000000\n",
      "Step 350 - Loss: 0.000191\n",
      "Epoch 34\n",
      "Step 0 - Loss: 0.000506\n",
      "Step 50 - Loss: 0.000203\n",
      "Step 100 - Loss: 0.000003\n",
      "Step 150 - Loss: 0.000003\n",
      "Step 200 - Loss: 0.000037\n",
      "Step 250 - Loss: 0.001462\n",
      "Step 300 - Loss: 0.000000\n",
      "Step 350 - Loss: 0.000189\n",
      "Epoch 35\n",
      "Step 0 - Loss: 0.000493\n",
      "Step 50 - Loss: 0.000205\n",
      "Step 100 - Loss: 0.000003\n",
      "Step 150 - Loss: 0.000003\n",
      "Step 200 - Loss: 0.000038\n",
      "Step 250 - Loss: 0.001414\n",
      "Step 300 - Loss: 0.000000\n",
      "Step 350 - Loss: 0.000187\n",
      "Epoch 36\n",
      "Step 0 - Loss: 0.000480\n",
      "Step 50 - Loss: 0.000207\n",
      "Step 100 - Loss: 0.000004\n",
      "Step 150 - Loss: 0.000003\n",
      "Step 200 - Loss: 0.000038\n",
      "Step 250 - Loss: 0.001367\n",
      "Step 300 - Loss: 0.000000\n",
      "Step 350 - Loss: 0.000184\n",
      "Epoch 37\n",
      "Step 0 - Loss: 0.000467\n",
      "Step 50 - Loss: 0.000209\n",
      "Step 100 - Loss: 0.000005\n",
      "Step 150 - Loss: 0.000004\n",
      "Step 200 - Loss: 0.000039\n",
      "Step 250 - Loss: 0.001320\n",
      "Step 300 - Loss: 0.000000\n",
      "Step 350 - Loss: 0.000182\n",
      "Epoch 38\n",
      "Step 0 - Loss: 0.000453\n",
      "Step 50 - Loss: 0.000211\n",
      "Step 100 - Loss: 0.000005\n",
      "Step 150 - Loss: 0.000004\n",
      "Step 200 - Loss: 0.000040\n",
      "Step 250 - Loss: 0.001275\n",
      "Step 300 - Loss: 0.000000\n",
      "Step 350 - Loss: 0.000180\n",
      "Epoch 39\n",
      "Step 0 - Loss: 0.000439\n",
      "Step 50 - Loss: 0.000212\n",
      "Step 100 - Loss: 0.000006\n",
      "Step 150 - Loss: 0.000004\n",
      "Step 200 - Loss: 0.000040\n",
      "Step 250 - Loss: 0.001230\n",
      "Step 300 - Loss: 0.000000\n",
      "Step 350 - Loss: 0.000178\n",
      "Epoch 40\n",
      "Step 0 - Loss: 0.000425\n",
      "Step 50 - Loss: 0.000214\n",
      "Step 100 - Loss: 0.000006\n",
      "Step 150 - Loss: 0.000004\n",
      "Step 200 - Loss: 0.000041\n",
      "Step 250 - Loss: 0.001186\n",
      "Step 300 - Loss: 0.000001\n",
      "Step 350 - Loss: 0.000175\n",
      "Epoch 41\n",
      "Step 0 - Loss: 0.000410\n",
      "Step 50 - Loss: 0.000216\n",
      "Step 100 - Loss: 0.000007\n",
      "Step 150 - Loss: 0.000004\n",
      "Step 200 - Loss: 0.000041\n",
      "Step 250 - Loss: 0.001144\n",
      "Step 300 - Loss: 0.000001\n",
      "Step 350 - Loss: 0.000173\n",
      "Epoch 42\n",
      "Step 0 - Loss: 0.000395\n",
      "Step 50 - Loss: 0.000217\n",
      "Step 100 - Loss: 0.000007\n",
      "Step 150 - Loss: 0.000005\n",
      "Step 200 - Loss: 0.000041\n",
      "Step 250 - Loss: 0.001104\n",
      "Step 300 - Loss: 0.000001\n",
      "Step 350 - Loss: 0.000171\n",
      "Epoch 43\n",
      "Step 0 - Loss: 0.000381\n",
      "Step 50 - Loss: 0.000218\n",
      "Step 100 - Loss: 0.000008\n",
      "Step 150 - Loss: 0.000005\n",
      "Step 200 - Loss: 0.000041\n",
      "Step 250 - Loss: 0.001065\n",
      "Step 300 - Loss: 0.000001\n",
      "Step 350 - Loss: 0.000170\n",
      "Epoch 44\n",
      "Step 0 - Loss: 0.000366\n",
      "Step 50 - Loss: 0.000219\n",
      "Step 100 - Loss: 0.000008\n",
      "Step 150 - Loss: 0.000005\n",
      "Step 200 - Loss: 0.000041\n",
      "Step 250 - Loss: 0.001028\n",
      "Step 300 - Loss: 0.000002\n",
      "Step 350 - Loss: 0.000168\n",
      "Epoch 45\n",
      "Step 0 - Loss: 0.000351\n",
      "Step 50 - Loss: 0.000220\n",
      "Step 100 - Loss: 0.000009\n",
      "Step 150 - Loss: 0.000006\n",
      "Step 200 - Loss: 0.000041\n",
      "Step 250 - Loss: 0.000992\n",
      "Step 300 - Loss: 0.000002\n",
      "Step 350 - Loss: 0.000166\n",
      "Epoch 46\n",
      "Step 0 - Loss: 0.000337\n",
      "Step 50 - Loss: 0.000221\n",
      "Step 100 - Loss: 0.000009\n",
      "Step 150 - Loss: 0.000007\n",
      "Step 200 - Loss: 0.000040\n",
      "Step 250 - Loss: 0.000959\n",
      "Step 300 - Loss: 0.000003\n",
      "Step 350 - Loss: 0.000165\n",
      "Epoch 47\n",
      "Step 0 - Loss: 0.000322\n",
      "Step 50 - Loss: 0.000221\n",
      "Step 100 - Loss: 0.000009\n",
      "Step 150 - Loss: 0.000007\n",
      "Step 200 - Loss: 0.000040\n",
      "Step 250 - Loss: 0.000927\n",
      "Step 300 - Loss: 0.000003\n",
      "Step 350 - Loss: 0.000163\n",
      "Epoch 48\n",
      "Step 0 - Loss: 0.000308\n",
      "Step 50 - Loss: 0.000222\n",
      "Step 100 - Loss: 0.000010\n",
      "Step 150 - Loss: 0.000008\n",
      "Step 200 - Loss: 0.000040\n",
      "Step 250 - Loss: 0.000898\n",
      "Step 300 - Loss: 0.000004\n",
      "Step 350 - Loss: 0.000162\n",
      "Epoch 49\n",
      "Step 0 - Loss: 0.000293\n",
      "Step 50 - Loss: 0.000222\n",
      "Step 100 - Loss: 0.000010\n",
      "Step 150 - Loss: 0.000009\n",
      "Step 200 - Loss: 0.000039\n",
      "Step 250 - Loss: 0.000870\n",
      "Step 300 - Loss: 0.000004\n",
      "Step 350 - Loss: 0.000161\n",
      "Epoch 50\n",
      "Step 0 - Loss: 0.000279\n",
      "Step 50 - Loss: 0.000221\n",
      "Step 100 - Loss: 0.000010\n",
      "Step 150 - Loss: 0.000010\n",
      "Step 200 - Loss: 0.000039\n",
      "Step 250 - Loss: 0.000843\n",
      "Step 300 - Loss: 0.000005\n",
      "Step 350 - Loss: 0.000160\n",
      "Epoch 51\n",
      "Step 0 - Loss: 0.000266\n",
      "Step 50 - Loss: 0.000221\n",
      "Step 100 - Loss: 0.000010\n",
      "Step 150 - Loss: 0.000012\n",
      "Step 200 - Loss: 0.000038\n",
      "Step 250 - Loss: 0.000819\n",
      "Step 300 - Loss: 0.000005\n",
      "Step 350 - Loss: 0.000159\n",
      "Epoch 52\n",
      "Step 0 - Loss: 0.000252\n",
      "Step 50 - Loss: 0.000220\n",
      "Step 100 - Loss: 0.000010\n",
      "Step 150 - Loss: 0.000013\n",
      "Step 200 - Loss: 0.000037\n",
      "Step 250 - Loss: 0.000795\n",
      "Step 300 - Loss: 0.000006\n",
      "Step 350 - Loss: 0.000159\n",
      "Epoch 53\n",
      "Step 0 - Loss: 0.000239\n",
      "Step 50 - Loss: 0.000219\n",
      "Step 100 - Loss: 0.000010\n",
      "Step 150 - Loss: 0.000014\n",
      "Step 200 - Loss: 0.000036\n",
      "Step 250 - Loss: 0.000773\n",
      "Step 300 - Loss: 0.000006\n",
      "Step 350 - Loss: 0.000158\n",
      "Epoch 54\n",
      "Step 0 - Loss: 0.000227\n",
      "Step 50 - Loss: 0.000217\n",
      "Step 100 - Loss: 0.000010\n",
      "Step 150 - Loss: 0.000016\n",
      "Step 200 - Loss: 0.000035\n",
      "Step 250 - Loss: 0.000752\n",
      "Step 300 - Loss: 0.000007\n",
      "Step 350 - Loss: 0.000158\n",
      "Epoch 55\n",
      "Step 0 - Loss: 0.000215\n",
      "Step 50 - Loss: 0.000215\n",
      "Step 100 - Loss: 0.000010\n",
      "Step 150 - Loss: 0.000017\n",
      "Step 200 - Loss: 0.000035\n",
      "Step 250 - Loss: 0.000733\n",
      "Step 300 - Loss: 0.000008\n",
      "Step 350 - Loss: 0.000157\n",
      "Epoch 56\n",
      "Step 0 - Loss: 0.000203\n",
      "Step 50 - Loss: 0.000213\n",
      "Step 100 - Loss: 0.000010\n",
      "Step 150 - Loss: 0.000019\n",
      "Step 200 - Loss: 0.000034\n",
      "Step 250 - Loss: 0.000714\n",
      "Step 300 - Loss: 0.000008\n",
      "Step 350 - Loss: 0.000157\n",
      "Epoch 57\n",
      "Step 0 - Loss: 0.000192\n",
      "Step 50 - Loss: 0.000211\n",
      "Step 100 - Loss: 0.000010\n",
      "Step 150 - Loss: 0.000020\n",
      "Step 200 - Loss: 0.000033\n",
      "Step 250 - Loss: 0.000697\n",
      "Step 300 - Loss: 0.000009\n",
      "Step 350 - Loss: 0.000156\n",
      "Epoch 58\n",
      "Step 0 - Loss: 0.000182\n",
      "Step 50 - Loss: 0.000209\n",
      "Step 100 - Loss: 0.000010\n",
      "Step 150 - Loss: 0.000022\n",
      "Step 200 - Loss: 0.000031\n",
      "Step 250 - Loss: 0.000680\n",
      "Step 300 - Loss: 0.000009\n",
      "Step 350 - Loss: 0.000156\n",
      "Epoch 59\n",
      "Step 0 - Loss: 0.000172\n",
      "Step 50 - Loss: 0.000206\n",
      "Step 100 - Loss: 0.000009\n",
      "Step 150 - Loss: 0.000023\n",
      "Step 200 - Loss: 0.000030\n",
      "Step 250 - Loss: 0.000665\n",
      "Step 300 - Loss: 0.000010\n",
      "Step 350 - Loss: 0.000156\n",
      "Epoch 60\n",
      "Step 0 - Loss: 0.000162\n",
      "Step 50 - Loss: 0.000204\n",
      "Step 100 - Loss: 0.000009\n",
      "Step 150 - Loss: 0.000025\n",
      "Step 200 - Loss: 0.000029\n",
      "Step 250 - Loss: 0.000650\n",
      "Step 300 - Loss: 0.000011\n",
      "Step 350 - Loss: 0.000156\n",
      "Epoch 61\n",
      "Step 0 - Loss: 0.000153\n",
      "Step 50 - Loss: 0.000201\n",
      "Step 100 - Loss: 0.000009\n",
      "Step 150 - Loss: 0.000027\n",
      "Step 200 - Loss: 0.000028\n",
      "Step 250 - Loss: 0.000636\n",
      "Step 300 - Loss: 0.000011\n",
      "Step 350 - Loss: 0.000156\n",
      "Epoch 62\n",
      "Step 0 - Loss: 0.000145\n",
      "Step 50 - Loss: 0.000198\n",
      "Step 100 - Loss: 0.000008\n",
      "Step 150 - Loss: 0.000028\n",
      "Step 200 - Loss: 0.000027\n",
      "Step 250 - Loss: 0.000623\n",
      "Step 300 - Loss: 0.000012\n",
      "Step 350 - Loss: 0.000156\n",
      "Epoch 63\n",
      "Step 0 - Loss: 0.000137\n",
      "Step 50 - Loss: 0.000195\n",
      "Step 100 - Loss: 0.000008\n",
      "Step 150 - Loss: 0.000029\n",
      "Step 200 - Loss: 0.000026\n",
      "Step 250 - Loss: 0.000610\n",
      "Step 300 - Loss: 0.000012\n",
      "Step 350 - Loss: 0.000156\n",
      "Epoch 64\n",
      "Step 0 - Loss: 0.000129\n",
      "Step 50 - Loss: 0.000192\n",
      "Step 100 - Loss: 0.000007\n",
      "Step 150 - Loss: 0.000031\n",
      "Step 200 - Loss: 0.000025\n",
      "Step 250 - Loss: 0.000598\n",
      "Step 300 - Loss: 0.000013\n",
      "Step 350 - Loss: 0.000157\n",
      "Epoch 65\n",
      "Step 0 - Loss: 0.000122\n",
      "Step 50 - Loss: 0.000190\n",
      "Step 100 - Loss: 0.000007\n",
      "Step 150 - Loss: 0.000032\n",
      "Step 200 - Loss: 0.000024\n",
      "Step 250 - Loss: 0.000587\n",
      "Step 300 - Loss: 0.000013\n",
      "Step 350 - Loss: 0.000157\n",
      "Epoch 66\n",
      "Step 0 - Loss: 0.000115\n",
      "Step 50 - Loss: 0.000187\n",
      "Step 100 - Loss: 0.000006\n",
      "Step 150 - Loss: 0.000033\n",
      "Step 200 - Loss: 0.000023\n",
      "Step 250 - Loss: 0.000576\n",
      "Step 300 - Loss: 0.000014\n",
      "Step 350 - Loss: 0.000157\n",
      "Epoch 67\n",
      "Step 0 - Loss: 0.000109\n",
      "Step 50 - Loss: 0.000184\n",
      "Step 100 - Loss: 0.000006\n",
      "Step 150 - Loss: 0.000034\n",
      "Step 200 - Loss: 0.000021\n",
      "Step 250 - Loss: 0.000565\n",
      "Step 300 - Loss: 0.000014\n",
      "Step 350 - Loss: 0.000157\n",
      "Epoch 68\n",
      "Step 0 - Loss: 0.000103\n",
      "Step 50 - Loss: 0.000181\n",
      "Step 100 - Loss: 0.000005\n",
      "Step 150 - Loss: 0.000035\n",
      "Step 200 - Loss: 0.000020\n",
      "Step 250 - Loss: 0.000555\n",
      "Step 300 - Loss: 0.000015\n",
      "Step 350 - Loss: 0.000158\n",
      "Epoch 69\n",
      "Step 0 - Loss: 0.000097\n",
      "Step 50 - Loss: 0.000178\n",
      "Step 100 - Loss: 0.000005\n",
      "Step 150 - Loss: 0.000036\n",
      "Step 200 - Loss: 0.000019\n",
      "Step 250 - Loss: 0.000546\n",
      "Step 300 - Loss: 0.000015\n",
      "Step 350 - Loss: 0.000158\n",
      "Epoch 70\n",
      "Step 0 - Loss: 0.000092\n",
      "Step 50 - Loss: 0.000175\n",
      "Step 100 - Loss: 0.000004\n",
      "Step 150 - Loss: 0.000037\n",
      "Step 200 - Loss: 0.000018\n",
      "Step 250 - Loss: 0.000537\n",
      "Step 300 - Loss: 0.000016\n",
      "Step 350 - Loss: 0.000158\n",
      "Epoch 71\n",
      "Step 0 - Loss: 0.000087\n",
      "Step 50 - Loss: 0.000172\n",
      "Step 100 - Loss: 0.000004\n",
      "Step 150 - Loss: 0.000038\n",
      "Step 200 - Loss: 0.000017\n",
      "Step 250 - Loss: 0.000528\n",
      "Step 300 - Loss: 0.000016\n",
      "Step 350 - Loss: 0.000158\n",
      "Epoch 72\n",
      "Step 0 - Loss: 0.000083\n",
      "Step 50 - Loss: 0.000169\n",
      "Step 100 - Loss: 0.000003\n",
      "Step 150 - Loss: 0.000038\n",
      "Step 200 - Loss: 0.000016\n",
      "Step 250 - Loss: 0.000519\n",
      "Step 300 - Loss: 0.000017\n",
      "Step 350 - Loss: 0.000159\n",
      "Epoch 73\n",
      "Step 0 - Loss: 0.000079\n",
      "Step 50 - Loss: 0.000167\n",
      "Step 100 - Loss: 0.000003\n",
      "Step 150 - Loss: 0.000039\n",
      "Step 200 - Loss: 0.000015\n",
      "Step 250 - Loss: 0.000511\n",
      "Step 300 - Loss: 0.000017\n",
      "Step 350 - Loss: 0.000159\n",
      "Epoch 74\n",
      "Step 0 - Loss: 0.000075\n",
      "Step 50 - Loss: 0.000164\n",
      "Step 100 - Loss: 0.000003\n",
      "Step 150 - Loss: 0.000040\n",
      "Step 200 - Loss: 0.000014\n",
      "Step 250 - Loss: 0.000504\n",
      "Step 300 - Loss: 0.000018\n",
      "Step 350 - Loss: 0.000159\n",
      "Epoch 75\n",
      "Step 0 - Loss: 0.000071\n",
      "Step 50 - Loss: 0.000161\n",
      "Step 100 - Loss: 0.000002\n",
      "Step 150 - Loss: 0.000040\n",
      "Step 200 - Loss: 0.000014\n",
      "Step 250 - Loss: 0.000496\n",
      "Step 300 - Loss: 0.000018\n",
      "Step 350 - Loss: 0.000159\n",
      "Epoch 76\n",
      "Step 0 - Loss: 0.000067\n",
      "Step 50 - Loss: 0.000159\n",
      "Step 100 - Loss: 0.000002\n",
      "Step 150 - Loss: 0.000041\n",
      "Step 200 - Loss: 0.000013\n",
      "Step 250 - Loss: 0.000489\n"
     ]
    },
    {
     "name": "stdout",
     "output_type": "stream",
     "text": [
      "Step 300 - Loss: 0.000018\n",
      "Step 350 - Loss: 0.000159\n",
      "Epoch 77\n",
      "Step 0 - Loss: 0.000064\n",
      "Step 50 - Loss: 0.000156\n",
      "Step 100 - Loss: 0.000002\n",
      "Step 150 - Loss: 0.000041\n",
      "Step 200 - Loss: 0.000012\n",
      "Step 250 - Loss: 0.000482\n",
      "Step 300 - Loss: 0.000019\n",
      "Step 350 - Loss: 0.000159\n",
      "Epoch 78\n",
      "Step 0 - Loss: 0.000061\n",
      "Step 50 - Loss: 0.000154\n",
      "Step 100 - Loss: 0.000001\n",
      "Step 150 - Loss: 0.000041\n",
      "Step 200 - Loss: 0.000011\n",
      "Step 250 - Loss: 0.000476\n",
      "Step 300 - Loss: 0.000019\n",
      "Step 350 - Loss: 0.000159\n",
      "Epoch 79\n",
      "Step 0 - Loss: 0.000058\n",
      "Step 50 - Loss: 0.000152\n",
      "Step 100 - Loss: 0.000001\n",
      "Step 150 - Loss: 0.000042\n",
      "Step 200 - Loss: 0.000010\n",
      "Step 250 - Loss: 0.000469\n",
      "Step 300 - Loss: 0.000020\n",
      "Step 350 - Loss: 0.000159\n",
      "Epoch 80\n",
      "Step 0 - Loss: 0.000056\n",
      "Step 50 - Loss: 0.000149\n",
      "Step 100 - Loss: 0.000001\n",
      "Step 150 - Loss: 0.000042\n",
      "Step 200 - Loss: 0.000010\n",
      "Step 250 - Loss: 0.000463\n",
      "Step 300 - Loss: 0.000020\n",
      "Step 350 - Loss: 0.000159\n",
      "Epoch 81\n",
      "Step 0 - Loss: 0.000053\n",
      "Step 50 - Loss: 0.000147\n",
      "Step 100 - Loss: 0.000001\n",
      "Step 150 - Loss: 0.000042\n",
      "Step 200 - Loss: 0.000009\n",
      "Step 250 - Loss: 0.000457\n",
      "Step 300 - Loss: 0.000021\n",
      "Step 350 - Loss: 0.000159\n",
      "Epoch 82\n",
      "Step 0 - Loss: 0.000051\n",
      "Step 50 - Loss: 0.000145\n",
      "Step 100 - Loss: 0.000000\n",
      "Step 150 - Loss: 0.000042\n",
      "Step 200 - Loss: 0.000008\n",
      "Step 250 - Loss: 0.000452\n",
      "Step 300 - Loss: 0.000021\n",
      "Step 350 - Loss: 0.000159\n",
      "Epoch 83\n",
      "Step 0 - Loss: 0.000049\n",
      "Step 50 - Loss: 0.000143\n",
      "Step 100 - Loss: 0.000000\n",
      "Step 150 - Loss: 0.000043\n",
      "Step 200 - Loss: 0.000008\n",
      "Step 250 - Loss: 0.000446\n",
      "Step 300 - Loss: 0.000022\n",
      "Step 350 - Loss: 0.000159\n",
      "Epoch 84\n",
      "Step 0 - Loss: 0.000046\n",
      "Step 50 - Loss: 0.000141\n",
      "Step 100 - Loss: 0.000000\n",
      "Step 150 - Loss: 0.000043\n",
      "Step 200 - Loss: 0.000007\n",
      "Step 250 - Loss: 0.000441\n",
      "Step 300 - Loss: 0.000022\n",
      "Step 350 - Loss: 0.000159\n",
      "Epoch 85\n",
      "Step 0 - Loss: 0.000045\n",
      "Step 50 - Loss: 0.000139\n",
      "Step 100 - Loss: 0.000000\n",
      "Step 150 - Loss: 0.000043\n",
      "Step 200 - Loss: 0.000007\n",
      "Step 250 - Loss: 0.000436\n",
      "Step 300 - Loss: 0.000022\n",
      "Step 350 - Loss: 0.000159\n",
      "Epoch 86\n",
      "Step 0 - Loss: 0.000043\n",
      "Step 50 - Loss: 0.000138\n",
      "Step 100 - Loss: 0.000000\n",
      "Step 150 - Loss: 0.000043\n",
      "Step 200 - Loss: 0.000006\n",
      "Step 250 - Loss: 0.000431\n",
      "Step 300 - Loss: 0.000023\n",
      "Step 350 - Loss: 0.000159\n",
      "Epoch 87\n",
      "Step 0 - Loss: 0.000041\n",
      "Step 50 - Loss: 0.000136\n",
      "Step 100 - Loss: 0.000000\n",
      "Step 150 - Loss: 0.000043\n",
      "Step 200 - Loss: 0.000006\n",
      "Step 250 - Loss: 0.000426\n",
      "Step 300 - Loss: 0.000023\n",
      "Step 350 - Loss: 0.000159\n",
      "Epoch 88\n",
      "Step 0 - Loss: 0.000039\n",
      "Step 50 - Loss: 0.000134\n",
      "Step 100 - Loss: 0.000000\n",
      "Step 150 - Loss: 0.000043\n",
      "Step 200 - Loss: 0.000005\n",
      "Step 250 - Loss: 0.000421\n",
      "Step 300 - Loss: 0.000024\n",
      "Step 350 - Loss: 0.000158\n",
      "Epoch 89\n",
      "Step 0 - Loss: 0.000038\n",
      "Step 50 - Loss: 0.000132\n",
      "Step 100 - Loss: 0.000000\n",
      "Step 150 - Loss: 0.000044\n",
      "Step 200 - Loss: 0.000005\n",
      "Step 250 - Loss: 0.000417\n",
      "Step 300 - Loss: 0.000024\n",
      "Step 350 - Loss: 0.000158\n",
      "Epoch 90\n",
      "Step 0 - Loss: 0.000036\n",
      "Step 50 - Loss: 0.000131\n",
      "Step 100 - Loss: 0.000000\n",
      "Step 150 - Loss: 0.000044\n",
      "Step 200 - Loss: 0.000004\n",
      "Step 250 - Loss: 0.000413\n",
      "Step 300 - Loss: 0.000025\n",
      "Step 350 - Loss: 0.000158\n",
      "Epoch 91\n",
      "Step 0 - Loss: 0.000035\n",
      "Step 50 - Loss: 0.000129\n",
      "Step 100 - Loss: 0.000000\n",
      "Step 150 - Loss: 0.000044\n",
      "Step 200 - Loss: 0.000004\n",
      "Step 250 - Loss: 0.000409\n",
      "Step 300 - Loss: 0.000025\n",
      "Step 350 - Loss: 0.000158\n",
      "Epoch 92\n",
      "Step 0 - Loss: 0.000034\n",
      "Step 50 - Loss: 0.000128\n",
      "Step 100 - Loss: 0.000000\n",
      "Step 150 - Loss: 0.000044\n",
      "Step 200 - Loss: 0.000004\n",
      "Step 250 - Loss: 0.000405\n",
      "Step 300 - Loss: 0.000026\n",
      "Step 350 - Loss: 0.000157\n",
      "Epoch 93\n",
      "Step 0 - Loss: 0.000032\n",
      "Step 50 - Loss: 0.000126\n",
      "Step 100 - Loss: 0.000000\n",
      "Step 150 - Loss: 0.000044\n",
      "Step 200 - Loss: 0.000003\n",
      "Step 250 - Loss: 0.000401\n",
      "Step 300 - Loss: 0.000026\n",
      "Step 350 - Loss: 0.000157\n",
      "Epoch 94\n",
      "Step 0 - Loss: 0.000031\n",
      "Step 50 - Loss: 0.000125\n",
      "Step 100 - Loss: 0.000001\n",
      "Step 150 - Loss: 0.000044\n",
      "Step 200 - Loss: 0.000003\n",
      "Step 250 - Loss: 0.000397\n",
      "Step 300 - Loss: 0.000027\n",
      "Step 350 - Loss: 0.000157\n",
      "Epoch 95\n",
      "Step 0 - Loss: 0.000030\n",
      "Step 50 - Loss: 0.000123\n",
      "Step 100 - Loss: 0.000001\n",
      "Step 150 - Loss: 0.000044\n",
      "Step 200 - Loss: 0.000003\n",
      "Step 250 - Loss: 0.000393\n",
      "Step 300 - Loss: 0.000027\n",
      "Step 350 - Loss: 0.000157\n",
      "Epoch 96\n",
      "Step 0 - Loss: 0.000029\n",
      "Step 50 - Loss: 0.000122\n",
      "Step 100 - Loss: 0.000001\n",
      "Step 150 - Loss: 0.000044\n",
      "Step 200 - Loss: 0.000002\n",
      "Step 250 - Loss: 0.000390\n",
      "Step 300 - Loss: 0.000028\n",
      "Step 350 - Loss: 0.000156\n",
      "Epoch 97\n",
      "Step 0 - Loss: 0.000028\n",
      "Step 50 - Loss: 0.000121\n",
      "Step 100 - Loss: 0.000001\n",
      "Step 150 - Loss: 0.000044\n",
      "Step 200 - Loss: 0.000002\n",
      "Step 250 - Loss: 0.000386\n",
      "Step 300 - Loss: 0.000028\n",
      "Step 350 - Loss: 0.000156\n",
      "Epoch 98\n",
      "Step 0 - Loss: 0.000027\n",
      "Step 50 - Loss: 0.000119\n",
      "Step 100 - Loss: 0.000002\n",
      "Step 150 - Loss: 0.000044\n",
      "Step 200 - Loss: 0.000002\n",
      "Step 250 - Loss: 0.000383\n",
      "Step 300 - Loss: 0.000028\n",
      "Step 350 - Loss: 0.000155\n",
      "Epoch 99\n",
      "Step 0 - Loss: 0.000026\n",
      "Step 50 - Loss: 0.000118\n",
      "Step 100 - Loss: 0.000002\n",
      "Step 150 - Loss: 0.000044\n",
      "Step 200 - Loss: 0.000002\n",
      "Step 250 - Loss: 0.000380\n",
      "Step 300 - Loss: 0.000029\n",
      "Step 350 - Loss: 0.000155\n"
     ]
    }
   ],
   "source": [
    "loss_list = []\n",
    "test_pred_list = []\n",
    "\n",
    "with tf.Session() as sess:\n",
    "    \n",
    "    tf.global_variables_initializer().run()\n",
    "    \n",
    "    for epoch_idx in range(num_epochs):\n",
    "                \n",
    "        print('Epoch %d' %epoch_idx)\n",
    "        \n",
    "        for batch_idx in range(num_batches):\n",
    "            start_idx = batch_idx * truncated_backprop_length\n",
    "            end_idx = start_idx + truncated_backprop_length * batch_size\n",
    "        \n",
    "            \n",
    "            batchX = xTrain[start_idx:end_idx,:].reshape(batch_size,truncated_backprop_length,num_features)\n",
    "            batchY = yTrain[start_idx:end_idx].reshape(batch_size,truncated_backprop_length,1)\n",
    "                \n",
    "            #print('IDXs',start_idx,end_idx)\n",
    "            #print('X',batchX.shape,batchX)\n",
    "            #print('Y',batchX.shape,batchY)\n",
    "            \n",
    "            feed = {batchX_placeholder : batchX, batchY_placeholder : batchY}\n",
    "            \n",
    "            #TRAIN!\n",
    "            _loss,_train_step,_pred,_last_label,_prediction = sess.run(\n",
    "                fetches=[loss,train_step,prediction,last_label,prediction],\n",
    "                feed_dict = feed\n",
    "            )\n",
    "            \n",
    "            loss_list.append(_loss)\n",
    "            \n",
    "           \n",
    "            \n",
    "            if(batch_idx % 50 == 0):\n",
    "                print('Step %d - Loss: %.6f' %(batch_idx,_loss))\n",
    "                \n",
    "    #TEST\n",
    "    \n",
    "    \n",
    "    for test_idx in range(len(xTest) - truncated_backprop_length):\n",
    "        \n",
    "        testBatchX = xTest[test_idx:test_idx+truncated_backprop_length,:].reshape((1,truncated_backprop_length,num_features))        \n",
    "        testBatchY = yTest[test_idx:test_idx+truncated_backprop_length].reshape((1,truncated_backprop_length,1))\n",
    "\n",
    "        \n",
    "        #_current_state = np.zeros((batch_size,state_size))\n",
    "        feed = {batchX_placeholder : testBatchX,\n",
    "            batchY_placeholder : testBatchY}\n",
    "\n",
    "        #Test_pred contains 'window_size' predictions, we want the last one\n",
    "        _last_state,_last_label,test_pred = sess.run([last_state,last_label,prediction],feed_dict=feed)\n",
    "        test_pred_list.append(test_pred[-1][0]) #The last one"
   ]
  },
  {
   "cell_type": "code",
   "execution_count": 105,
   "metadata": {},
   "outputs": [
    {
     "data": {
      "image/png": "[encoded data removed]",
      "text/plain": [
       "<matplotlib.figure.Figure at 0x15962da0048>"
      ]
     },
     "metadata": {},
     "output_type": "display_data"
    }
   ],
   "source": [
    "plt.figure(figsize=(21,7))\n",
    "plt.plot(yTest,label='Price',color='blue')\n",
    "plt.plot(test_pred_list,label='Predicted',color='red')\n",
    "plt.title('Price vs Predicted')\n",
    "plt.legend(loc='upper left')\n",
    "plt.show()"
   ]
  },
  {
   "cell_type": "code",
   "execution_count": 106,
   "metadata": {},
   "outputs": [
    {
     "data": {
      "image/png": "[encoded data removed]",
      "text/plain": [
       "<matplotlib.figure.Figure at 0x159633f0c50>"
      ]
     },
     "metadata": {},
     "output_type": "display_data"
    }
   ],
   "source": [
    "import matplotlib.pyplot as plt\n",
    "%matplotlib inline\n",
    "plt.title('Loss')\n",
    "plt.scatter(x=np.arange(0,len(loss_list)), y=loss_list)\n",
    "plt.xlabel('epochs')\n",
    "plt.ylabel('loss')\n",
    "plt.show()"
   ]
  },
  {
   "cell_type": "code",
   "execution_count": null,
   "metadata": {
    "collapsed": true
   },
   "outputs": [],
   "source": []
  }
 ],
 "metadata": {
  "kernelspec": {
   "display_name": "Python 2",
   "language": "python",
   "name": "python2"
  },
  "language_info": {
   "codemirror_mode": {
    "name": "ipython",
    "version": 2
   },
   "file_extension": ".py",
   "mimetype": "text/x-python",
   "name": "python",
   "nbconvert_exporter": "python",
   "pygments_lexer": "ipython2",
   "version": "2.7.14"
  },
  "widgets": {
   "application/vnd.jupyter.widget-state+json": {
    "state": {},
    "version_major": 2,
    "version_minor": 0
   }
  }
 },
 "nbformat": 4,
 "nbformat_minor": 2
}
