{
 "cells": [
  {
   "cell_type": "code",
   "execution_count": 1,
   "metadata": {},
   "outputs": [
    {
     "name": "stderr",
     "output_type": "stream",
     "text": [
      "Using TensorFlow backend.\n"
     ]
    }
   ],
   "source": [
    "import pandas as pd\n",
    "import numpy as np\n",
    "import tensorflow as tf\n",
    "import re\n",
    "from nltk.corpus import stopwords\n",
    "from sklearn.model_selection import train_test_split\n",
    "from sklearn.metrics import median_absolute_error as mae\n",
    "from sklearn.metrics import mean_squared_error as mse\n",
    "from sklearn.metrics import accuracy_score as acc\n",
    "import matplotlib.pyplot as plt\n",
    "\n",
    "from keras.models import Sequential\n",
    "from keras import initializers\n",
    "from keras.layers import Dropout, Activation, Embedding, Convolution1D, MaxPooling1D, Input, Dense, Merge, \\\n",
    "                         BatchNormalization, Flatten, Reshape, Concatenate\n",
    "from keras.layers.recurrent import LSTM, GRU\n",
    "from keras.callbacks import Callback, ModelCheckpoint, EarlyStopping, ReduceLROnPlateau\n",
    "from keras.models import Model\n",
    "from keras.optimizers import Adam, SGD, RMSprop\n",
    "from keras import regularizers"
   ]
  },
  {
   "cell_type": "code",
   "execution_count": 38,
   "metadata": {
    "collapsed": true
   },
   "outputs": [],
   "source": [
    "\n",
    "dj = pd.read_csv(\"Reliance1.csv\")\n",
    "news = pd.read_csv(\"Reliance.csv\")"
   ]
  },
  {
   "cell_type": "code",
   "execution_count": 39,
   "metadata": {},
   "outputs": [
    {
     "data": {
      "text/plain": [
       "Date         0\n",
       "Open         6\n",
       "High         6\n",
       "Low          6\n",
       "Close        6\n",
       "Adj Close    6\n",
       "Volume       6\n",
       "dtype: int64"
      ]
     },
     "execution_count": 39,
     "metadata": {},
     "output_type": "execute_result"
    }
   ],
   "source": [
    "\n",
    "dj.isnull().sum()"
   ]
  },
  {
   "cell_type": "code",
   "execution_count": 40,
   "metadata": {},
   "outputs": [
    {
     "data": {
      "text/plain": [
       "Date    0\n",
       "News    0\n",
       "dtype: int64"
      ]
     },
     "execution_count": 40,
     "metadata": {},
     "output_type": "execute_result"
    }
   ],
   "source": [
    "news.isnull().sum()"
   ]
  },
  {
   "cell_type": "code",
   "execution_count": 41,
   "metadata": {},
   "outputs": [
    {
     "data": {
      "text/html": [
       "<div>\n",
       "<style scoped>\n",
       "    .dataframe tbody tr th:only-of-type {\n",
       "        vertical-align: middle;\n",
       "    }\n",
       "\n",
       "    .dataframe tbody tr th {\n",
       "        vertical-align: top;\n",
       "    }\n",
       "\n",
       "    .dataframe thead th {\n",
       "        text-align: right;\n",
       "    }\n",
       "</style>\n",
       "<table border=\"1\" class=\"dataframe\">\n",
       "  <thead>\n",
       "    <tr style=\"text-align: right;\">\n",
       "      <th></th>\n",
       "      <th>Date</th>\n",
       "      <th>News</th>\n",
       "    </tr>\n",
       "  </thead>\n",
       "  <tbody>\n",
       "    <tr>\n",
       "      <th>0</th>\n",
       "      <td>03-01-11</td>\n",
       "      <td>Reliance Industries has commissioned its busin...</td>\n",
       "    </tr>\n",
       "    <tr>\n",
       "      <th>1</th>\n",
       "      <td>05-01-11</td>\n",
       "      <td>The current dip can be used as an opportunity ...</td>\n",
       "    </tr>\n",
       "    <tr>\n",
       "      <th>2</th>\n",
       "      <td>05-01-11</td>\n",
       "      <td>Invest in Reliance Industries, says Devang Meh...</td>\n",
       "    </tr>\n",
       "    <tr>\n",
       "      <th>3</th>\n",
       "      <td>05-01-11</td>\n",
       "      <td>Reliance Industries a trading bet, says Sandee...</td>\n",
       "    </tr>\n",
       "    <tr>\n",
       "      <th>4</th>\n",
       "      <td>07-01-11</td>\n",
       "      <td>Pick Reliance Industries, says Vijay Bhambwani...</td>\n",
       "    </tr>\n",
       "  </tbody>\n",
       "</table>\n",
       "</div>"
      ],
      "text/plain": [
       "       Date                                               News\n",
       "0  03-01-11  Reliance Industries has commissioned its busin...\n",
       "1  05-01-11  The current dip can be used as an opportunity ...\n",
       "2  05-01-11  Invest in Reliance Industries, says Devang Meh...\n",
       "3  05-01-11  Reliance Industries a trading bet, says Sandee...\n",
       "4  07-01-11  Pick Reliance Industries, says Vijay Bhambwani..."
      ]
     },
     "execution_count": 41,
     "metadata": {},
     "output_type": "execute_result"
    }
   ],
   "source": [
    "news.head()"
   ]
  },
  {
   "cell_type": "code",
   "execution_count": 42,
   "metadata": {},
   "outputs": [
    {
     "name": "stdout",
     "output_type": "stream",
     "text": [
      "(1686, 7)\n",
      "(4275, 2)\n"
     ]
    }
   ],
   "source": [
    "print(dj.shape)\n",
    "print(news.shape)"
   ]
  },
  {
   "cell_type": "code",
   "execution_count": 43,
   "metadata": {},
   "outputs": [
    {
     "name": "stdout",
     "output_type": "stream",
     "text": [
      "1686\n",
      "1501\n"
     ]
    }
   ],
   "source": [
    "# Compare the number of unique dates. We want matching values.\n",
    "print(len(set(dj.Date)))\n",
    "print(len(set(news.Date)))"
   ]
  },
  {
   "cell_type": "code",
   "execution_count": 44,
   "metadata": {
    "collapsed": true
   },
   "outputs": [],
   "source": [
    "news=news.groupby('Date').sum()"
   ]
  },
  {
   "cell_type": "code",
   "execution_count": 45,
   "metadata": {},
   "outputs": [
    {
     "data": {
      "text/html": [
       "<div>\n",
       "<style scoped>\n",
       "    .dataframe tbody tr th:only-of-type {\n",
       "        vertical-align: middle;\n",
       "    }\n",
       "\n",
       "    .dataframe tbody tr th {\n",
       "        vertical-align: top;\n",
       "    }\n",
       "\n",
       "    .dataframe thead th {\n",
       "        text-align: right;\n",
       "    }\n",
       "</style>\n",
       "<table border=\"1\" class=\"dataframe\">\n",
       "  <thead>\n",
       "    <tr style=\"text-align: right;\">\n",
       "      <th></th>\n",
       "      <th>News</th>\n",
       "    </tr>\n",
       "    <tr>\n",
       "      <th>Date</th>\n",
       "      <th></th>\n",
       "    </tr>\n",
       "  </thead>\n",
       "  <tbody>\n",
       "    <tr>\n",
       "      <th>01-01-16</th>\n",
       "      <td>The reforms carried out by the government are ...</td>\n",
       "    </tr>\n",
       "    <tr>\n",
       "      <th>01-01-17</th>\n",
       "      <td>Nine of the 10 most valued companies registere...</td>\n",
       "    </tr>\n",
       "    <tr>\n",
       "      <th>01-02-11</th>\n",
       "      <td>Reliance Industries touched an intraday high o...</td>\n",
       "    </tr>\n",
       "    <tr>\n",
       "      <th>01-02-12</th>\n",
       "      <td>Contrary to popular belief Reliance Industries...</td>\n",
       "    </tr>\n",
       "    <tr>\n",
       "      <th>01-02-13</th>\n",
       "      <td>With over Rs 80,000 crore of investment in oil...</td>\n",
       "    </tr>\n",
       "  </tbody>\n",
       "</table>\n",
       "</div>"
      ],
      "text/plain": [
       "                                                       News\n",
       "Date                                                       \n",
       "01-01-16  The reforms carried out by the government are ...\n",
       "01-01-17  Nine of the 10 most valued companies registere...\n",
       "01-02-11  Reliance Industries touched an intraday high o...\n",
       "01-02-12  Contrary to popular belief Reliance Industries...\n",
       "01-02-13  With over Rs 80,000 crore of investment in oil..."
      ]
     },
     "execution_count": 45,
     "metadata": {},
     "output_type": "execute_result"
    }
   ],
   "source": [
    "news.head()"
   ]
  },
  {
   "cell_type": "code",
   "execution_count": 46,
   "metadata": {},
   "outputs": [
    {
     "data": {
      "text/html": [
       "<div>\n",
       "<style scoped>\n",
       "    .dataframe tbody tr th:only-of-type {\n",
       "        vertical-align: middle;\n",
       "    }\n",
       "\n",
       "    .dataframe tbody tr th {\n",
       "        vertical-align: top;\n",
       "    }\n",
       "\n",
       "    .dataframe thead th {\n",
       "        text-align: right;\n",
       "    }\n",
       "</style>\n",
       "<table border=\"1\" class=\"dataframe\">\n",
       "  <thead>\n",
       "    <tr style=\"text-align: right;\">\n",
       "      <th></th>\n",
       "      <th>Date</th>\n",
       "      <th>News</th>\n",
       "    </tr>\n",
       "  </thead>\n",
       "  <tbody>\n",
       "    <tr>\n",
       "      <th>0</th>\n",
       "      <td>01-01-16</td>\n",
       "      <td>The reforms carried out by the government are ...</td>\n",
       "    </tr>\n",
       "    <tr>\n",
       "      <th>1</th>\n",
       "      <td>01-01-17</td>\n",
       "      <td>Nine of the 10 most valued companies registere...</td>\n",
       "    </tr>\n",
       "    <tr>\n",
       "      <th>2</th>\n",
       "      <td>01-02-11</td>\n",
       "      <td>Reliance Industries touched an intraday high o...</td>\n",
       "    </tr>\n",
       "    <tr>\n",
       "      <th>3</th>\n",
       "      <td>01-02-12</td>\n",
       "      <td>Contrary to popular belief Reliance Industries...</td>\n",
       "    </tr>\n",
       "    <tr>\n",
       "      <th>4</th>\n",
       "      <td>01-02-13</td>\n",
       "      <td>With over Rs 80,000 crore of investment in oil...</td>\n",
       "    </tr>\n",
       "  </tbody>\n",
       "</table>\n",
       "</div>"
      ],
      "text/plain": [
       "       Date                                               News\n",
       "0  01-01-16  The reforms carried out by the government are ...\n",
       "1  01-01-17  Nine of the 10 most valued companies registere...\n",
       "2  01-02-11  Reliance Industries touched an intraday high o...\n",
       "3  01-02-12  Contrary to popular belief Reliance Industries...\n",
       "4  01-02-13  With over Rs 80,000 crore of investment in oil..."
      ]
     },
     "execution_count": 46,
     "metadata": {},
     "output_type": "execute_result"
    }
   ],
   "source": [
    "news=news.reset_index()\n",
    "news.head()"
   ]
  },
  {
   "cell_type": "code",
   "execution_count": 47,
   "metadata": {},
   "outputs": [
    {
     "data": {
      "text/html": [
       "<div>\n",
       "<style scoped>\n",
       "    .dataframe tbody tr th:only-of-type {\n",
       "        vertical-align: middle;\n",
       "    }\n",
       "\n",
       "    .dataframe tbody tr th {\n",
       "        vertical-align: top;\n",
       "    }\n",
       "\n",
       "    .dataframe thead th {\n",
       "        text-align: right;\n",
       "    }\n",
       "</style>\n",
       "<table border=\"1\" class=\"dataframe\">\n",
       "  <thead>\n",
       "    <tr style=\"text-align: right;\">\n",
       "      <th></th>\n",
       "      <th>Date</th>\n",
       "      <th>News</th>\n",
       "    </tr>\n",
       "  </thead>\n",
       "  <tbody>\n",
       "    <tr>\n",
       "      <th>0</th>\n",
       "      <td>2016-01-01</td>\n",
       "      <td>The reforms carried out by the government are ...</td>\n",
       "    </tr>\n",
       "    <tr>\n",
       "      <th>1</th>\n",
       "      <td>2017-01-01</td>\n",
       "      <td>Nine of the 10 most valued companies registere...</td>\n",
       "    </tr>\n",
       "    <tr>\n",
       "      <th>2</th>\n",
       "      <td>2011-01-02</td>\n",
       "      <td>Reliance Industries touched an intraday high o...</td>\n",
       "    </tr>\n",
       "    <tr>\n",
       "      <th>3</th>\n",
       "      <td>2012-01-02</td>\n",
       "      <td>Contrary to popular belief Reliance Industries...</td>\n",
       "    </tr>\n",
       "    <tr>\n",
       "      <th>4</th>\n",
       "      <td>2013-01-02</td>\n",
       "      <td>With over Rs 80,000 crore of investment in oil...</td>\n",
       "    </tr>\n",
       "  </tbody>\n",
       "</table>\n",
       "</div>"
      ],
      "text/plain": [
       "        Date                                               News\n",
       "0 2016-01-01  The reforms carried out by the government are ...\n",
       "1 2017-01-01  Nine of the 10 most valued companies registere...\n",
       "2 2011-01-02  Reliance Industries touched an intraday high o...\n",
       "3 2012-01-02  Contrary to popular belief Reliance Industries...\n",
       "4 2013-01-02  With over Rs 80,000 crore of investment in oil..."
      ]
     },
     "execution_count": 47,
     "metadata": {},
     "output_type": "execute_result"
    }
   ],
   "source": [
    "news['Date']=pd.to_datetime(news.Date)\n",
    "news.head()"
   ]
  },
  {
   "cell_type": "code",
   "execution_count": 48,
   "metadata": {},
   "outputs": [
    {
     "data": {
      "text/html": [
       "<div>\n",
       "<style scoped>\n",
       "    .dataframe tbody tr th:only-of-type {\n",
       "        vertical-align: middle;\n",
       "    }\n",
       "\n",
       "    .dataframe tbody tr th {\n",
       "        vertical-align: top;\n",
       "    }\n",
       "\n",
       "    .dataframe thead th {\n",
       "        text-align: right;\n",
       "    }\n",
       "</style>\n",
       "<table border=\"1\" class=\"dataframe\">\n",
       "  <thead>\n",
       "    <tr style=\"text-align: right;\">\n",
       "      <th></th>\n",
       "      <th>Date</th>\n",
       "      <th>News</th>\n",
       "    </tr>\n",
       "  </thead>\n",
       "  <tbody>\n",
       "    <tr>\n",
       "      <th>2</th>\n",
       "      <td>2011-01-02</td>\n",
       "      <td>Reliance Industries touched an intraday high o...</td>\n",
       "    </tr>\n",
       "    <tr>\n",
       "      <th>8</th>\n",
       "      <td>2011-01-03</td>\n",
       "      <td>Speaking at FICCI's 83rd Annual General Meetin...</td>\n",
       "    </tr>\n",
       "    <tr>\n",
       "      <th>11</th>\n",
       "      <td>2011-01-04</td>\n",
       "      <td>I won’t be too enthused on the stock beyond Rs...</td>\n",
       "    </tr>\n",
       "    <tr>\n",
       "      <th>17</th>\n",
       "      <td>2011-01-06</td>\n",
       "      <td>Faced with a gas crunch at its petrochemical p...</td>\n",
       "    </tr>\n",
       "    <tr>\n",
       "      <th>21</th>\n",
       "      <td>2011-01-07</td>\n",
       "      <td>It has been a series of positive days for the ...</td>\n",
       "    </tr>\n",
       "  </tbody>\n",
       "</table>\n",
       "</div>"
      ],
      "text/plain": [
       "         Date                                               News\n",
       "2  2011-01-02  Reliance Industries touched an intraday high o...\n",
       "8  2011-01-03  Speaking at FICCI's 83rd Annual General Meetin...\n",
       "11 2011-01-04  I won’t be too enthused on the stock beyond Rs...\n",
       "17 2011-01-06  Faced with a gas crunch at its petrochemical p...\n",
       "21 2011-01-07  It has been a series of positive days for the ..."
      ]
     },
     "execution_count": 48,
     "metadata": {},
     "output_type": "execute_result"
    }
   ],
   "source": [
    "news.sort_values(by='Date',ascending=True).head()"
   ]
  },
  {
   "cell_type": "code",
   "execution_count": 49,
   "metadata": {},
   "outputs": [
    {
     "data": {
      "text/plain": [
       "(1501, 2)"
      ]
     },
     "execution_count": 49,
     "metadata": {},
     "output_type": "execute_result"
    }
   ],
   "source": [
    "news.shape"
   ]
  },
  {
   "cell_type": "code",
   "execution_count": 50,
   "metadata": {
    "collapsed": true
   },
   "outputs": [],
   "source": [
    "news=news[['Date','News']]"
   ]
  },
  {
   "cell_type": "code",
   "execution_count": 51,
   "metadata": {},
   "outputs": [
    {
     "data": {
      "text/html": [
       "<div>\n",
       "<style scoped>\n",
       "    .dataframe tbody tr th:only-of-type {\n",
       "        vertical-align: middle;\n",
       "    }\n",
       "\n",
       "    .dataframe tbody tr th {\n",
       "        vertical-align: top;\n",
       "    }\n",
       "\n",
       "    .dataframe thead th {\n",
       "        text-align: right;\n",
       "    }\n",
       "</style>\n",
       "<table border=\"1\" class=\"dataframe\">\n",
       "  <thead>\n",
       "    <tr style=\"text-align: right;\">\n",
       "      <th></th>\n",
       "      <th>Date</th>\n",
       "      <th>News</th>\n",
       "    </tr>\n",
       "  </thead>\n",
       "  <tbody>\n",
       "    <tr>\n",
       "      <th>0</th>\n",
       "      <td>2016-01-01</td>\n",
       "      <td>The reforms carried out by the government are ...</td>\n",
       "    </tr>\n",
       "    <tr>\n",
       "      <th>1</th>\n",
       "      <td>2017-01-01</td>\n",
       "      <td>Nine of the 10 most valued companies registere...</td>\n",
       "    </tr>\n",
       "    <tr>\n",
       "      <th>2</th>\n",
       "      <td>2011-01-02</td>\n",
       "      <td>Reliance Industries touched an intraday high o...</td>\n",
       "    </tr>\n",
       "    <tr>\n",
       "      <th>3</th>\n",
       "      <td>2012-01-02</td>\n",
       "      <td>Contrary to popular belief Reliance Industries...</td>\n",
       "    </tr>\n",
       "    <tr>\n",
       "      <th>4</th>\n",
       "      <td>2013-01-02</td>\n",
       "      <td>With over Rs 80,000 crore of investment in oil...</td>\n",
       "    </tr>\n",
       "  </tbody>\n",
       "</table>\n",
       "</div>"
      ],
      "text/plain": [
       "        Date                                               News\n",
       "0 2016-01-01  The reforms carried out by the government are ...\n",
       "1 2017-01-01  Nine of the 10 most valued companies registere...\n",
       "2 2011-01-02  Reliance Industries touched an intraday high o...\n",
       "3 2012-01-02  Contrary to popular belief Reliance Industries...\n",
       "4 2013-01-02  With over Rs 80,000 crore of investment in oil..."
      ]
     },
     "execution_count": 51,
     "metadata": {},
     "output_type": "execute_result"
    }
   ],
   "source": [
    "news.head()"
   ]
  },
  {
   "cell_type": "code",
   "execution_count": 52,
   "metadata": {},
   "outputs": [
    {
     "data": {
      "text/plain": [
       "(1686, 7)"
      ]
     },
     "execution_count": 52,
     "metadata": {},
     "output_type": "execute_result"
    }
   ],
   "source": [
    "dj.shape"
   ]
  },
  {
   "cell_type": "code",
   "execution_count": 53,
   "metadata": {
    "collapsed": true
   },
   "outputs": [],
   "source": [
    "\n",
    "# Remove the extra dates that are in news\n",
    "news = news[news.Date.isin(dj.Date)]"
   ]
  },
  {
   "cell_type": "code",
   "execution_count": 54,
   "metadata": {},
   "outputs": [
    {
     "name": "stdout",
     "output_type": "stream",
     "text": [
      "1686\n",
      "1163\n"
     ]
    }
   ],
   "source": [
    "print(len(set(dj.Date)))\n",
    "print(len(set(news.Date)))"
   ]
  },
  {
   "cell_type": "code",
   "execution_count": 54,
   "metadata": {
    "collapsed": true
   },
   "outputs": [],
   "source": [
    "\n",
    "# Calculate the difference in opening prices between the following and current day.\n",
    "# The model will try to predict how much the Open value will change beased on the news.\n",
    "#dj = dj.set_index('Date').diff(periods=1)\n",
    "#dj['Date'] = dj.index\n",
    "#dj = dj.reset_index(drop=True)\n",
    "# Remove unneeded features\n",
    "#dj = dj.drop(['High','Low','Close','Volume','Adj Close'], 1)"
   ]
  },
  {
   "cell_type": "code",
   "execution_count": 55,
   "metadata": {},
   "outputs": [
    {
     "data": {
      "text/html": [
       "<div>\n",
       "<style>\n",
       "    .dataframe thead tr:only-child th {\n",
       "        text-align: right;\n",
       "    }\n",
       "\n",
       "    .dataframe thead th {\n",
       "        text-align: left;\n",
       "    }\n",
       "\n",
       "    .dataframe tbody tr th {\n",
       "        vertical-align: top;\n",
       "    }\n",
       "</style>\n",
       "<table border=\"1\" class=\"dataframe\">\n",
       "  <thead>\n",
       "    <tr style=\"text-align: right;\">\n",
       "      <th></th>\n",
       "      <th>Open</th>\n",
       "      <th>Date</th>\n",
       "    </tr>\n",
       "  </thead>\n",
       "  <tbody>\n",
       "    <tr>\n",
       "      <th>0</th>\n",
       "      <td>NaN</td>\n",
       "      <td>2011-01-03</td>\n",
       "    </tr>\n",
       "    <tr>\n",
       "      <th>1</th>\n",
       "      <td>NaN</td>\n",
       "      <td>2011-01-04</td>\n",
       "    </tr>\n",
       "    <tr>\n",
       "      <th>2</th>\n",
       "      <td>9.775024</td>\n",
       "      <td>2011-01-05</td>\n",
       "    </tr>\n",
       "    <tr>\n",
       "      <th>3</th>\n",
       "      <td>-7.725036</td>\n",
       "      <td>2011-01-06</td>\n",
       "    </tr>\n",
       "    <tr>\n",
       "      <th>4</th>\n",
       "      <td>-0.375000</td>\n",
       "      <td>2011-01-07</td>\n",
       "    </tr>\n",
       "  </tbody>\n",
       "</table>\n",
       "</div>"
      ],
      "text/plain": [
       "       Open        Date\n",
       "0       NaN  2011-01-03\n",
       "1       NaN  2011-01-04\n",
       "2  9.775024  2011-01-05\n",
       "3 -7.725036  2011-01-06\n",
       "4 -0.375000  2011-01-07"
      ]
     },
     "execution_count": 55,
     "metadata": {},
     "output_type": "execute_result"
    }
   ],
   "source": [
    "\n",
    "#dj.head()"
   ]
  },
  {
   "cell_type": "code",
   "execution_count": 56,
   "metadata": {
    "collapsed": true
   },
   "outputs": [],
   "source": [
    "#dj = dj[dj.Open.notnull()]"
   ]
  },
  {
   "cell_type": "code",
   "execution_count": 57,
   "metadata": {},
   "outputs": [
    {
     "data": {
      "text/html": [
       "<div>\n",
       "<style scoped>\n",
       "    .dataframe tbody tr th:only-of-type {\n",
       "        vertical-align: middle;\n",
       "    }\n",
       "\n",
       "    .dataframe tbody tr th {\n",
       "        vertical-align: top;\n",
       "    }\n",
       "\n",
       "    .dataframe thead th {\n",
       "        text-align: right;\n",
       "    }\n",
       "</style>\n",
       "<table border=\"1\" class=\"dataframe\">\n",
       "  <thead>\n",
       "    <tr style=\"text-align: right;\">\n",
       "      <th></th>\n",
       "      <th>Date</th>\n",
       "      <th>Close</th>\n",
       "      <th>Adj Close</th>\n",
       "    </tr>\n",
       "  </thead>\n",
       "  <tbody>\n",
       "    <tr>\n",
       "      <th>0</th>\n",
       "      <td>2011-01-03</td>\n",
       "      <td>529.125000</td>\n",
       "      <td>459.736267</td>\n",
       "    </tr>\n",
       "    <tr>\n",
       "      <th>1</th>\n",
       "      <td>2011-01-04</td>\n",
       "      <td>538.275024</td>\n",
       "      <td>467.686401</td>\n",
       "    </tr>\n",
       "    <tr>\n",
       "      <th>2</th>\n",
       "      <td>2011-01-05</td>\n",
       "      <td>538.275024</td>\n",
       "      <td>467.686401</td>\n",
       "    </tr>\n",
       "    <tr>\n",
       "      <th>3</th>\n",
       "      <td>2011-01-06</td>\n",
       "      <td>542.000000</td>\n",
       "      <td>470.922852</td>\n",
       "    </tr>\n",
       "    <tr>\n",
       "      <th>4</th>\n",
       "      <td>2011-01-07</td>\n",
       "      <td>532.450012</td>\n",
       "      <td>462.625244</td>\n",
       "    </tr>\n",
       "  </tbody>\n",
       "</table>\n",
       "</div>"
      ],
      "text/plain": [
       "         Date       Close   Adj Close\n",
       "0  2011-01-03  529.125000  459.736267\n",
       "1  2011-01-04  538.275024  467.686401\n",
       "2  2011-01-05  538.275024  467.686401\n",
       "3  2011-01-06  542.000000  470.922852\n",
       "4  2011-01-07  532.450012  462.625244"
      ]
     },
     "execution_count": 57,
     "metadata": {},
     "output_type": "execute_result"
    }
   ],
   "source": [
    "\n",
    "# Check if there are any more null values.\n",
    "#dj.isnull().sum()\n",
    "dj=dj[['Date','Close','Adj Close']]\n",
    "dj.head()"
   ]
  },
  {
   "cell_type": "code",
   "execution_count": 58,
   "metadata": {},
   "outputs": [
    {
     "name": "stdout",
     "output_type": "stream",
     "text": [
      "500\n",
      "1000\n",
      "1500\n"
     ]
    }
   ],
   "source": [
    "# Create a list of the opening prices and their corresponding daily headlines from the news\n",
    "# Create a list of the opening prices and their corresponding daily headlines from the news\n",
    "close = []\n",
    "adj =[]\n",
    "headlines = []\n",
    "DateNew=[]\n",
    "for row in dj.iterrows():\n",
    "    daily_headlines = []\n",
    "    daily_date=[]\n",
    "    daily_close=[]\n",
    "    daily_adj=[]\n",
    "    date = row[1]['Date']\n",
    "    close.append(row[1]['Close'])\n",
    "    adj.append(row[1]['Adj Close'])\n",
    "    \n",
    "    for row_ in news[news.Date==date].iterrows():\n",
    "        daily_headlines.append(row_[1]['News'])\n",
    "        daily_date.append(row_[1]['Date'])\n",
    "        #daily_close.append(row_[1]['Close'])\n",
    "        #daily_adj.append(row_[1]['Adj Close'])\n",
    "    # Track progress\n",
    "    headlines.append(daily_headlines)\n",
    "    DateNew.append(daily_date)\n",
    "    #close.append(daily_close)\n",
    "    #adj.append(daily_adj)\n",
    "    if len(close) % 500 == 0:\n",
    "        print(len(close))"
   ]
  },
  {
   "cell_type": "code",
   "execution_count": null,
   "metadata": {
    "collapsed": true
   },
   "outputs": [],
   "source": [
    "#df=df[df.astype(str)['Date'] != '[]']"
   ]
  },
  {
   "cell_type": "code",
   "execution_count": 60,
   "metadata": {},
   "outputs": [
    {
     "name": "stdout",
     "output_type": "stream",
     "text": [
      "1686\n",
      "1686\n"
     ]
    }
   ],
   "source": [
    "\n",
    "# Compare lengths to ensure they are the same\n",
    "print(len(close))\n",
    "print(len(headlines))"
   ]
  },
  {
   "cell_type": "code",
   "execution_count": 61,
   "metadata": {},
   "outputs": [
    {
     "name": "stdout",
     "output_type": "stream",
     "text": [
      "1\n",
      "0\n"
     ]
    }
   ],
   "source": [
    "\n",
    "# Compare the number of headlines for each day\n",
    "print(max(len(i) for i in headlines))\n",
    "print(min(len(i) for i in headlines))\n",
    "#print(np.mean(len(i) for i in headlines))"
   ]
  },
  {
   "cell_type": "code",
   "execution_count": 62,
   "metadata": {
    "collapsed": true
   },
   "outputs": [],
   "source": [
    "# A list of contractions from http://stackoverflow.com/questions/19790188/expanding-english-language-contractions-in-python\n",
    "contractions = { \n",
    "\"ain't\": \"am not\",\n",
    "\"aren't\": \"are not\",\n",
    "\"can't\": \"cannot\",\n",
    "\"can't've\": \"cannot have\",\n",
    "\"'cause\": \"because\",\n",
    "\"could've\": \"could have\",\n",
    "\"couldn't\": \"could not\",\n",
    "\"couldn't've\": \"could not have\",\n",
    "\"didn't\": \"did not\",\n",
    "\"doesn't\": \"does not\",\n",
    "\"don't\": \"do not\",\n",
    "\"hadn't\": \"had not\",\n",
    "\"hadn't've\": \"had not have\",\n",
    "\"hasn't\": \"has not\",\n",
    "\"haven't\": \"have not\",\n",
    "\"he'd\": \"he would\",\n",
    "\"he'd've\": \"he would have\",\n",
    "\"he'll\": \"he will\",\n",
    "\"he's\": \"he is\",\n",
    "\"how'd\": \"how did\",\n",
    "\"how'll\": \"how will\",\n",
    "\"how's\": \"how is\",\n",
    "\"i'd\": \"i would\",\n",
    "\"i'll\": \"i will\",\n",
    "\"i'm\": \"i am\",\n",
    "\"i've\": \"i have\",\n",
    "\"isn't\": \"is not\",\n",
    "\"it'd\": \"it would\",\n",
    "\"it'll\": \"it will\",\n",
    "\"it's\": \"it is\",\n",
    "\"let's\": \"let us\",\n",
    "\"ma'am\": \"madam\",\n",
    "\"mayn't\": \"may not\",\n",
    "\"might've\": \"might have\",\n",
    "\"mightn't\": \"might not\",\n",
    "\"must've\": \"must have\",\n",
    "\"mustn't\": \"must not\",\n",
    "\"needn't\": \"need not\",\n",
    "\"oughtn't\": \"ought not\",\n",
    "\"shan't\": \"shall not\",\n",
    "\"sha'n't\": \"shall not\",\n",
    "\"she'd\": \"she would\",\n",
    "\"she'll\": \"she will\",\n",
    "\"she's\": \"she is\",\n",
    "\"should've\": \"should have\",\n",
    "\"shouldn't\": \"should not\",\n",
    "\"that'd\": \"that would\",\n",
    "\"that's\": \"that is\",\n",
    "\"there'd\": \"there had\",\n",
    "\"there's\": \"there is\",\n",
    "\"they'd\": \"they would\",\n",
    "\"they'll\": \"they will\",\n",
    "\"they're\": \"they are\",\n",
    "\"they've\": \"they have\",\n",
    "\"wasn't\": \"was not\",\n",
    "\"we'd\": \"we would\",\n",
    "\"we'll\": \"we will\",\n",
    "\"we're\": \"we are\",\n",
    "\"we've\": \"we have\",\n",
    "\"weren't\": \"were not\",\n",
    "\"what'll\": \"what will\",\n",
    "\"what're\": \"what are\",\n",
    "\"what's\": \"what is\",\n",
    "\"what've\": \"what have\",\n",
    "\"where'd\": \"where did\",\n",
    "\"where's\": \"where is\",\n",
    "\"who'll\": \"who will\",\n",
    "\"who's\": \"who is\",\n",
    "\"won't\": \"will not\",\n",
    "\"wouldn't\": \"would not\",\n",
    "\"you'd\": \"you would\",\n",
    "\"you'll\": \"you will\",\n",
    "\"you're\": \"you are\"\n",
    "}"
   ]
  },
  {
   "cell_type": "code",
   "execution_count": 63,
   "metadata": {
    "collapsed": true
   },
   "outputs": [],
   "source": [
    "def clean_text(text, remove_stopwords = True):\n",
    "    '''Remove unwanted characters and format the text to create fewer nulls word embeddings'''\n",
    "    \n",
    "    # Convert words to lower case\n",
    "    text = text.lower()\n",
    "    \n",
    "    # Replace contractions with their longer forms \n",
    "    if True:\n",
    "        text = text.split()\n",
    "        new_text = []\n",
    "        for word in text:\n",
    "            if word in contractions:\n",
    "                new_text.append(contractions[word])\n",
    "            else:\n",
    "                new_text.append(word)\n",
    "        text = \" \".join(new_text)\n",
    "    \n",
    "    # Format words and remove unwanted characters\n",
    "    text = re.sub(r'&amp;', '', text) \n",
    "    text = re.sub(r'0,0', '00', text) \n",
    "    text = re.sub(r'[_\"\\-;%()|.,+&=*%.,!?:#@\\[\\]]', ' ', text)\n",
    "    text = re.sub(r'\\'', ' ', text)\n",
    "    text = re.sub(r'\\$', ' $ ', text)\n",
    "    text = re.sub(r'j k ', ' jk ', text)\n",
    "    text = re.sub(r' s ', ' ', text)\n",
    "    text = re.sub(r' yr ', ' year ', text)\n",
    "    text = re.sub(r' l g b t ', ' lgbt ', text)\n",
    "    text = re.sub(r'0km ', '0 km ', text)\n",
    "    \n",
    "    # Optionally, remove stop words\n",
    "    if remove_stopwords:\n",
    "        text = text.split()\n",
    "        stops = set(stopwords.words(\"english\"))\n",
    "        text = [w for w in text if not w in stops]\n",
    "        text = \" \".join(text)\n",
    "\n",
    "    return text"
   ]
  },
  {
   "cell_type": "code",
   "execution_count": 64,
   "metadata": {
    "collapsed": true
   },
   "outputs": [],
   "source": [
    "# Clean the headlines\n",
    "clean_headlines = []\n",
    "\n",
    "for daily_headlines in headlines:\n",
    "    clean_daily_headlines = []\n",
    "    for headline in daily_headlines:\n",
    "        clean_daily_headlines.append(clean_text(headline))\n",
    "    clean_headlines.append(clean_daily_headlines)"
   ]
  },
  {
   "cell_type": "code",
   "execution_count": 65,
   "metadata": {},
   "outputs": [
    {
     "data": {
      "text/plain": [
       "['won’t enthused stock beyond rs 1050 one see q4 results till maybe next one month keep level rs 1050 says sp tulsian sptulsian com']"
      ]
     },
     "execution_count": 65,
     "metadata": {},
     "output_type": "execute_result"
    }
   ],
   "source": [
    "\n",
    "# Take a look at some headlines to ensure everything was cleaned well\n",
    "clean_headlines[1]"
   ]
  },
  {
   "cell_type": "code",
   "execution_count": 66,
   "metadata": {},
   "outputs": [
    {
     "name": "stdout",
     "output_type": "stream",
     "text": [
      "Size of Vocabulary: 7343\n"
     ]
    }
   ],
   "source": [
    "# Find the number of times each word was used and the size of the vocabulary\n",
    "word_counts = {}\n",
    "\n",
    "for date in clean_headlines:\n",
    "    for headline in date:\n",
    "        for word in headline.split():\n",
    "            if word not in word_counts:\n",
    "                word_counts[word] = 1\n",
    "            else:\n",
    "                word_counts[word] += 1\n",
    "            \n",
    "print(\"Size of Vocabulary:\", len(word_counts))"
   ]
  },
  {
   "cell_type": "code",
   "execution_count": 67,
   "metadata": {},
   "outputs": [
    {
     "name": "stdout",
     "output_type": "stream",
     "text": [
      "Word embeddings: 94\n"
     ]
    }
   ],
   "source": [
    "# Load GloVe's embeddings\n",
    "embeddings_index = {}\n",
    "with open('glove.840B.300d.txt', encoding='utf-8') as f:\n",
    "    for line in f:\n",
    "        values = line.split(' ')\n",
    "        word = values[0]\n",
    "        embedding = np.asarray(values[1:], dtype='float32')\n",
    "        embeddings_index[word] = embedding\n",
    "\n",
    "print('Word embeddings:', len(embeddings_index))"
   ]
  },
  {
   "cell_type": "code",
   "execution_count": 68,
   "metadata": {},
   "outputs": [
    {
     "name": "stdout",
     "output_type": "stream",
     "text": [
      "Number of words missing from GloVe: 1032\n",
      "Percent of words that are missing from vocabulary: 14.05%\n"
     ]
    }
   ],
   "source": [
    "# Find the number of words that are missing from GloVe, and are used more than our threshold.\n",
    "missing_words = 0\n",
    "threshold = 10\n",
    "\n",
    "for word, count in word_counts.items():\n",
    "    if count > threshold:\n",
    "        if word not in embeddings_index:\n",
    "            missing_words += 1\n",
    "            \n",
    "missing_ratio = round(missing_words/len(word_counts),4)*100\n",
    "            \n",
    "print(\"Number of words missing from GloVe:\", missing_words)\n",
    "print(\"Percent of words that are missing from vocabulary: {}%\".format(missing_ratio))"
   ]
  },
  {
   "cell_type": "code",
   "execution_count": 69,
   "metadata": {},
   "outputs": [
    {
     "name": "stdout",
     "output_type": "stream",
     "text": [
      "Total Number of Unique Words: 7343\n",
      "Number of Words we will use: 1142\n",
      "Percent of Words we will use: 15.55%\n"
     ]
    }
   ],
   "source": [
    " # Limit the vocab that we will use to words that appear ≥ threshold or are in GloVe\n",
    "\n",
    "#dictionary to convert words to integers\n",
    "vocab_to_int = {} \n",
    "\n",
    "value = 0\n",
    "for word, count in word_counts.items():\n",
    "    if count >= threshold or word in embeddings_index:\n",
    "        vocab_to_int[word] = value\n",
    "        value += 1\n",
    "\n",
    "# Special tokens that will be added to our vocab\n",
    "codes = [\"<UNK>\",\"<PAD>\"]   \n",
    "\n",
    "# Add codes to vocab\n",
    "for code in codes:\n",
    "    vocab_to_int[code] = len(vocab_to_int)\n",
    "\n",
    "# Dictionary to convert integers to words\n",
    "int_to_vocab = {}\n",
    "for word, value in vocab_to_int.items():\n",
    "    int_to_vocab[value] = word\n",
    "\n",
    "usage_ratio = round(len(vocab_to_int) / len(word_counts),4)*100\n",
    "\n",
    "print(\"Total Number of Unique Words:\", len(word_counts))\n",
    "print(\"Number of Words we will use:\", len(vocab_to_int))\n",
    "print(\"Percent of Words we will use: {}%\".format(usage_ratio))"
   ]
  },
  {
   "cell_type": "code",
   "execution_count": 70,
   "metadata": {},
   "outputs": [
    {
     "name": "stdout",
     "output_type": "stream",
     "text": [
      "1142\n"
     ]
    }
   ],
   "source": [
    "# Need to use 300 for embedding dimensions to match GloVe's vectors.\n",
    "embedding_dim = 300\n",
    "\n",
    "nb_words = len(vocab_to_int)\n",
    "# Create matrix with default values of zero\n",
    "word_embedding_matrix = np.zeros((nb_words, embedding_dim))\n",
    "for word, i in vocab_to_int.items():\n",
    "    if word in embeddings_index:\n",
    "        word_embedding_matrix[i] = embeddings_index[word]\n",
    "    else:\n",
    "        # If word not in GloVe, create a random embedding for it\n",
    "        new_embedding = np.array(np.random.uniform(-1.0, 1.0, embedding_dim))\n",
    "        embeddings_index[word] = new_embedding\n",
    "        word_embedding_matrix[i] = new_embedding\n",
    "\n",
    "# Check if value matches len(vocab_to_int)\n",
    "print(len(word_embedding_matrix))"
   ]
  },
  {
   "cell_type": "code",
   "execution_count": 71,
   "metadata": {},
   "outputs": [
    {
     "name": "stdout",
     "output_type": "stream",
     "text": [
      "Total number of words in headlines: 66861\n",
      "Total number of UNKs in headlines: 14158\n",
      "Percent of words that are UNK: 21.18%\n"
     ]
    }
   ],
   "source": [
    "# Change the text from words to integers\n",
    "# If word is not in vocab, replace it with <UNK> (unknown)\n",
    "word_count = 0\n",
    "unk_count = 0\n",
    "\n",
    "int_headlines = []\n",
    "\n",
    "for date in clean_headlines:\n",
    "    int_daily_headlines = []\n",
    "    for headline in date:\n",
    "        int_headline = []\n",
    "        for word in headline.split():\n",
    "            word_count += 1\n",
    "            if word in vocab_to_int:\n",
    "                int_headline.append(vocab_to_int[word])\n",
    "            else:\n",
    "                int_headline.append(vocab_to_int[\"<UNK>\"])\n",
    "                unk_count += 1\n",
    "        int_daily_headlines.append(int_headline)\n",
    "    int_headlines.append(int_daily_headlines)\n",
    "\n",
    "unk_percent = round(unk_count/word_count,4)*100\n",
    "\n",
    "print(\"Total number of words in headlines:\", word_count)\n",
    "print(\"Total number of UNKs in headlines:\", unk_count)\n",
    "print(\"Percent of words that are UNK: {}%\".format(unk_percent))"
   ]
  },
  {
   "cell_type": "code",
   "execution_count": 72,
   "metadata": {
    "collapsed": true
   },
   "outputs": [],
   "source": [
    "# Find the length of headlines\n",
    "lengths = []\n",
    "for date in int_headlines:\n",
    "    for headline in date:\n",
    "        lengths.append(len(headline))\n",
    "\n",
    "# Create a dataframe so that the values can be inspected\n",
    "lengths = pd.DataFrame(lengths, columns=['counts'])"
   ]
  },
  {
   "cell_type": "code",
   "execution_count": 73,
   "metadata": {},
   "outputs": [
    {
     "data": {
      "text/html": [
       "<div>\n",
       "<style scoped>\n",
       "    .dataframe tbody tr th:only-of-type {\n",
       "        vertical-align: middle;\n",
       "    }\n",
       "\n",
       "    .dataframe tbody tr th {\n",
       "        vertical-align: top;\n",
       "    }\n",
       "\n",
       "    .dataframe thead th {\n",
       "        text-align: right;\n",
       "    }\n",
       "</style>\n",
       "<table border=\"1\" class=\"dataframe\">\n",
       "  <thead>\n",
       "    <tr style=\"text-align: right;\">\n",
       "      <th></th>\n",
       "      <th>counts</th>\n",
       "    </tr>\n",
       "  </thead>\n",
       "  <tbody>\n",
       "    <tr>\n",
       "      <th>count</th>\n",
       "      <td>1163.000000</td>\n",
       "    </tr>\n",
       "    <tr>\n",
       "      <th>mean</th>\n",
       "      <td>57.490112</td>\n",
       "    </tr>\n",
       "    <tr>\n",
       "      <th>std</th>\n",
       "      <td>54.353251</td>\n",
       "    </tr>\n",
       "    <tr>\n",
       "      <th>min</th>\n",
       "      <td>4.000000</td>\n",
       "    </tr>\n",
       "    <tr>\n",
       "      <th>25%</th>\n",
       "      <td>23.000000</td>\n",
       "    </tr>\n",
       "    <tr>\n",
       "      <th>50%</th>\n",
       "      <td>41.000000</td>\n",
       "    </tr>\n",
       "    <tr>\n",
       "      <th>75%</th>\n",
       "      <td>72.500000</td>\n",
       "    </tr>\n",
       "    <tr>\n",
       "      <th>max</th>\n",
       "      <td>449.000000</td>\n",
       "    </tr>\n",
       "  </tbody>\n",
       "</table>\n",
       "</div>"
      ],
      "text/plain": [
       "            counts\n",
       "count  1163.000000\n",
       "mean     57.490112\n",
       "std      54.353251\n",
       "min       4.000000\n",
       "25%      23.000000\n",
       "50%      41.000000\n",
       "75%      72.500000\n",
       "max     449.000000"
      ]
     },
     "execution_count": 73,
     "metadata": {},
     "output_type": "execute_result"
    }
   ],
   "source": [
    "lengths.describe()"
   ]
  },
  {
   "cell_type": "code",
   "execution_count": 74,
   "metadata": {
    "collapsed": true
   },
   "outputs": [],
   "source": [
    "# Limit the length of a day's news to 200 words, and the length of any headline to 16 words.\n",
    "# These values are chosen to not have an excessively long training time and \n",
    "# balance the number of headlines used and the number of words from each headline.\n",
    "max_headline_length = 16\n",
    "max_daily_length = 200\n",
    "pad_headlines = []\n",
    "\n",
    "for date in int_headlines:\n",
    "    pad_daily_headlines = []\n",
    "    for headline in date:\n",
    "        # Add headline if it is less than max length\n",
    "        if len(headline) <= max_headline_length:\n",
    "            for word in headline:\n",
    "                pad_daily_headlines.append(word)\n",
    "        # Limit headline if it is more than max length  \n",
    "        else:\n",
    "            headline = headline[:max_headline_length]\n",
    "            for word in headline:\n",
    "                pad_daily_headlines.append(word)\n",
    "    \n",
    "    # Pad daily_headlines if they are less than max length\n",
    "    if len(pad_daily_headlines) < max_daily_length:\n",
    "        for i in range(max_daily_length-len(pad_daily_headlines)):\n",
    "            pad = vocab_to_int[\"<PAD>\"]\n",
    "            pad_daily_headlines.append(pad)\n",
    "    # Limit daily_headlines if they are more than max length\n",
    "    else:\n",
    "        pad_daily_headlines = pad_daily_headlines[:max_daily_length]\n",
    "    pad_headlines.append(pad_daily_headlines)"
   ]
  },
  {
   "cell_type": "code",
   "execution_count": 89,
   "metadata": {
    "collapsed": true
   },
   "outputs": [],
   "source": [
    "df = pd.DataFrame({'Date':DateNew,'Close':close,'Adj_Close':adj,'News':headlines})"
   ]
  },
  {
   "cell_type": "code",
   "execution_count": 90,
   "metadata": {},
   "outputs": [
    {
     "data": {
      "text/html": [
       "<div>\n",
       "<style scoped>\n",
       "    .dataframe tbody tr th:only-of-type {\n",
       "        vertical-align: middle;\n",
       "    }\n",
       "\n",
       "    .dataframe tbody tr th {\n",
       "        vertical-align: top;\n",
       "    }\n",
       "\n",
       "    .dataframe thead th {\n",
       "        text-align: right;\n",
       "    }\n",
       "</style>\n",
       "<table border=\"1\" class=\"dataframe\">\n",
       "  <thead>\n",
       "    <tr style=\"text-align: right;\">\n",
       "      <th></th>\n",
       "      <th>Adj_Close</th>\n",
       "      <th>Close</th>\n",
       "      <th>Date</th>\n",
       "      <th>News</th>\n",
       "    </tr>\n",
       "  </thead>\n",
       "  <tbody>\n",
       "    <tr>\n",
       "      <th>0</th>\n",
       "      <td>459.736267</td>\n",
       "      <td>529.125000</td>\n",
       "      <td>[2011-01-03 00:00:00]</td>\n",
       "      <td>[Speaking at FICCI's 83rd Annual General Meeti...</td>\n",
       "    </tr>\n",
       "    <tr>\n",
       "      <th>1</th>\n",
       "      <td>467.686401</td>\n",
       "      <td>538.275024</td>\n",
       "      <td>[2011-01-04 00:00:00]</td>\n",
       "      <td>[I won’t be too enthused on the stock beyond R...</td>\n",
       "    </tr>\n",
       "    <tr>\n",
       "      <th>2</th>\n",
       "      <td>467.686401</td>\n",
       "      <td>538.275024</td>\n",
       "      <td>[]</td>\n",
       "      <td>[]</td>\n",
       "    </tr>\n",
       "    <tr>\n",
       "      <th>3</th>\n",
       "      <td>470.922852</td>\n",
       "      <td>542.000000</td>\n",
       "      <td>[2011-01-06 00:00:00]</td>\n",
       "      <td>[Faced with a gas crunch at its petrochemical ...</td>\n",
       "    </tr>\n",
       "    <tr>\n",
       "      <th>4</th>\n",
       "      <td>462.625244</td>\n",
       "      <td>532.450012</td>\n",
       "      <td>[2011-01-07 00:00:00]</td>\n",
       "      <td>[It has been a series of positive days for the...</td>\n",
       "    </tr>\n",
       "  </tbody>\n",
       "</table>\n",
       "</div>"
      ],
      "text/plain": [
       "    Adj_Close       Close                   Date  \\\n",
       "0  459.736267  529.125000  [2011-01-03 00:00:00]   \n",
       "1  467.686401  538.275024  [2011-01-04 00:00:00]   \n",
       "2  467.686401  538.275024                     []   \n",
       "3  470.922852  542.000000  [2011-01-06 00:00:00]   \n",
       "4  462.625244  532.450012  [2011-01-07 00:00:00]   \n",
       "\n",
       "                                                News  \n",
       "0  [Speaking at FICCI's 83rd Annual General Meeti...  \n",
       "1  [I won’t be too enthused on the stock beyond R...  \n",
       "2                                                 []  \n",
       "3  [Faced with a gas crunch at its petrochemical ...  \n",
       "4  [It has been a series of positive days for the...  "
      ]
     },
     "execution_count": 90,
     "metadata": {},
     "output_type": "execute_result"
    }
   ],
   "source": [
    "df.head()"
   ]
  },
  {
   "cell_type": "code",
   "execution_count": 77,
   "metadata": {
    "collapsed": true
   },
   "outputs": [],
   "source": [
    "# Remove top row since it has a null value.\n",
    "df = df[df.Date.notnull()]\n",
    "df=df[df.Close.notnull()]\n",
    "df=df[df.Adj_Close.notnull()]"
   ]
  },
  {
   "cell_type": "code",
   "execution_count": 78,
   "metadata": {},
   "outputs": [
    {
     "data": {
      "text/plain": [
       "Adj_Close    0\n",
       "Close        0\n",
       "Date         0\n",
       "News         0\n",
       "dtype: int64"
      ]
     },
     "execution_count": 78,
     "metadata": {},
     "output_type": "execute_result"
    }
   ],
   "source": [
    "df.isnull().sum()"
   ]
  },
  {
   "cell_type": "code",
   "execution_count": 91,
   "metadata": {
    "collapsed": true
   },
   "outputs": [],
   "source": [
    "df=df[df.astype(str)['Date'] != '[]']"
   ]
  },
  {
   "cell_type": "code",
   "execution_count": 92,
   "metadata": {},
   "outputs": [
    {
     "data": {
      "text/html": [
       "<div>\n",
       "<style scoped>\n",
       "    .dataframe tbody tr th:only-of-type {\n",
       "        vertical-align: middle;\n",
       "    }\n",
       "\n",
       "    .dataframe tbody tr th {\n",
       "        vertical-align: top;\n",
       "    }\n",
       "\n",
       "    .dataframe thead th {\n",
       "        text-align: right;\n",
       "    }\n",
       "</style>\n",
       "<table border=\"1\" class=\"dataframe\">\n",
       "  <thead>\n",
       "    <tr style=\"text-align: right;\">\n",
       "      <th></th>\n",
       "      <th>Adj_Close</th>\n",
       "      <th>Close</th>\n",
       "      <th>Date</th>\n",
       "      <th>News</th>\n",
       "    </tr>\n",
       "  </thead>\n",
       "  <tbody>\n",
       "    <tr>\n",
       "      <th>0</th>\n",
       "      <td>459.736267</td>\n",
       "      <td>529.125000</td>\n",
       "      <td>[2011-01-03 00:00:00]</td>\n",
       "      <td>[Speaking at FICCI's 83rd Annual General Meeti...</td>\n",
       "    </tr>\n",
       "    <tr>\n",
       "      <th>1</th>\n",
       "      <td>467.686401</td>\n",
       "      <td>538.275024</td>\n",
       "      <td>[2011-01-04 00:00:00]</td>\n",
       "      <td>[I won’t be too enthused on the stock beyond R...</td>\n",
       "    </tr>\n",
       "    <tr>\n",
       "      <th>3</th>\n",
       "      <td>470.922852</td>\n",
       "      <td>542.000000</td>\n",
       "      <td>[2011-01-06 00:00:00]</td>\n",
       "      <td>[Faced with a gas crunch at its petrochemical ...</td>\n",
       "    </tr>\n",
       "    <tr>\n",
       "      <th>4</th>\n",
       "      <td>462.625244</td>\n",
       "      <td>532.450012</td>\n",
       "      <td>[2011-01-07 00:00:00]</td>\n",
       "      <td>[It has been a series of positive days for the...</td>\n",
       "    </tr>\n",
       "    <tr>\n",
       "      <th>8</th>\n",
       "      <td>441.055725</td>\n",
       "      <td>507.625000</td>\n",
       "      <td>[2011-01-13 00:00:00]</td>\n",
       "      <td>[Buy Reliance Industries on dips, says Ambaree...</td>\n",
       "    </tr>\n",
       "  </tbody>\n",
       "</table>\n",
       "</div>"
      ],
      "text/plain": [
       "    Adj_Close       Close                   Date  \\\n",
       "0  459.736267  529.125000  [2011-01-03 00:00:00]   \n",
       "1  467.686401  538.275024  [2011-01-04 00:00:00]   \n",
       "3  470.922852  542.000000  [2011-01-06 00:00:00]   \n",
       "4  462.625244  532.450012  [2011-01-07 00:00:00]   \n",
       "8  441.055725  507.625000  [2011-01-13 00:00:00]   \n",
       "\n",
       "                                                News  \n",
       "0  [Speaking at FICCI's 83rd Annual General Meeti...  \n",
       "1  [I won’t be too enthused on the stock beyond R...  \n",
       "3  [Faced with a gas crunch at its petrochemical ...  \n",
       "4  [It has been a series of positive days for the...  \n",
       "8  [Buy Reliance Industries on dips, says Ambaree...  "
      ]
     },
     "execution_count": 92,
     "metadata": {},
     "output_type": "execute_result"
    }
   ],
   "source": [
    "df.head()"
   ]
  },
  {
   "cell_type": "code",
   "execution_count": 93,
   "metadata": {
    "collapsed": true
   },
   "outputs": [],
   "source": [
    "df=df[['Date','Close','Adj_Close','News']]"
   ]
  },
  {
   "cell_type": "code",
   "execution_count": 80,
   "metadata": {},
   "outputs": [
    {
     "data": {
      "text/html": [
       "<div>\n",
       "<style scoped>\n",
       "    .dataframe tbody tr th:only-of-type {\n",
       "        vertical-align: middle;\n",
       "    }\n",
       "\n",
       "    .dataframe tbody tr th {\n",
       "        vertical-align: top;\n",
       "    }\n",
       "\n",
       "    .dataframe thead th {\n",
       "        text-align: right;\n",
       "    }\n",
       "</style>\n",
       "<table border=\"1\" class=\"dataframe\">\n",
       "  <thead>\n",
       "    <tr style=\"text-align: right;\">\n",
       "      <th></th>\n",
       "      <th>Date</th>\n",
       "      <th>Close</th>\n",
       "      <th>Adj_Close</th>\n",
       "      <th>News</th>\n",
       "    </tr>\n",
       "  </thead>\n",
       "  <tbody>\n",
       "    <tr>\n",
       "      <th>0</th>\n",
       "      <td>[2011-01-03 00:00:00]</td>\n",
       "      <td>529.125000</td>\n",
       "      <td>459.736267</td>\n",
       "      <td>[Speaking at FICCI's 83rd Annual General Meeti...</td>\n",
       "    </tr>\n",
       "    <tr>\n",
       "      <th>1</th>\n",
       "      <td>[2011-01-04 00:00:00]</td>\n",
       "      <td>538.275024</td>\n",
       "      <td>467.686401</td>\n",
       "      <td>[I won’t be too enthused on the stock beyond R...</td>\n",
       "    </tr>\n",
       "    <tr>\n",
       "      <th>2</th>\n",
       "      <td>[]</td>\n",
       "      <td>538.275024</td>\n",
       "      <td>467.686401</td>\n",
       "      <td>[]</td>\n",
       "    </tr>\n",
       "    <tr>\n",
       "      <th>3</th>\n",
       "      <td>[2011-01-06 00:00:00]</td>\n",
       "      <td>542.000000</td>\n",
       "      <td>470.922852</td>\n",
       "      <td>[Faced with a gas crunch at its petrochemical ...</td>\n",
       "    </tr>\n",
       "    <tr>\n",
       "      <th>4</th>\n",
       "      <td>[2011-01-07 00:00:00]</td>\n",
       "      <td>532.450012</td>\n",
       "      <td>462.625244</td>\n",
       "      <td>[It has been a series of positive days for the...</td>\n",
       "    </tr>\n",
       "  </tbody>\n",
       "</table>\n",
       "</div>"
      ],
      "text/plain": [
       "                    Date       Close   Adj_Close  \\\n",
       "0  [2011-01-03 00:00:00]  529.125000  459.736267   \n",
       "1  [2011-01-04 00:00:00]  538.275024  467.686401   \n",
       "2                     []  538.275024  467.686401   \n",
       "3  [2011-01-06 00:00:00]  542.000000  470.922852   \n",
       "4  [2011-01-07 00:00:00]  532.450012  462.625244   \n",
       "\n",
       "                                                News  \n",
       "0  [Speaking at FICCI's 83rd Annual General Meeti...  \n",
       "1  [I won’t be too enthused on the stock beyond R...  \n",
       "2                                                 []  \n",
       "3  [Faced with a gas crunch at its petrochemical ...  \n",
       "4  [It has been a series of positive days for the...  "
      ]
     },
     "execution_count": 80,
     "metadata": {},
     "output_type": "execute_result"
    }
   ],
   "source": [
    "df = df.reset_index(drop=True)\n",
    "df.head()"
   ]
  },
  {
   "cell_type": "code",
   "execution_count": 81,
   "metadata": {},
   "outputs": [
    {
     "data": {
      "text/plain": [
       "[\"It has been a series of positive days for the markets, until the closing on the last day of the week. However, it is not the time to reach the panic button yet, says CNBC-TV18’s Udayan Mukherjee.The Central Bureau of Investigation (CBI) searched the house of a former upstream regulator on Friday, the first investigative action after the CAG said in a report there may have been inflated costs for some of Reliance Industries' exploration activities.Reliance Industries touched an intraday high of Rs 906 and an intraday low of Rs 875.60. At 12:37 hrs the share was quoting at Rs 876.90, down Rs 20.70, or 2.31%.\"]"
      ]
     },
     "execution_count": 81,
     "metadata": {},
     "output_type": "execute_result"
    }
   ],
   "source": [
    "df.News[4]"
   ]
  },
  {
   "cell_type": "code",
   "execution_count": 94,
   "metadata": {
    "collapsed": true
   },
   "outputs": [],
   "source": [
    "df['News']=df['News'].apply(lambda x: ', '.join(x))"
   ]
  },
  {
   "cell_type": "code",
   "execution_count": 95,
   "metadata": {
    "collapsed": true
   },
   "outputs": [],
   "source": [
    "df['Date']=pd.to_datetime(df.Date.apply(lambda x: x[0]))"
   ]
  },
  {
   "cell_type": "code",
   "execution_count": 96,
   "metadata": {},
   "outputs": [
    {
     "data": {
      "text/html": [
       "<div>\n",
       "<style scoped>\n",
       "    .dataframe tbody tr th:only-of-type {\n",
       "        vertical-align: middle;\n",
       "    }\n",
       "\n",
       "    .dataframe tbody tr th {\n",
       "        vertical-align: top;\n",
       "    }\n",
       "\n",
       "    .dataframe thead th {\n",
       "        text-align: right;\n",
       "    }\n",
       "</style>\n",
       "<table border=\"1\" class=\"dataframe\">\n",
       "  <thead>\n",
       "    <tr style=\"text-align: right;\">\n",
       "      <th></th>\n",
       "      <th>Date</th>\n",
       "      <th>Close</th>\n",
       "      <th>Adj_Close</th>\n",
       "      <th>News</th>\n",
       "    </tr>\n",
       "  </thead>\n",
       "  <tbody>\n",
       "    <tr>\n",
       "      <th>0</th>\n",
       "      <td>2011-01-03</td>\n",
       "      <td>529.125000</td>\n",
       "      <td>459.736267</td>\n",
       "      <td>Speaking at FICCI's 83rd Annual General Meetin...</td>\n",
       "    </tr>\n",
       "    <tr>\n",
       "      <th>1</th>\n",
       "      <td>2011-01-04</td>\n",
       "      <td>538.275024</td>\n",
       "      <td>467.686401</td>\n",
       "      <td>I won’t be too enthused on the stock beyond Rs...</td>\n",
       "    </tr>\n",
       "    <tr>\n",
       "      <th>3</th>\n",
       "      <td>2011-01-06</td>\n",
       "      <td>542.000000</td>\n",
       "      <td>470.922852</td>\n",
       "      <td>Faced with a gas crunch at its petrochemical p...</td>\n",
       "    </tr>\n",
       "    <tr>\n",
       "      <th>4</th>\n",
       "      <td>2011-01-07</td>\n",
       "      <td>532.450012</td>\n",
       "      <td>462.625244</td>\n",
       "      <td>It has been a series of positive days for the ...</td>\n",
       "    </tr>\n",
       "    <tr>\n",
       "      <th>8</th>\n",
       "      <td>2011-01-13</td>\n",
       "      <td>507.625000</td>\n",
       "      <td>441.055725</td>\n",
       "      <td>Buy Reliance Industries on dips, says Ambarees...</td>\n",
       "    </tr>\n",
       "  </tbody>\n",
       "</table>\n",
       "</div>"
      ],
      "text/plain": [
       "        Date       Close   Adj_Close  \\\n",
       "0 2011-01-03  529.125000  459.736267   \n",
       "1 2011-01-04  538.275024  467.686401   \n",
       "3 2011-01-06  542.000000  470.922852   \n",
       "4 2011-01-07  532.450012  462.625244   \n",
       "8 2011-01-13  507.625000  441.055725   \n",
       "\n",
       "                                                News  \n",
       "0  Speaking at FICCI's 83rd Annual General Meetin...  \n",
       "1  I won’t be too enthused on the stock beyond Rs...  \n",
       "3  Faced with a gas crunch at its petrochemical p...  \n",
       "4  It has been a series of positive days for the ...  \n",
       "8  Buy Reliance Industries on dips, says Ambarees...  "
      ]
     },
     "execution_count": 96,
     "metadata": {},
     "output_type": "execute_result"
    }
   ],
   "source": [
    "df.head()"
   ]
  },
  {
   "cell_type": "code",
   "execution_count": 97,
   "metadata": {
    "collapsed": true
   },
   "outputs": [],
   "source": [
    "df3=df.set_index('Date')"
   ]
  },
  {
   "cell_type": "code",
   "execution_count": 98,
   "metadata": {},
   "outputs": [
    {
     "data": {
      "text/html": [
       "<div>\n",
       "<style scoped>\n",
       "    .dataframe tbody tr th:only-of-type {\n",
       "        vertical-align: middle;\n",
       "    }\n",
       "\n",
       "    .dataframe tbody tr th {\n",
       "        vertical-align: top;\n",
       "    }\n",
       "\n",
       "    .dataframe thead th {\n",
       "        text-align: right;\n",
       "    }\n",
       "</style>\n",
       "<table border=\"1\" class=\"dataframe\">\n",
       "  <thead>\n",
       "    <tr style=\"text-align: right;\">\n",
       "      <th></th>\n",
       "      <th>Close</th>\n",
       "      <th>Adj_Close</th>\n",
       "      <th>News</th>\n",
       "    </tr>\n",
       "    <tr>\n",
       "      <th>Date</th>\n",
       "      <th></th>\n",
       "      <th></th>\n",
       "      <th></th>\n",
       "    </tr>\n",
       "  </thead>\n",
       "  <tbody>\n",
       "    <tr>\n",
       "      <th>2011-01-03</th>\n",
       "      <td>529.125000</td>\n",
       "      <td>459.736267</td>\n",
       "      <td>Speaking at FICCI's 83rd Annual General Meetin...</td>\n",
       "    </tr>\n",
       "    <tr>\n",
       "      <th>2011-01-04</th>\n",
       "      <td>538.275024</td>\n",
       "      <td>467.686401</td>\n",
       "      <td>I won’t be too enthused on the stock beyond Rs...</td>\n",
       "    </tr>\n",
       "    <tr>\n",
       "      <th>2011-01-06</th>\n",
       "      <td>542.000000</td>\n",
       "      <td>470.922852</td>\n",
       "      <td>Faced with a gas crunch at its petrochemical p...</td>\n",
       "    </tr>\n",
       "    <tr>\n",
       "      <th>2011-01-07</th>\n",
       "      <td>532.450012</td>\n",
       "      <td>462.625244</td>\n",
       "      <td>It has been a series of positive days for the ...</td>\n",
       "    </tr>\n",
       "    <tr>\n",
       "      <th>2011-01-13</th>\n",
       "      <td>507.625000</td>\n",
       "      <td>441.055725</td>\n",
       "      <td>Buy Reliance Industries on dips, says Ambarees...</td>\n",
       "    </tr>\n",
       "  </tbody>\n",
       "</table>\n",
       "</div>"
      ],
      "text/plain": [
       "                 Close   Adj_Close  \\\n",
       "Date                                 \n",
       "2011-01-03  529.125000  459.736267   \n",
       "2011-01-04  538.275024  467.686401   \n",
       "2011-01-06  542.000000  470.922852   \n",
       "2011-01-07  532.450012  462.625244   \n",
       "2011-01-13  507.625000  441.055725   \n",
       "\n",
       "                                                         News  \n",
       "Date                                                           \n",
       "2011-01-03  Speaking at FICCI's 83rd Annual General Meetin...  \n",
       "2011-01-04  I won’t be too enthused on the stock beyond Rs...  \n",
       "2011-01-06  Faced with a gas crunch at its petrochemical p...  \n",
       "2011-01-07  It has been a series of positive days for the ...  \n",
       "2011-01-13  Buy Reliance Industries on dips, says Ambarees...  "
      ]
     },
     "execution_count": 98,
     "metadata": {},
     "output_type": "execute_result"
    }
   ],
   "source": [
    "df3.head()"
   ]
  },
  {
   "cell_type": "code",
   "execution_count": 102,
   "metadata": {
    "collapsed": true
   },
   "outputs": [],
   "source": [
    "# Saving the data as pickle file\n",
    "df3.to_pickle('Upickled_ten_year_filtered_data.pkl')  "
   ]
  },
  {
   "cell_type": "code",
   "execution_count": 103,
   "metadata": {
    "collapsed": true
   },
   "outputs": [],
   "source": [
    "# Save pandas frame in csv form\n",
    "df3.to_csv('sample_interpolated_df_10_years_filtered_data.csv',\n",
    "                       sep='\\t', encoding='utf-8')"
   ]
  },
  {
   "cell_type": "code",
   "execution_count": 104,
   "metadata": {
    "collapsed": true
   },
   "outputs": [],
   "source": [
    "# Reading the data as pickle file\n",
    "dataframe_read = pd.read_pickle('Upickled_ten_year_filtered_data.pkl')"
   ]
  },
  {
   "cell_type": "code",
   "execution_count": null,
   "metadata": {
    "collapsed": true
   },
   "outputs": [],
   "source": []
  },
  {
   "cell_type": "code",
   "execution_count": null,
   "metadata": {
    "collapsed": true
   },
   "outputs": [],
   "source": []
  },
  {
   "cell_type": "code",
   "execution_count": null,
   "metadata": {
    "collapsed": true
   },
   "outputs": [],
   "source": []
  },
  {
   "cell_type": "code",
   "execution_count": null,
   "metadata": {
    "collapsed": true
   },
   "outputs": [],
   "source": []
  },
  {
   "cell_type": "code",
   "execution_count": null,
   "metadata": {
    "collapsed": true
   },
   "outputs": [],
   "source": []
  },
  {
   "cell_type": "code",
   "execution_count": 78,
   "metadata": {
    "collapsed": true
   },
   "outputs": [],
   "source": [
    "# Normalize opening prices (target values)\n",
    "max_price = max(price)\n",
    "min_price = min(price)\n",
    "mean_price = np.mean(price)\n",
    "def normalize(price):\n",
    "    return ((price-min_price)/(max_price-min_price))"
   ]
  },
  {
   "cell_type": "code",
   "execution_count": 79,
   "metadata": {
    "collapsed": true
   },
   "outputs": [],
   "source": [
    "norm_price = []\n",
    "for p in price:\n",
    "    norm_price.append(normalize(p))"
   ]
  },
  {
   "cell_type": "code",
   "execution_count": 80,
   "metadata": {},
   "outputs": [
    {
     "name": "stdout",
     "output_type": "stream",
     "text": [
      "0.0\n",
      "1.0\n",
      "0.507162837416\n"
     ]
    }
   ],
   "source": [
    "# Check that normalization worked well\n",
    "print(min(norm_price))\n",
    "print(max(norm_price))\n",
    "print(np.mean(norm_price))"
   ]
  },
  {
   "cell_type": "code",
   "execution_count": 81,
   "metadata": {
    "collapsed": true
   },
   "outputs": [],
   "source": [
    "# Split data into training and testing sets.\n",
    "# Validating data will be created during training.\n",
    "x_train, x_test, y_train, y_test = train_test_split(pad_headlines, norm_price, test_size = 0.15, random_state = 2)\n",
    "\n",
    "x_train = np.array(x_train)\n",
    "x_test = np.array(x_test)\n",
    "y_train = np.array(y_train)\n",
    "y_test = np.array(y_test)"
   ]
  },
  {
   "cell_type": "code",
   "execution_count": 82,
   "metadata": {},
   "outputs": [
    {
     "name": "stdout",
     "output_type": "stream",
     "text": [
      "1416\n",
      "250\n"
     ]
    }
   ],
   "source": [
    "# Check the lengths\n",
    "print(len(x_train))\n",
    "print(len(x_test))"
   ]
  },
  {
   "cell_type": "code",
   "execution_count": 83,
   "metadata": {
    "collapsed": true
   },
   "outputs": [],
   "source": [
    "filter_length1 = 3\n",
    "filter_length2 = 5\n",
    "dropout = 0.5\n",
    "learning_rate = 0.001\n",
    "weights = initializers.TruncatedNormal(mean=0.0, stddev=0.1, seed=2)\n",
    "nb_filter = 16\n",
    "rnn_output_size = 128\n",
    "hidden_dims = 128\n",
    "wider = True\n",
    "deeper = True\n",
    "\n",
    "if wider == True:\n",
    "    nb_filter *= 2\n",
    "    rnn_output_size *= 2\n",
    "    hidden_dims *= 2\n",
    "\n",
    "\n",
    "def build_model():\n",
    "    \n",
    "    model1 = Sequential()\n",
    "    \n",
    "    model1.add(Embedding(nb_words, \n",
    "                         embedding_dim,\n",
    "                         weights=[word_embedding_matrix], \n",
    "                         input_length=max_daily_length))\n",
    "    model1.add(Dropout(dropout))\n",
    "    \n",
    "    model1.add(Convolution1D(filters = nb_filter, \n",
    "                             kernel_size = filter_length1, \n",
    "                             padding = 'same',\n",
    "                            activation = 'relu'))\n",
    "    model1.add(Dropout(dropout))\n",
    "    \n",
    "    if deeper == True:\n",
    "        model1.add(Convolution1D(filters = nb_filter, \n",
    "                                 kernel_size = filter_length1, \n",
    "                                 padding = 'same',\n",
    "                                activation = 'relu'))\n",
    "        model1.add(Dropout(dropout))\n",
    "    \n",
    "    model1.add(LSTM(rnn_output_size, \n",
    "                   activation=None,\n",
    "                   kernel_initializer=weights,\n",
    "                   dropout = dropout))\n",
    "    \n",
    "    ####\n",
    "\n",
    "    model2 = Sequential()\n",
    "    \n",
    "    model2.add(Embedding(nb_words, \n",
    "                         embedding_dim,\n",
    "                         weights=[word_embedding_matrix], \n",
    "                         input_length=max_daily_length))\n",
    "    model2.add(Dropout(dropout))\n",
    "    \n",
    "    \n",
    "    model2.add(Convolution1D(filters = nb_filter, \n",
    "                             kernel_size = filter_length2, \n",
    "                             padding = 'same',\n",
    "                             activation = 'relu'))\n",
    "    model2.add(Dropout(dropout))\n",
    "    \n",
    "    if deeper == True:\n",
    "        model2.add(Convolution1D(filters = nb_filter, \n",
    "                                 kernel_size = filter_length2, \n",
    "                                 padding = 'same',\n",
    "                                 activation = 'relu'))\n",
    "        model2.add(Dropout(dropout))\n",
    "    \n",
    "    model2.add(LSTM(rnn_output_size, \n",
    "                    activation=None,\n",
    "                    kernel_initializer=weights,\n",
    "                    dropout = dropout))\n",
    "    \n",
    "    ####\n",
    "\n",
    "    model = Sequential()\n",
    "\n",
    "    model.add(Merge([model1, model2], mode='concat'))\n",
    "    \n",
    "    model.add(Dense(hidden_dims, kernel_initializer=weights))\n",
    "    model.add(Dropout(dropout))\n",
    "    \n",
    "    if deeper == True:\n",
    "        model.add(Dense(hidden_dims//2, kernel_initializer=weights))\n",
    "        model.add(Dropout(dropout))\n",
    "\n",
    "    model.add(Dense(1, \n",
    "                    kernel_initializer = weights,\n",
    "                    name='output'))\n",
    "\n",
    "    model.compile(loss='mean_squared_error',\n",
    "                  optimizer=Adam(lr=learning_rate,clipvalue=1.0))\n",
    "    return model"
   ]
  },
  {
   "cell_type": "code",
   "execution_count": 84,
   "metadata": {},
   "outputs": [
    {
     "name": "stderr",
     "output_type": "stream",
     "text": [
      "C:\\ProgramData\\Anaconda3\\lib\\site-packages\\ipykernel_launcher.py:79: UserWarning: The `Merge` layer is deprecated and will be removed after 08/2017. Use instead layers from `keras.layers.merge`, e.g. `add`, `concatenate`, etc.\n"
     ]
    },
    {
     "name": "stdout",
     "output_type": "stream",
     "text": [
      "\n",
      "Current model: Deeper=False, Wider=True, LR=0.001, Dropout=0.3\n",
      "\n",
      "Train on 1203 samples, validate on 213 samples\n",
      "Epoch 1/100\n",
      "1203/1203 [==============================] - 94s - loss: nan - val_loss: nan"
     ]
    },
    {
     "name": "stderr",
     "output_type": "stream",
     "text": [
      "C:\\ProgramData\\Anaconda3\\lib\\site-packages\\keras\\callbacks.py:407: RuntimeWarning: invalid value encountered in less\n",
      "  if self.monitor_op(current, self.best):\n",
      "C:\\ProgramData\\Anaconda3\\lib\\site-packages\\keras\\callbacks.py:499: RuntimeWarning: invalid value encountered in less\n",
      "  if self.monitor_op(current - self.min_delta, self.best):\n",
      "C:\\ProgramData\\Anaconda3\\lib\\site-packages\\keras\\callbacks.py:859: RuntimeWarning: invalid value encountered in less\n",
      "  self.monitor_op = lambda a, b: np.less(a, b - self.epsilon)\n"
     ]
    },
    {
     "name": "stdout",
     "output_type": "stream",
     "text": [
      "\n",
      "Epoch 2/100\n",
      "1203/1203 [==============================] - 102s - loss: nan - val_loss: nan\n",
      "Epoch 3/100\n",
      "1203/1203 [==============================] - 114s - loss: nan - val_loss: nan\n",
      "Epoch 4/100\n",
      "1152/1203 [===========================>..] - ETA: 4s - loss: nan \n",
      "Epoch 00003: reducing learning rate to 0.00020000000949949026.\n",
      "1203/1203 [==============================] - 117s - loss: nan - val_loss: nan\n",
      "Epoch 5/100\n",
      "1203/1203 [==============================] - 117s - loss: nan - val_loss: nan\n",
      "Epoch 6/100\n",
      "1203/1203 [==============================] - 125s - loss: nan - val_loss: nan\n",
      "Epoch 00005: early stopping\n",
      "\n",
      "Current model: Deeper=False, Wider=True, LR=0.001, Dropout=0.5\n",
      "\n",
      "Train on 1203 samples, validate on 213 samples\n",
      "Epoch 1/100\n",
      "1203/1203 [==============================] - 125s - loss: nan - val_loss: nan\n",
      "Epoch 2/100\n",
      "1203/1203 [==============================] - 136s - loss: nan - val_loss: nan\n",
      "Epoch 3/100\n",
      "1203/1203 [==============================] - 137s - loss: nan - val_loss: nan\n",
      "Epoch 4/100\n",
      "1152/1203 [===========================>..] - ETA: 5s - loss: nan \n",
      "Epoch 00003: reducing learning rate to 0.00020000000949949026.\n",
      "1203/1203 [==============================] - 136s - loss: nan - val_loss: nan\n",
      "Epoch 5/100\n",
      "1203/1203 [==============================] - 133s - loss: nan - val_loss: nan\n",
      "Epoch 6/100\n",
      "1203/1203 [==============================] - 144s - loss: nan - val_loss: nan\n",
      "Epoch 00005: early stopping\n",
      "\n",
      "Current model: Deeper=False, Wider=False, LR=0.001, Dropout=0.3\n",
      "\n",
      "Train on 1203 samples, validate on 213 samples\n",
      "Epoch 1/100\n",
      "1203/1203 [==============================] - 143s - loss: 1.1405 - val_loss: 0.0128\n",
      "Epoch 2/100\n",
      "1203/1203 [==============================] - 136s - loss: 0.0656 - val_loss: 0.0339\n",
      "Epoch 3/100\n",
      "1203/1203 [==============================] - 136s - loss: 0.0253 - val_loss: 0.0348\n",
      "Epoch 4/100\n",
      "1203/1203 [==============================] - 138s - loss: 0.0146 - val_loss: 0.0189\n",
      "Epoch 5/100\n",
      "1152/1203 [===========================>..] - ETA: 5s - loss: 0.0119 \n",
      "Epoch 00004: reducing learning rate to 0.00020000000949949026.\n",
      "1203/1203 [==============================] - 138s - loss: 0.0117 - val_loss: 0.0133\n",
      "Epoch 6/100\n",
      "1203/1203 [==============================] - 142s - loss: 0.0093 - val_loss: 0.0127\n",
      "Epoch 7/100\n",
      "1203/1203 [==============================] - 142s - loss: 0.0093 - val_loss: 0.0118\n",
      "Epoch 8/100\n",
      "1203/1203 [==============================] - 144s - loss: 0.0092 - val_loss: 0.0112\n",
      "Epoch 9/100\n",
      "1203/1203 [==============================] - 149s - loss: 0.0090 - val_loss: 0.0106\n",
      "Epoch 10/100\n",
      "1203/1203 [==============================] - 156s - loss: 0.0085 - val_loss: 0.0099\n",
      "Epoch 11/100\n",
      "1203/1203 [==============================] - 158s - loss: 0.0080 - val_loss: 0.0094\n",
      "Epoch 12/100\n",
      "1203/1203 [==============================] - 180s - loss: 0.0084 - val_loss: 0.0093\n",
      "Epoch 13/100\n",
      "1203/1203 [==============================] - 190s - loss: 0.0081 - val_loss: 0.0090\n",
      "Epoch 14/100\n",
      "1203/1203 [==============================] - 191s - loss: 0.0083 - val_loss: 0.0089\n",
      "Epoch 15/100\n",
      "1203/1203 [==============================] - 165s - loss: 0.0082 - val_loss: 0.0087\n",
      "Epoch 16/100\n",
      "1203/1203 [==============================] - 155s - loss: 0.0080 - val_loss: 0.0084\n",
      "Epoch 17/100\n",
      "1203/1203 [==============================] - 146s - loss: 0.0085 - val_loss: 0.0082\n",
      "Epoch 18/100\n",
      "1203/1203 [==============================] - 148s - loss: 0.0080 - val_loss: 0.0081\n",
      "Epoch 19/100\n",
      "1203/1203 [==============================] - 149s - loss: 0.0080 - val_loss: 0.0080\n",
      "Epoch 20/100\n",
      "1203/1203 [==============================] - 144s - loss: 0.0079 - val_loss: 0.0080\n",
      "Epoch 21/100\n",
      "1203/1203 [==============================] - 147s - loss: 0.0077 - val_loss: 0.0078\n",
      "Epoch 22/100\n",
      "1203/1203 [==============================] - 147s - loss: 0.0074 - val_loss: 0.0078\n",
      "Epoch 23/100\n",
      "1203/1203 [==============================] - 145s - loss: 0.0077 - val_loss: 0.0078\n",
      "Epoch 24/100\n",
      "1203/1203 [==============================] - 145s - loss: 0.0079 - val_loss: 0.0077\n",
      "Epoch 25/100\n",
      "1203/1203 [==============================] - 149s - loss: 0.0077 - val_loss: 0.0076\n",
      "Epoch 26/100\n",
      "1203/1203 [==============================] - 147s - loss: 0.0077 - val_loss: 0.0076\n",
      "Epoch 27/100\n",
      "1203/1203 [==============================] - 145s - loss: 0.0076 - val_loss: 0.0075\n",
      "Epoch 28/100\n",
      "1203/1203 [==============================] - 144s - loss: 0.0074 - val_loss: 0.0074\n",
      "Epoch 29/100\n",
      "1203/1203 [==============================] - 720s - loss: 0.0077 - val_loss: 0.0075\n",
      "Epoch 30/100\n",
      "1203/1203 [==============================] - 145s - loss: 0.0074 - val_loss: 0.0075\n",
      "Epoch 31/100\n",
      "1203/1203 [==============================] - 149s - loss: 0.0078 - val_loss: 0.0075\n",
      "Epoch 32/100\n",
      "1152/1203 [===========================>..] - ETA: 6s - loss: 0.0076 \n",
      "Epoch 00031: reducing learning rate to 4.0000001899898055e-05.\n",
      "1203/1203 [==============================] - 148s - loss: 0.0075 - val_loss: 0.0075\n",
      "Epoch 33/100\n",
      "1203/1203 [==============================] - 157s - loss: 0.0075 - val_loss: 0.0074\n",
      "Epoch 34/100\n",
      "1203/1203 [==============================] - 154s - loss: 0.0072 - val_loss: 0.0074\n",
      "Epoch 35/100\n",
      "1152/1203 [===========================>..] - ETA: 6s - loss: 0.0073 \n",
      "Epoch 00034: reducing learning rate to 8.000000525498762e-06.\n",
      "1203/1203 [==============================] - 151s - loss: 0.0072 - val_loss: 0.0074\n",
      "Epoch 36/100\n",
      "1203/1203 [==============================] - 148s - loss: 0.0075 - val_loss: 0.0074\n",
      "Epoch 37/100\n",
      "1203/1203 [==============================] - 150s - loss: 0.0074 - val_loss: 0.0074\n",
      "Epoch 38/100\n",
      "1152/1203 [===========================>..] - ETA: 6s - loss: 0.0077 \n",
      "Epoch 00037: reducing learning rate to 1.6000001778593287e-06.\n",
      "1203/1203 [==============================] - 151s - loss: 0.0077 - val_loss: 0.0074\n",
      "Epoch 39/100\n",
      "1203/1203 [==============================] - 149s - loss: 0.0074 - val_loss: 0.0074\n",
      "Epoch 40/100\n",
      "1203/1203 [==============================] - 148s - loss: 0.0075 - val_loss: 0.0074\n",
      "Epoch 41/100\n",
      "1152/1203 [===========================>..] - ETA: 5s - loss: 0.0077 \n",
      "Epoch 00040: reducing learning rate to 3.200000264769187e-07.\n",
      "1203/1203 [==============================] - 146s - loss: 0.0076 - val_loss: 0.0074\n",
      "Epoch 42/100\n",
      "1203/1203 [==============================] - 148s - loss: 0.0075 - val_loss: 0.0074\n",
      "Epoch 43/100\n",
      "1203/1203 [==============================] - 150s - loss: 0.0073 - val_loss: 0.0074\n",
      "Epoch 44/100\n",
      "1152/1203 [===========================>..] - ETA: 6s - loss: 0.0075 \n",
      "Epoch 00043: reducing learning rate to 6.400000529538374e-08.\n",
      "1203/1203 [==============================] - 149s - loss: 0.0075 - val_loss: 0.0074\n",
      "Epoch 45/100\n",
      "1203/1203 [==============================] - 154s - loss: 0.0071 - val_loss: 0.0074\n",
      "Epoch 00044: early stopping\n",
      "\n",
      "Current model: Deeper=False, Wider=False, LR=0.001, Dropout=0.5\n",
      "\n",
      "Train on 1203 samples, validate on 213 samples\n",
      "Epoch 1/100\n",
      "1203/1203 [==============================] - 161s - loss: nan - val_loss: nan\n",
      "Epoch 2/100\n",
      "1203/1203 [==============================] - 152s - loss: nan - val_loss: nan\n",
      "Epoch 3/100\n",
      "1203/1203 [==============================] - 152s - loss: nan - val_loss: nan\n",
      "Epoch 4/100\n",
      "1152/1203 [===========================>..] - ETA: 6s - loss: nan \n",
      "Epoch 00003: reducing learning rate to 0.00020000000949949026.\n",
      "1203/1203 [==============================] - 152s - loss: nan - val_loss: nan\n",
      "Epoch 5/100\n",
      "1203/1203 [==============================] - 150s - loss: nan - val_loss: nan\n",
      "Epoch 6/100\n",
      "1203/1203 [==============================] - 155s - loss: nan - val_loss: nan\n",
      "Epoch 00005: early stopping\n"
     ]
    }
   ],
   "source": [
    "# Use grid search to help find a better model\n",
    "for deeper in [False]:\n",
    "    for wider in [True,False]:\n",
    "        for learning_rate in [0.001]:\n",
    "            for dropout in [0.3, 0.5]:\n",
    "                model = build_model()\n",
    "                print()\n",
    "                print(\"Current model: Deeper={}, Wider={}, LR={}, Dropout={}\".format(\n",
    "                    deeper,wider,learning_rate,dropout))\n",
    "                print()\n",
    "                save_best_weights = 'question_pairs_weights_deeper={}_wider={}_lr={}_dropout={}.h5'.format(\n",
    "                    deeper,wider,learning_rate,dropout)\n",
    "\n",
    "                callbacks = [ModelCheckpoint(save_best_weights, monitor='val_loss', save_best_only=True),\n",
    "                             EarlyStopping(monitor='val_loss', patience=5, verbose=1, mode='auto'),\n",
    "                             ReduceLROnPlateau(monitor='val_loss', factor=0.2, verbose=1, patience=3)]\n",
    "\n",
    "                history = model.fit([x_train,x_train],\n",
    "                                    y_train,\n",
    "                                    batch_size=128,\n",
    "                                    epochs=100,\n",
    "                                    validation_split=0.15,\n",
    "                                    verbose=True,\n",
    "                                    shuffle=True,\n",
    "                                    callbacks = callbacks)\n",
    "\n"
   ]
  },
  {
   "cell_type": "code",
   "execution_count": 87,
   "metadata": {},
   "outputs": [
    {
     "name": "stderr",
     "output_type": "stream",
     "text": [
      "C:\\ProgramData\\Anaconda3\\lib\\site-packages\\ipykernel_launcher.py:79: UserWarning: The `Merge` layer is deprecated and will be removed after 08/2017. Use instead layers from `keras.layers.merge`, e.g. `add`, `concatenate`, etc.\n"
     ]
    },
    {
     "name": "stdout",
     "output_type": "stream",
     "text": [
      "250/250 [==============================] - 8s     \n"
     ]
    }
   ],
   "source": [
    "# Make predictions with the best weights\n",
    "deeper=False\n",
    "wider=False\n",
    "dropout=0.3\n",
    "learning_Rate = 0.001\n",
    "# Need to rebuild model in case it is different from the model that was trained most recently.\n",
    "model = build_model()\n",
    "\n",
    "model.load_weights('./question_pairs_weights_deeper={}_wider={}_lr={}_dropout={}.h5'.format(\n",
    "                    deeper,wider,learning_rate,dropout))\n",
    "predictions = model.predict([x_test,x_test], verbose = True)"
   ]
  },
  {
   "cell_type": "code",
   "execution_count": 88,
   "metadata": {},
   "outputs": [
    {
     "data": {
      "text/plain": [
       "0.0052040026417438075"
      ]
     },
     "execution_count": 88,
     "metadata": {},
     "output_type": "execute_result"
    }
   ],
   "source": [
    "# Compare testing loss to training and validating loss\n",
    "mse(y_test, predictions)"
   ]
  },
  {
   "cell_type": "code",
   "execution_count": 89,
   "metadata": {
    "collapsed": true
   },
   "outputs": [],
   "source": [
    "def unnormalize(price):\n",
    "    '''Revert values to their unnormalized amounts'''\n",
    "    price = price*(max_price-min_price)+min_price\n",
    "    return(price)"
   ]
  },
  {
   "cell_type": "code",
   "execution_count": 90,
   "metadata": {
    "collapsed": true
   },
   "outputs": [],
   "source": [
    "unnorm_predictions = []\n",
    "for pred in predictions:\n",
    "    unnorm_predictions.append(unnormalize(pred))\n",
    "    \n",
    "unnorm_y_test = []\n",
    "for y in y_test:\n",
    "    unnorm_y_test.append(unnormalize(y))"
   ]
  },
  {
   "cell_type": "code",
   "execution_count": 91,
   "metadata": {},
   "outputs": [
    {
     "data": {
      "text/plain": [
       "7.0750120000000152"
      ]
     },
     "execution_count": 91,
     "metadata": {},
     "output_type": "execute_result"
    }
   ],
   "source": [
    "# Calculate the median absolute error for the predictions\n",
    "mae(unnorm_y_test, unnorm_predictions)"
   ]
  },
  {
   "cell_type": "code",
   "execution_count": 92,
   "metadata": {},
   "outputs": [
    {
     "name": "stdout",
     "output_type": "stream",
     "text": [
      "Summary of actual opening price changes\n",
      "                 \n",
      "count  250.000000\n",
      "mean     0.147098\n",
      "std     10.685219\n",
      "min    -31.149994\n",
      "25%     -6.731239\n",
      "50%      0.575027\n",
      "75%      7.281265\n",
      "max     36.649994\n",
      "\n",
      "Summary of predicted opening price changes\n",
      "                 \n",
      "count  250.000000\n",
      "mean    -2.084176\n",
      "std      0.000003\n",
      "min     -2.084183\n",
      "25%     -2.084175\n",
      "50%     -2.084175\n",
      "75%     -2.084175\n",
      "max     -2.084167\n"
     ]
    }
   ],
   "source": [
    "print(\"Summary of actual opening price changes\")\n",
    "print(pd.DataFrame(unnorm_y_test, columns=[\"\"]).describe())\n",
    "print()\n",
    "print(\"Summary of predicted opening price changes\")\n",
    "print(pd.DataFrame(unnorm_predictions, columns=[\"\"]).describe())"
   ]
  },
  {
   "cell_type": "code",
   "execution_count": 93,
   "metadata": {},
   "outputs": [
    {
     "data": {
      "image/png": "[encoded data removed]",
      "text/plain": [
       "<matplotlib.figure.Figure at 0x1fe054d49b0>"
      ]
     },
     "metadata": {},
     "output_type": "display_data"
    }
   ],
   "source": [
    "# Plot the predicted (blue) and actual (green) values\n",
    "plt.figure(figsize=(12,4))\n",
    "plt.plot(unnorm_predictions)\n",
    "plt.plot(unnorm_y_test)\n",
    "plt.title(\"Predicted (blue) vs Actual (green) Opening Price Changes\")\n",
    "plt.xlabel(\"Testing instances\")\n",
    "plt.ylabel(\"Change in Opening Price\")\n",
    "plt.show()"
   ]
  },
  {
   "cell_type": "code",
   "execution_count": 94,
   "metadata": {
    "collapsed": true
   },
   "outputs": [],
   "source": [
    "# Create lists to measure if opening price increased or decreased\n",
    "direction_pred = []\n",
    "for pred in unnorm_predictions:\n",
    "    if pred >= 0:\n",
    "        direction_pred.append(1)\n",
    "    else:\n",
    "        direction_pred.append(0)\n",
    "direction_test = []\n",
    "for value in unnorm_y_test:\n",
    "    if value >= 0:\n",
    "        direction_test.append(1)\n",
    "    else:\n",
    "        direction_test.append(0)"
   ]
  },
  {
   "cell_type": "code",
   "execution_count": 95,
   "metadata": {},
   "outputs": [
    {
     "name": "stdout",
     "output_type": "stream",
     "text": [
      "Predicted values matched the actual direction 46.0% of the time.\n"
     ]
    }
   ],
   "source": [
    "# Calculate if the predicted direction matched the actual direction\n",
    "direction = acc(direction_test, direction_pred)\n",
    "direction = round(direction,4)*100\n",
    "print(\"Predicted values matched the actual direction {}% of the time.\".format(direction))"
   ]
  },
  {
   "cell_type": "code",
   "execution_count": null,
   "metadata": {
    "collapsed": true
   },
   "outputs": [],
   "source": [
    "#Make Your Own Predictions\n"
   ]
  },
  {
   "cell_type": "code",
   "execution_count": 96,
   "metadata": {
    "collapsed": true
   },
   "outputs": [],
   "source": [
    "def news_to_int(news):\n",
    "    '''Convert your created news into integers'''\n",
    "    ints = []\n",
    "    for word in news.split():\n",
    "        if word in vocab_to_int:\n",
    "            ints.append(vocab_to_int[word])\n",
    "        else:\n",
    "            ints.append(vocab_to_int['<UNK>'])\n",
    "    return ints"
   ]
  },
  {
   "cell_type": "code",
   "execution_count": 97,
   "metadata": {
    "collapsed": true
   },
   "outputs": [],
   "source": [
    "def padding_news(news):\n",
    "    '''Adjusts the length of your created news to fit the model's input values.'''\n",
    "    padded_news = news\n",
    "    if len(padded_news) < max_daily_length:\n",
    "        for i in range(max_daily_length-len(padded_news)):\n",
    "            padded_news.append(vocab_to_int[\"<PAD>\"])\n",
    "    elif len(padded_news) > max_daily_length:\n",
    "        padded_news = padded_news[:max_daily_length]\n",
    "    return padded_news"
   ]
  },
  {
   "cell_type": "code",
   "execution_count": 99,
   "metadata": {},
   "outputs": [
    {
     "name": "stdout",
     "output_type": "stream",
     "text": [
      "The RIL should open: 647.260009765625 from the previous open.\n"
     ]
    }
   ],
   "source": [
    "# Default news that you can us\n",
    "create_news = \"It has been a series of positive days for the markets, until the closing on the last\\\n",
    "day of the week. However, it is not the time to reach the panic button yet, says CNBC-TV18’s Udayan \\\n",
    "Mukherjee.The Central Bureau of Investigation (CBI) searched the house of a former upstream regulato\\\n",
    "on Friday, the first investigative action after the CAG said in a report there may have been inflated\\\n",
    "costs for some of Reliance Industries' exploration activities.Reliance Industries touched an intraday\\\n",
    "high of Rs 906 and an intraday low of Rs 875.60. At 12:37 hrs the share was quoting at Rs 876.90, down \\\n",
    "    Rs 20.70, or 2.31%.\"\n",
    "           \n",
    "\n",
    "clean_news = clean_text(create_news)\n",
    "\n",
    "int_news = news_to_int(clean_news)\n",
    "\n",
    "pad_news = padding_news(int_news)\n",
    "\n",
    "pad_news = np.array(pad_news).reshape((1,-1))\n",
    "\n",
    "pred = model.predict([pad_news,pad_news])\n",
    "\n",
    "price_change = unnormalize(pred)\n",
    "print(\"The RIL should open: {} from the previous open.\".format(np.round(price_change[0][0],2)))"
   ]
  },
  {
   "cell_type": "code",
   "execution_count": null,
   "metadata": {
    "collapsed": true
   },
   "outputs": [],
   "source": []
  },
  {
   "cell_type": "code",
   "execution_count": null,
   "metadata": {
    "collapsed": true
   },
   "outputs": [],
   "source": []
  },
  {
   "cell_type": "code",
   "execution_count": null,
   "metadata": {
    "collapsed": true
   },
   "outputs": [],
   "source": []
  },
  {
   "cell_type": "code",
   "execution_count": null,
   "metadata": {
    "collapsed": true
   },
   "outputs": [],
   "source": []
  },
  {
   "cell_type": "code",
   "execution_count": null,
   "metadata": {
    "collapsed": true
   },
   "outputs": [],
   "source": []
  },
  {
   "cell_type": "code",
   "execution_count": null,
   "metadata": {
    "collapsed": true
   },
   "outputs": [],
   "source": []
  },
  {
   "cell_type": "code",
   "execution_count": null,
   "metadata": {
    "collapsed": true
   },
   "outputs": [],
   "source": []
  }
 ],
 "metadata": {
  "kernelspec": {
   "display_name": "Python 3",
   "language": "python",
   "name": "python3"
  },
  "language_info": {
   "codemirror_mode": {
    "name": "ipython",
    "version": 3
   },
   "file_extension": ".py",
   "mimetype": "text/x-python",
   "name": "python",
   "nbconvert_exporter": "python",
   "pygments_lexer": "ipython3",
   "version": "3.6.3"
  }
 },
 "nbformat": 4,
 "nbformat_minor": 2
}
