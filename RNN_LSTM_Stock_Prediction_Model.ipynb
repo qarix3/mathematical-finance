{
  "nbformat": 4,
  "nbformat_minor": 0,
  "metadata": {
    "colab": {
      "name": "RNN_LSTM_Stock Prediction Model_Final.ipynb",
      "provenance": []
    },
    "kernelspec": {
      "name": "python3",
      "display_name": "Python 3"
    }
  },
  "cells": [
    {
      "cell_type": "code",
      "metadata": {
        "id": "LLMRdhGs-P3p"
      },
      "source": [
        "#RNN_LSTM_Project On Google Stock Prices Trend for Data ranging from 1-01-2005 to 31-12-2020\n",
        "#Model Predicting the trend of Stock Price for January 2021"
      ],
      "execution_count": null,
      "outputs": []
    },
    {
      "cell_type": "code",
      "metadata": {
        "id": "t258i56g-aaY"
      },
      "source": [
        "#Part1- Data Prerecessing-"
      ],
      "execution_count": null,
      "outputs": []
    },
    {
      "cell_type": "code",
      "metadata": {
        "id": "6HUOxNdS-dGh"
      },
      "source": [
        "import pandas as pd\n",
        "import matplotlib.pyplot as plt\n",
        "import numpy as np"
      ],
      "execution_count": null,
      "outputs": []
    },
    {
      "cell_type": "code",
      "metadata": {
        "id": "a-FyNxFB-vNb"
      },
      "source": [
        "dataset_train=pd.read_csv('GOOG_Stock_Train.csv')\n",
        "training_set=dataset_train.iloc[:,1:2].values"
      ],
      "execution_count": null,
      "outputs": []
    },
    {
      "cell_type": "code",
      "metadata": {
        "id": "W4ZFErzE-xkE"
      },
      "source": [
        "from sklearn.preprocessing import MinMaxScaler\n",
        "sc=MinMaxScaler(feature_range=(0,1))\n",
        "training_set_scaled=sc.fit_transform(training_set)"
      ],
      "execution_count": null,
      "outputs": []
    },
    {
      "cell_type": "code",
      "metadata": {
        "id": "OEDnIUmC-zyv"
      },
      "source": [
        "X_train=list()\n",
        "y_train=list()\n",
        "for i in range (60 ,4027):\n",
        "    X_train.append(training_set_scaled[ i-60 :i ,0])\n",
        "    y_train.append(training_set_scaled[ i,0])\n",
        "X_train ,y_train =np.array(X_train) ,np.array(y_train)"
      ],
      "execution_count": null,
      "outputs": []
    },
    {
      "cell_type": "code",
      "metadata": {
        "id": "meoTLf7j-1_a"
      },
      "source": [
        "X_train=np.reshape(X_train ,(X_train.shape[0], X_train.shape[1] , 1))"
      ],
      "execution_count": null,
      "outputs": []
    },
    {
      "cell_type": "code",
      "metadata": {
        "id": "53eGZmxG-5Q8"
      },
      "source": [
        "#Part2 -Building THE LSTM MODEL with 6 LSTM layers"
      ],
      "execution_count": null,
      "outputs": []
    },
    {
      "cell_type": "code",
      "metadata": {
        "id": "roIYVd0Y-_cf"
      },
      "source": [
        "from keras.models import Sequential\n",
        "from keras.layers import Dense\n",
        "from keras.layers import LSTM\n",
        "from keras.layers import Dropout"
      ],
      "execution_count": null,
      "outputs": []
    },
    {
      "cell_type": "code",
      "metadata": {
        "id": "jAxEXjzq_CxC"
      },
      "source": [
        "regressor= Sequential()\n",
        "\n",
        "regressor.add(LSTM(units=70,return_sequences=True , input_shape=(X_train.shape[1],1)))\n",
        "regressor.add(Dropout(0.2))\n",
        "\n",
        "regressor.add(LSTM(units=70,return_sequences=True))\n",
        "regressor.add(Dropout(0.2))\n",
        "\n",
        "regressor.add(LSTM(units=70,return_sequences=True))\n",
        "regressor.add(Dropout(0.2))\n",
        "\n",
        "regressor.add(LSTM(units=70,return_sequences=True))\n",
        "regressor.add(Dropout(0.2))\n",
        "\n",
        "regressor.add(LSTM(units=70,return_sequences=True))\n",
        "regressor.add(Dropout(0.2))\n",
        "\n",
        "regressor.add(LSTM(units=70,return_sequences=False))\n",
        "regressor.add(Dropout(0.2))"
      ],
      "execution_count": null,
      "outputs": []
    },
    {
      "cell_type": "code",
      "metadata": {
        "colab": {
          "base_uri": "https://localhost:8080/"
        },
        "id": "Ujb5s1Ib_HPX",
        "outputId": "7a903792-5262-47f5-8779-88197a4af990"
      },
      "source": [
        "regressor.add(Dense(units=1))\n",
        "regressor.compile(optimizer='adam' ,loss='mean_squared_error')\n",
        "regressor.fit(X_train,y_train, batch_size=32 ,epochs=100)"
      ],
      "execution_count": null,
      "outputs": [
        {
          "output_type": "stream",
          "text": [
            "Epoch 1/100\n",
            "124/124 [==============================] - 36s 211ms/step - loss: 0.0180\n",
            "Epoch 2/100\n",
            "124/124 [==============================] - 26s 210ms/step - loss: 0.0020\n",
            "Epoch 3/100\n",
            "124/124 [==============================] - 27s 219ms/step - loss: 0.0020\n",
            "Epoch 4/100\n",
            "124/124 [==============================] - 28s 227ms/step - loss: 0.0016\n",
            "Epoch 5/100\n",
            "124/124 [==============================] - 29s 236ms/step - loss: 0.0013\n",
            "Epoch 6/100\n",
            "124/124 [==============================] - 27s 216ms/step - loss: 0.0014\n",
            "Epoch 7/100\n",
            "124/124 [==============================] - 26s 213ms/step - loss: 0.0014\n",
            "Epoch 8/100\n",
            "124/124 [==============================] - 29s 231ms/step - loss: 0.0013\n",
            "Epoch 9/100\n",
            "124/124 [==============================] - 28s 229ms/step - loss: 0.0012\n",
            "Epoch 10/100\n",
            "124/124 [==============================] - 29s 230ms/step - loss: 0.0010\n",
            "Epoch 11/100\n",
            "124/124 [==============================] - 27s 219ms/step - loss: 9.9502e-04\n",
            "Epoch 12/100\n",
            "124/124 [==============================] - 28s 224ms/step - loss: 8.6713e-04\n",
            "Epoch 13/100\n",
            "124/124 [==============================] - 27s 219ms/step - loss: 0.0011\n",
            "Epoch 14/100\n",
            "124/124 [==============================] - 26s 213ms/step - loss: 9.3958e-04\n",
            "Epoch 15/100\n",
            "124/124 [==============================] - 29s 235ms/step - loss: 9.3214e-04\n",
            "Epoch 16/100\n",
            "124/124 [==============================] - 30s 243ms/step - loss: 8.5769e-04\n",
            "Epoch 17/100\n",
            "124/124 [==============================] - 27s 219ms/step - loss: 9.6035e-04\n",
            "Epoch 18/100\n",
            "124/124 [==============================] - 27s 218ms/step - loss: 7.9037e-04\n",
            "Epoch 19/100\n",
            "124/124 [==============================] - 28s 226ms/step - loss: 0.0011\n",
            "Epoch 20/100\n",
            "124/124 [==============================] - 28s 223ms/step - loss: 7.2313e-04\n",
            "Epoch 21/100\n",
            "124/124 [==============================] - 28s 225ms/step - loss: 9.8828e-04\n",
            "Epoch 22/100\n",
            "124/124 [==============================] - 29s 234ms/step - loss: 7.7594e-04\n",
            "Epoch 23/100\n",
            "124/124 [==============================] - 27s 218ms/step - loss: 8.0238e-04\n",
            "Epoch 24/100\n",
            "124/124 [==============================] - 28s 225ms/step - loss: 7.3230e-04\n",
            "Epoch 25/100\n",
            "124/124 [==============================] - 30s 244ms/step - loss: 9.1732e-04\n",
            "Epoch 26/100\n",
            "124/124 [==============================] - 29s 234ms/step - loss: 7.8281e-04\n",
            "Epoch 27/100\n",
            "124/124 [==============================] - 28s 225ms/step - loss: 7.3796e-04\n",
            "Epoch 28/100\n",
            "124/124 [==============================] - 28s 226ms/step - loss: 7.3543e-04\n",
            "Epoch 29/100\n",
            "124/124 [==============================] - 27s 221ms/step - loss: 6.9037e-04\n",
            "Epoch 30/100\n",
            "124/124 [==============================] - 28s 224ms/step - loss: 7.1364e-04\n",
            "Epoch 31/100\n",
            "124/124 [==============================] - 28s 230ms/step - loss: 6.3522e-04\n",
            "Epoch 32/100\n",
            "124/124 [==============================] - 30s 241ms/step - loss: 7.5308e-04\n",
            "Epoch 33/100\n",
            "124/124 [==============================] - 31s 248ms/step - loss: 6.3522e-04\n",
            "Epoch 34/100\n",
            "124/124 [==============================] - 28s 226ms/step - loss: 6.7361e-04\n",
            "Epoch 35/100\n",
            "124/124 [==============================] - 29s 233ms/step - loss: 7.1086e-04\n",
            "Epoch 36/100\n",
            "124/124 [==============================] - 27s 220ms/step - loss: 6.5598e-04\n",
            "Epoch 37/100\n",
            "124/124 [==============================] - 27s 218ms/step - loss: 7.2377e-04\n",
            "Epoch 38/100\n",
            "124/124 [==============================] - 28s 227ms/step - loss: 6.0403e-04\n",
            "Epoch 39/100\n",
            "124/124 [==============================] - 27s 218ms/step - loss: 5.5059e-04\n",
            "Epoch 40/100\n",
            "124/124 [==============================] - 28s 226ms/step - loss: 5.9544e-04\n",
            "Epoch 41/100\n",
            "124/124 [==============================] - 29s 234ms/step - loss: 5.6530e-04\n",
            "Epoch 42/100\n",
            "124/124 [==============================] - 30s 239ms/step - loss: 5.2283e-04\n",
            "Epoch 43/100\n",
            "124/124 [==============================] - 28s 225ms/step - loss: 5.8785e-04\n",
            "Epoch 44/100\n",
            "124/124 [==============================] - 28s 229ms/step - loss: 6.9128e-04\n",
            "Epoch 45/100\n",
            "124/124 [==============================] - 27s 220ms/step - loss: 6.0717e-04\n",
            "Epoch 46/100\n",
            "124/124 [==============================] - 27s 216ms/step - loss: 5.2014e-04\n",
            "Epoch 47/100\n",
            "124/124 [==============================] - 30s 245ms/step - loss: 5.4633e-04\n",
            "Epoch 48/100\n",
            "124/124 [==============================] - 28s 223ms/step - loss: 6.2330e-04\n",
            "Epoch 49/100\n",
            "124/124 [==============================] - 31s 254ms/step - loss: 7.2281e-04\n",
            "Epoch 50/100\n",
            "124/124 [==============================] - 28s 225ms/step - loss: 5.3562e-04\n",
            "Epoch 51/100\n",
            "124/124 [==============================] - 27s 221ms/step - loss: 5.5103e-04\n",
            "Epoch 52/100\n",
            "124/124 [==============================] - 27s 219ms/step - loss: 7.5159e-04\n",
            "Epoch 53/100\n",
            "124/124 [==============================] - 28s 226ms/step - loss: 5.0606e-04\n",
            "Epoch 54/100\n",
            "124/124 [==============================] - 27s 220ms/step - loss: 5.1902e-04\n",
            "Epoch 55/100\n",
            "124/124 [==============================] - 28s 224ms/step - loss: 5.5351e-04\n",
            "Epoch 56/100\n",
            "124/124 [==============================] - 28s 223ms/step - loss: 6.5743e-04\n",
            "Epoch 57/100\n",
            "124/124 [==============================] - 27s 220ms/step - loss: 4.8874e-04\n",
            "Epoch 58/100\n",
            "124/124 [==============================] - 30s 240ms/step - loss: 4.8158e-04\n",
            "Epoch 59/100\n",
            "124/124 [==============================] - 28s 225ms/step - loss: 5.4586e-04\n",
            "Epoch 60/100\n",
            "124/124 [==============================] - 29s 237ms/step - loss: 5.0001e-04\n",
            "Epoch 61/100\n",
            "124/124 [==============================] - 27s 218ms/step - loss: 5.9424e-04\n",
            "Epoch 62/100\n",
            "124/124 [==============================] - 28s 228ms/step - loss: 5.6060e-04\n",
            "Epoch 63/100\n",
            "124/124 [==============================] - 27s 219ms/step - loss: 5.6128e-04\n",
            "Epoch 64/100\n",
            "124/124 [==============================] - 28s 224ms/step - loss: 5.2030e-04\n",
            "Epoch 65/100\n",
            "124/124 [==============================] - 27s 219ms/step - loss: 5.2305e-04\n",
            "Epoch 66/100\n",
            "124/124 [==============================] - 28s 225ms/step - loss: 5.1402e-04\n",
            "Epoch 67/100\n",
            "124/124 [==============================] - 28s 225ms/step - loss: 4.3707e-04\n",
            "Epoch 68/100\n",
            "124/124 [==============================] - 28s 224ms/step - loss: 5.0127e-04\n",
            "Epoch 69/100\n",
            "124/124 [==============================] - 27s 219ms/step - loss: 5.1535e-04\n",
            "Epoch 70/100\n",
            "124/124 [==============================] - 28s 224ms/step - loss: 5.1324e-04\n",
            "Epoch 71/100\n",
            "124/124 [==============================] - 28s 223ms/step - loss: 4.5499e-04\n",
            "Epoch 72/100\n",
            "124/124 [==============================] - 27s 217ms/step - loss: 5.2871e-04\n",
            "Epoch 73/100\n",
            "124/124 [==============================] - 27s 216ms/step - loss: 4.9952e-04\n",
            "Epoch 74/100\n",
            "124/124 [==============================] - 27s 216ms/step - loss: 4.7240e-04\n",
            "Epoch 75/100\n",
            "124/124 [==============================] - 28s 230ms/step - loss: 4.4259e-04\n",
            "Epoch 76/100\n",
            "124/124 [==============================] - 29s 232ms/step - loss: 4.5837e-04\n",
            "Epoch 77/100\n",
            "124/124 [==============================] - 27s 221ms/step - loss: 4.5310e-04\n",
            "Epoch 78/100\n",
            "124/124 [==============================] - 28s 225ms/step - loss: 5.7011e-04\n",
            "Epoch 79/100\n",
            "124/124 [==============================] - 27s 219ms/step - loss: 5.4273e-04\n",
            "Epoch 80/100\n",
            "124/124 [==============================] - 27s 221ms/step - loss: 4.9723e-04\n",
            "Epoch 81/100\n",
            "124/124 [==============================] - 27s 219ms/step - loss: 4.3558e-04\n",
            "Epoch 82/100\n",
            "124/124 [==============================] - 27s 219ms/step - loss: 3.9540e-04\n",
            "Epoch 83/100\n",
            "124/124 [==============================] - 31s 248ms/step - loss: 4.5249e-04\n",
            "Epoch 84/100\n",
            "124/124 [==============================] - 27s 217ms/step - loss: 4.1034e-04\n",
            "Epoch 85/100\n",
            "124/124 [==============================] - 28s 228ms/step - loss: 4.4215e-04\n",
            "Epoch 86/100\n",
            "124/124 [==============================] - 28s 229ms/step - loss: 4.6538e-04\n",
            "Epoch 87/100\n",
            "124/124 [==============================] - 27s 220ms/step - loss: 4.1243e-04\n",
            "Epoch 88/100\n",
            "124/124 [==============================] - 29s 232ms/step - loss: 4.0403e-04\n",
            "Epoch 89/100\n",
            "124/124 [==============================] - 27s 221ms/step - loss: 5.0418e-04\n",
            "Epoch 90/100\n",
            "124/124 [==============================] - 29s 237ms/step - loss: 5.2363e-04\n",
            "Epoch 91/100\n",
            "124/124 [==============================] - 27s 217ms/step - loss: 4.4202e-04\n",
            "Epoch 92/100\n",
            "124/124 [==============================] - 28s 227ms/step - loss: 5.0818e-04\n",
            "Epoch 93/100\n",
            "124/124 [==============================] - 29s 232ms/step - loss: 5.0485e-04\n",
            "Epoch 94/100\n",
            "124/124 [==============================] - 28s 229ms/step - loss: 4.0063e-04\n",
            "Epoch 95/100\n",
            "124/124 [==============================] - 29s 230ms/step - loss: 6.0628e-04\n",
            "Epoch 96/100\n",
            "124/124 [==============================] - 27s 219ms/step - loss: 4.3354e-04\n",
            "Epoch 97/100\n",
            "124/124 [==============================] - 27s 218ms/step - loss: 4.4466e-04\n",
            "Epoch 98/100\n",
            "124/124 [==============================] - 28s 226ms/step - loss: 4.1443e-04\n",
            "Epoch 99/100\n",
            "124/124 [==============================] - 27s 219ms/step - loss: 4.4782e-04\n",
            "Epoch 100/100\n",
            "124/124 [==============================] - 31s 248ms/step - loss: 4.7321e-04\n"
          ],
          "name": "stdout"
        },
        {
          "output_type": "execute_result",
          "data": {
            "text/plain": [
              "<tensorflow.python.keras.callbacks.History at 0x7fa58cc1d780>"
            ]
          },
          "metadata": {
            "tags": []
          },
          "execution_count": 11
        }
      ]
    },
    {
      "cell_type": "code",
      "metadata": {
        "id": "eMO4kFqo_KYA"
      },
      "source": [
        "#Part3- Making The Actual Real Prediction for 2021 January"
      ],
      "execution_count": null,
      "outputs": []
    },
    {
      "cell_type": "code",
      "metadata": {
        "id": "6CDoZH8J_Ub_"
      },
      "source": [
        "dataset_test=pd.read_csv('GOOG _Stock_Test.csv')\n",
        "Actual_stock_Price= dataset_test.iloc[:,1:2].values"
      ],
      "execution_count": null,
      "outputs": []
    },
    {
      "cell_type": "code",
      "metadata": {
        "id": "QaNiJDIM_RT7"
      },
      "source": [
        "dataset_total= pd.concat((dataset_train['Open'] ,dataset_test['Open']),axis=0)\n",
        "inputs=dataset_total[len(dataset_total) -len(dataset_test) -60 :].values\n",
        "inputs=inputs.reshape(-1 ,1)\n",
        "inputs=sc.transform(inputs)\n",
        "X_test=[]\n",
        "for i in range (60,79):\n",
        "    X_test.append(inputs[i-60:i ,0])\n",
        "X_test=np.array(X_test)\n",
        "X_test=np.reshape(X_test ,(X_test.shape[0] ,X_test.shape[1], 1))\n",
        "predicted_stock=sc.inverse_transform(regressor.predict(X_test))"
      ],
      "execution_count": null,
      "outputs": []
    },
    {
      "cell_type": "code",
      "metadata": {
        "colab": {
          "base_uri": "https://localhost:8080/",
          "height": 295
        },
        "id": "hojiKpp1_Xon",
        "outputId": "d33cd0bf-37e2-4f7a-dc05-3d2b7d35ccf8"
      },
      "source": [
        "#Visualizing The Results\n",
        "\n",
        "plt.plot(Actual_stock_Price, color='red' ,label='Actual Stock Price of Jan-2021')\n",
        "plt.plot(predicted_stock,color='blue' , label= 'Predicted Stock Price of Jan 2021')\n",
        "plt.title('Google Stock Price Model')\n",
        "plt.xlabel('Time')\n",
        "plt.ylabel('Stock Prices')\n",
        "plt.legend()\n",
        "plt.show()"
      ],
      "execution_count": null,
      "outputs": [
        {
          "output_type": "display_data",
          "data": {
            "image/png": "[encoded data removed]",
            "text/plain": [
              "<Figure size 432x288 with 1 Axes>"
            ]
          },
          "metadata": {
            "tags": [],
            "needs_background": "light"
          }
        }
      ]
    },
    {
      "cell_type": "code",
      "metadata": {
        "id": "B9xBbdIi_bVc"
      },
      "source": [
        "#Stock prices are random in nature.Based on previous datasets it is difficult to predict the stock price of next day as these events depend\n",
        "#on no.of factors & are absolutely random with no correlation with previous prices,so we can at best predict the trend of the stock price (upward /Downward Trend) that I tried to predict here."
      ],
      "execution_count": null,
      "outputs": []
    },
    {
      "cell_type": "code",
      "metadata": {
        "id": "EJWczRSB_Xx0"
      },
      "source": [
        ""
      ],
      "execution_count": null,
      "outputs": []
    }
  ]
}